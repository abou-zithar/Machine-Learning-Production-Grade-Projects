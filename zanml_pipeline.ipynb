{
  "nbformat": 4,
  "nbformat_minor": 0,
  "metadata": {
    "colab": {
      "provenance": []
    },
    "kernelspec": {
      "name": "python3",
      "display_name": "Python 3"
    },
    "language_info": {
      "name": "python"
    }
  },
  "cells": [
    {
      "cell_type": "code",
      "source": [
        "!pip install \"zenml[server]\" notebook"
      ],
      "metadata": {
        "colab": {
          "base_uri": "https://localhost:8080/"
        },
        "id": "B6i0EK7oQpec",
        "outputId": "ca91db88-1e30-4825-8589-5c692d0a32cf"
      },
      "execution_count": 2,
      "outputs": [
        {
          "output_type": "stream",
          "name": "stdout",
          "text": [
            "Requirement already satisfied: notebook in /usr/local/lib/python3.10/dist-packages (6.5.5)\n",
            "Collecting zenml[server]\n",
            "  Downloading zenml-0.71.0-py3-none-any.whl.metadata (21 kB)\n",
            "Collecting alembic<1.9.0,>=1.8.1 (from zenml[server])\n",
            "  Downloading alembic-1.8.1-py3-none-any.whl.metadata (7.2 kB)\n",
            "Collecting bcrypt==4.0.1 (from zenml[server])\n",
            "  Downloading bcrypt-4.0.1-cp36-abi3-manylinux_2_28_x86_64.whl.metadata (9.0 kB)\n",
            "Collecting click<8.1.4,>=8.0.1 (from zenml[server])\n",
            "  Downloading click-8.1.3-py3-none-any.whl.metadata (3.2 kB)\n",
            "Collecting cloudpickle<3,>=2.0.0 (from zenml[server])\n",
            "  Downloading cloudpickle-2.2.1-py3-none-any.whl.metadata (6.9 kB)\n",
            "Requirement already satisfied: distro<2.0.0,>=1.6.0 in /usr/local/lib/python3.10/dist-packages (from zenml[server]) (1.9.0)\n",
            "Collecting docker<7.2.0,>=7.1.0 (from zenml[server])\n",
            "  Downloading docker-7.1.0-py3-none-any.whl.metadata (3.8 kB)\n",
            "Requirement already satisfied: gitpython<4.0.0,>=3.1.18 in /usr/local/lib/python3.10/dist-packages (from zenml[server]) (3.1.44)\n",
            "Requirement already satisfied: packaging>=24.1 in /usr/local/lib/python3.10/dist-packages (from zenml[server]) (24.2)\n",
            "Collecting passlib<1.8.0,>=1.7.4 (from passlib[bcrypt]<1.8.0,>=1.7.4->zenml[server])\n",
            "  Downloading passlib-1.7.4-py2.py3-none-any.whl.metadata (1.7 kB)\n",
            "Requirement already satisfied: psutil>=5.0.0 in /usr/local/lib/python3.10/dist-packages (from zenml[server]) (5.9.5)\n",
            "Collecting pydantic<2.9,>=2.8 (from zenml[server])\n",
            "  Downloading pydantic-2.8.2-py3-none-any.whl.metadata (125 kB)\n",
            "\u001b[2K     \u001b[90m━━━━━━━━━━━━━━━━━━━━━━━━━━━━━━━━━━━━━━━━\u001b[0m \u001b[32m125.2/125.2 kB\u001b[0m \u001b[31m5.6 MB/s\u001b[0m eta \u001b[36m0:00:00\u001b[0m\n",
            "\u001b[?25hCollecting pydantic-settings (from zenml[server])\n",
            "  Downloading pydantic_settings-2.7.1-py3-none-any.whl.metadata (3.5 kB)\n",
            "Collecting pymysql<1.2.0,>=1.1.1 (from zenml[server])\n",
            "  Downloading PyMySQL-1.1.1-py3-none-any.whl.metadata (4.4 kB)\n",
            "Requirement already satisfied: python-dateutil<3.0.0,>=2.8.1 in /usr/local/lib/python3.10/dist-packages (from zenml[server]) (2.8.2)\n",
            "Requirement already satisfied: pyyaml>=6.0.1 in /usr/local/lib/python3.10/dist-packages (from zenml[server]) (6.0.2)\n",
            "Requirement already satisfied: rich>=12.0.0 in /usr/local/lib/python3.10/dist-packages (from rich[jupyter]>=12.0.0->zenml[server]) (13.9.4)\n",
            "Requirement already satisfied: setuptools in /usr/local/lib/python3.10/dist-packages (from zenml[server]) (75.1.0)\n",
            "Requirement already satisfied: sqlalchemy<3.0.0,>=2.0.0 in /usr/local/lib/python3.10/dist-packages (from zenml[server]) (2.0.36)\n",
            "Collecting sqlalchemy_utils (from zenml[server])\n",
            "  Downloading SQLAlchemy_Utils-0.41.2-py3-none-any.whl.metadata (4.2 kB)\n",
            "Collecting sqlmodel==0.0.18 (from zenml[server])\n",
            "  Downloading sqlmodel-0.0.18-py3-none-any.whl.metadata (9.8 kB)\n",
            "Requirement already satisfied: Jinja2 in /usr/local/lib/python3.10/dist-packages (from zenml[server]) (3.1.5)\n",
            "Collecting fastapi<=0.110,>=0.100 (from zenml[server])\n",
            "  Downloading fastapi-0.110.0-py3-none-any.whl.metadata (25 kB)\n",
            "Collecting ipinfo>=4.4.3 (from zenml[server])\n",
            "  Downloading ipinfo-5.1.1-py3-none-any.whl.metadata (648 bytes)\n",
            "Requirement already satisfied: orjson<3.11.0,>=3.10.0 in /usr/local/lib/python3.10/dist-packages (from zenml[server]) (3.10.13)\n",
            "Collecting pyjwt==2.7.* (from pyjwt[crypto]==2.7.*; extra == \"server\"->zenml[server])\n",
            "  Downloading PyJWT-2.7.0-py3-none-any.whl.metadata (4.1 kB)\n",
            "Collecting python-multipart<0.1.0,>=0.0.9 (from zenml[server])\n",
            "  Downloading python_multipart-0.0.20-py3-none-any.whl.metadata (1.8 kB)\n",
            "Collecting secure<0.4.0,>=0.3.0 (from zenml[server])\n",
            "  Downloading secure-0.3.0-py3-none-any.whl.metadata (5.5 kB)\n",
            "Collecting uvicorn>=0.17.5 (from uvicorn[standard]>=0.17.5; extra == \"server\"->zenml[server])\n",
            "  Downloading uvicorn-0.34.0-py3-none-any.whl.metadata (6.5 kB)\n",
            "Requirement already satisfied: cryptography>=3.4.0 in /usr/local/lib/python3.10/dist-packages (from pyjwt[crypto]==2.7.*; extra == \"server\"->zenml[server]) (43.0.3)\n",
            "Requirement already satisfied: tornado>=6.1 in /usr/local/lib/python3.10/dist-packages (from notebook) (6.3.3)\n",
            "Requirement already satisfied: pyzmq<25,>=17 in /usr/local/lib/python3.10/dist-packages (from notebook) (24.0.1)\n",
            "Requirement already satisfied: argon2-cffi in /usr/local/lib/python3.10/dist-packages (from notebook) (23.1.0)\n",
            "Requirement already satisfied: traitlets>=4.2.1 in /usr/local/lib/python3.10/dist-packages (from notebook) (5.7.1)\n",
            "Requirement already satisfied: jupyter-core>=4.6.1 in /usr/local/lib/python3.10/dist-packages (from notebook) (5.7.2)\n",
            "Requirement already satisfied: jupyter-client<8,>=5.3.4 in /usr/local/lib/python3.10/dist-packages (from notebook) (6.1.12)\n",
            "Requirement already satisfied: ipython-genutils in /usr/local/lib/python3.10/dist-packages (from notebook) (0.2.0)\n",
            "Requirement already satisfied: nbformat in /usr/local/lib/python3.10/dist-packages (from notebook) (5.10.4)\n",
            "Requirement already satisfied: nbconvert>=5 in /usr/local/lib/python3.10/dist-packages (from notebook) (7.16.5)\n",
            "Requirement already satisfied: nest-asyncio>=1.5 in /usr/local/lib/python3.10/dist-packages (from notebook) (1.6.0)\n",
            "Requirement already satisfied: ipykernel in /usr/local/lib/python3.10/dist-packages (from notebook) (5.5.6)\n",
            "Requirement already satisfied: Send2Trash>=1.8.0 in /usr/local/lib/python3.10/dist-packages (from notebook) (1.8.3)\n",
            "Requirement already satisfied: terminado>=0.8.3 in /usr/local/lib/python3.10/dist-packages (from notebook) (0.18.1)\n",
            "Requirement already satisfied: prometheus-client in /usr/local/lib/python3.10/dist-packages (from notebook) (0.21.1)\n",
            "Requirement already satisfied: nbclassic>=0.4.7 in /usr/local/lib/python3.10/dist-packages (from notebook) (1.1.0)\n",
            "Collecting Mako (from alembic<1.9.0,>=1.8.1->zenml[server])\n",
            "  Downloading Mako-1.3.8-py3-none-any.whl.metadata (2.9 kB)\n",
            "Requirement already satisfied: requests>=2.26.0 in /usr/local/lib/python3.10/dist-packages (from docker<7.2.0,>=7.1.0->zenml[server]) (2.32.3)\n",
            "Requirement already satisfied: urllib3>=1.26.0 in /usr/local/lib/python3.10/dist-packages (from docker<7.2.0,>=7.1.0->zenml[server]) (2.3.0)\n",
            "Collecting starlette<0.37.0,>=0.36.3 (from fastapi<=0.110,>=0.100->zenml[server])\n",
            "  Downloading starlette-0.36.3-py3-none-any.whl.metadata (5.9 kB)\n",
            "Requirement already satisfied: typing-extensions>=4.8.0 in /usr/local/lib/python3.10/dist-packages (from fastapi<=0.110,>=0.100->zenml[server]) (4.12.2)\n",
            "Requirement already satisfied: gitdb<5,>=4.0.1 in /usr/local/lib/python3.10/dist-packages (from gitpython<4.0.0,>=3.1.18->zenml[server]) (4.0.12)\n",
            "Requirement already satisfied: cachetools in /usr/local/lib/python3.10/dist-packages (from ipinfo>=4.4.3->zenml[server]) (5.5.0)\n",
            "Requirement already satisfied: aiohttp<=4 in /usr/local/lib/python3.10/dist-packages (from ipinfo>=4.4.3->zenml[server]) (3.11.11)\n",
            "Requirement already satisfied: platformdirs>=2.5 in /usr/local/lib/python3.10/dist-packages (from jupyter-core>=4.6.1->notebook) (4.3.6)\n",
            "Requirement already satisfied: notebook-shim>=0.2.3 in /usr/local/lib/python3.10/dist-packages (from nbclassic>=0.4.7->notebook) (0.2.4)\n",
            "Requirement already satisfied: beautifulsoup4 in /usr/local/lib/python3.10/dist-packages (from nbconvert>=5->notebook) (4.12.3)\n",
            "Requirement already satisfied: bleach!=5.0.0 in /usr/local/lib/python3.10/dist-packages (from bleach[css]!=5.0.0->nbconvert>=5->notebook) (6.2.0)\n",
            "Requirement already satisfied: defusedxml in /usr/local/lib/python3.10/dist-packages (from nbconvert>=5->notebook) (0.7.1)\n",
            "Requirement already satisfied: jupyterlab-pygments in /usr/local/lib/python3.10/dist-packages (from nbconvert>=5->notebook) (0.3.0)\n",
            "Requirement already satisfied: markupsafe>=2.0 in /usr/local/lib/python3.10/dist-packages (from nbconvert>=5->notebook) (3.0.2)\n",
            "Requirement already satisfied: mistune<4,>=2.0.3 in /usr/local/lib/python3.10/dist-packages (from nbconvert>=5->notebook) (3.1.0)\n",
            "Requirement already satisfied: nbclient>=0.5.0 in /usr/local/lib/python3.10/dist-packages (from nbconvert>=5->notebook) (0.10.2)\n",
            "Requirement already satisfied: pandocfilters>=1.4.1 in /usr/local/lib/python3.10/dist-packages (from nbconvert>=5->notebook) (1.5.1)\n",
            "Requirement already satisfied: pygments>=2.4.1 in /usr/local/lib/python3.10/dist-packages (from nbconvert>=5->notebook) (2.18.0)\n",
            "Requirement already satisfied: fastjsonschema>=2.15 in /usr/local/lib/python3.10/dist-packages (from nbformat->notebook) (2.21.1)\n",
            "Requirement already satisfied: jsonschema>=2.6 in /usr/local/lib/python3.10/dist-packages (from nbformat->notebook) (4.23.0)\n",
            "Requirement already satisfied: annotated-types>=0.4.0 in /usr/local/lib/python3.10/dist-packages (from pydantic<2.9,>=2.8->zenml[server]) (0.7.0)\n",
            "Collecting pydantic-core==2.20.1 (from pydantic<2.9,>=2.8->zenml[server])\n",
            "  Downloading pydantic_core-2.20.1-cp310-cp310-manylinux_2_17_x86_64.manylinux2014_x86_64.whl.metadata (6.6 kB)\n",
            "Requirement already satisfied: six>=1.5 in /usr/local/lib/python3.10/dist-packages (from python-dateutil<3.0.0,>=2.8.1->zenml[server]) (1.17.0)\n",
            "Requirement already satisfied: markdown-it-py>=2.2.0 in /usr/local/lib/python3.10/dist-packages (from rich>=12.0.0->rich[jupyter]>=12.0.0->zenml[server]) (3.0.0)\n",
            "Requirement already satisfied: ipywidgets<9,>=7.5.1 in /usr/local/lib/python3.10/dist-packages (from rich[jupyter]>=12.0.0->zenml[server]) (7.7.1)\n",
            "Requirement already satisfied: greenlet!=0.4.17 in /usr/local/lib/python3.10/dist-packages (from sqlalchemy<3.0.0,>=2.0.0->zenml[server]) (3.1.1)\n",
            "Requirement already satisfied: ptyprocess in /usr/local/lib/python3.10/dist-packages (from terminado>=0.8.3->notebook) (0.7.0)\n",
            "Requirement already satisfied: h11>=0.8 in /usr/local/lib/python3.10/dist-packages (from uvicorn>=0.17.5->uvicorn[standard]>=0.17.5; extra == \"server\"->zenml[server]) (0.14.0)\n",
            "Collecting httptools>=0.6.3 (from uvicorn[standard]>=0.17.5; extra == \"server\"->zenml[server])\n",
            "  Downloading httptools-0.6.4-cp310-cp310-manylinux_2_5_x86_64.manylinux1_x86_64.manylinux_2_17_x86_64.manylinux2014_x86_64.whl.metadata (3.6 kB)\n",
            "Collecting python-dotenv>=0.13 (from uvicorn[standard]>=0.17.5; extra == \"server\"->zenml[server])\n",
            "  Downloading python_dotenv-1.0.1-py3-none-any.whl.metadata (23 kB)\n",
            "Collecting uvloop!=0.15.0,!=0.15.1,>=0.14.0 (from uvicorn[standard]>=0.17.5; extra == \"server\"->zenml[server])\n",
            "  Downloading uvloop-0.21.0-cp310-cp310-manylinux_2_17_x86_64.manylinux2014_x86_64.whl.metadata (4.9 kB)\n",
            "Collecting watchfiles>=0.13 (from uvicorn[standard]>=0.17.5; extra == \"server\"->zenml[server])\n",
            "  Downloading watchfiles-1.0.4-cp310-cp310-manylinux_2_17_x86_64.manylinux2014_x86_64.whl.metadata (4.9 kB)\n",
            "Requirement already satisfied: websockets>=10.4 in /usr/local/lib/python3.10/dist-packages (from uvicorn[standard]>=0.17.5; extra == \"server\"->zenml[server]) (14.1)\n",
            "Requirement already satisfied: argon2-cffi-bindings in /usr/local/lib/python3.10/dist-packages (from argon2-cffi->notebook) (21.2.0)\n",
            "Requirement already satisfied: ipython>=5.0.0 in /usr/local/lib/python3.10/dist-packages (from ipykernel->notebook) (7.34.0)\n",
            "Requirement already satisfied: aiohappyeyeballs>=2.3.0 in /usr/local/lib/python3.10/dist-packages (from aiohttp<=4->ipinfo>=4.4.3->zenml[server]) (2.4.4)\n",
            "Requirement already satisfied: aiosignal>=1.1.2 in /usr/local/lib/python3.10/dist-packages (from aiohttp<=4->ipinfo>=4.4.3->zenml[server]) (1.3.2)\n",
            "Requirement already satisfied: async-timeout<6.0,>=4.0 in /usr/local/lib/python3.10/dist-packages (from aiohttp<=4->ipinfo>=4.4.3->zenml[server]) (4.0.3)\n",
            "Requirement already satisfied: attrs>=17.3.0 in /usr/local/lib/python3.10/dist-packages (from aiohttp<=4->ipinfo>=4.4.3->zenml[server]) (24.3.0)\n",
            "Requirement already satisfied: frozenlist>=1.1.1 in /usr/local/lib/python3.10/dist-packages (from aiohttp<=4->ipinfo>=4.4.3->zenml[server]) (1.5.0)\n",
            "Requirement already satisfied: multidict<7.0,>=4.5 in /usr/local/lib/python3.10/dist-packages (from aiohttp<=4->ipinfo>=4.4.3->zenml[server]) (6.1.0)\n",
            "Requirement already satisfied: propcache>=0.2.0 in /usr/local/lib/python3.10/dist-packages (from aiohttp<=4->ipinfo>=4.4.3->zenml[server]) (0.2.1)\n",
            "Requirement already satisfied: yarl<2.0,>=1.17.0 in /usr/local/lib/python3.10/dist-packages (from aiohttp<=4->ipinfo>=4.4.3->zenml[server]) (1.18.3)\n",
            "Requirement already satisfied: webencodings in /usr/local/lib/python3.10/dist-packages (from bleach!=5.0.0->bleach[css]!=5.0.0->nbconvert>=5->notebook) (0.5.1)\n",
            "Requirement already satisfied: tinycss2<1.5,>=1.1.0 in /usr/local/lib/python3.10/dist-packages (from bleach[css]!=5.0.0->nbconvert>=5->notebook) (1.4.0)\n",
            "Requirement already satisfied: cffi>=1.12 in /usr/local/lib/python3.10/dist-packages (from cryptography>=3.4.0->pyjwt[crypto]==2.7.*; extra == \"server\"->zenml[server]) (1.17.1)\n",
            "Requirement already satisfied: smmap<6,>=3.0.1 in /usr/local/lib/python3.10/dist-packages (from gitdb<5,>=4.0.1->gitpython<4.0.0,>=3.1.18->zenml[server]) (5.0.2)\n",
            "Collecting jedi>=0.16 (from ipython>=5.0.0->ipykernel->notebook)\n",
            "  Downloading jedi-0.19.2-py2.py3-none-any.whl.metadata (22 kB)\n",
            "Requirement already satisfied: decorator in /usr/local/lib/python3.10/dist-packages (from ipython>=5.0.0->ipykernel->notebook) (4.4.2)\n",
            "Requirement already satisfied: pickleshare in /usr/local/lib/python3.10/dist-packages (from ipython>=5.0.0->ipykernel->notebook) (0.7.5)\n",
            "Requirement already satisfied: prompt-toolkit!=3.0.0,!=3.0.1,<3.1.0,>=2.0.0 in /usr/local/lib/python3.10/dist-packages (from ipython>=5.0.0->ipykernel->notebook) (3.0.48)\n",
            "Requirement already satisfied: backcall in /usr/local/lib/python3.10/dist-packages (from ipython>=5.0.0->ipykernel->notebook) (0.2.0)\n",
            "Requirement already satisfied: matplotlib-inline in /usr/local/lib/python3.10/dist-packages (from ipython>=5.0.0->ipykernel->notebook) (0.1.7)\n",
            "Requirement already satisfied: pexpect>4.3 in /usr/local/lib/python3.10/dist-packages (from ipython>=5.0.0->ipykernel->notebook) (4.9.0)\n",
            "Requirement already satisfied: widgetsnbextension~=3.6.0 in /usr/local/lib/python3.10/dist-packages (from ipywidgets<9,>=7.5.1->rich[jupyter]>=12.0.0->zenml[server]) (3.6.10)\n",
            "Requirement already satisfied: jupyterlab-widgets>=1.0.0 in /usr/local/lib/python3.10/dist-packages (from ipywidgets<9,>=7.5.1->rich[jupyter]>=12.0.0->zenml[server]) (3.0.13)\n",
            "Requirement already satisfied: jsonschema-specifications>=2023.03.6 in /usr/local/lib/python3.10/dist-packages (from jsonschema>=2.6->nbformat->notebook) (2024.10.1)\n",
            "Requirement already satisfied: referencing>=0.28.4 in /usr/local/lib/python3.10/dist-packages (from jsonschema>=2.6->nbformat->notebook) (0.35.1)\n",
            "Requirement already satisfied: rpds-py>=0.7.1 in /usr/local/lib/python3.10/dist-packages (from jsonschema>=2.6->nbformat->notebook) (0.22.3)\n",
            "Requirement already satisfied: mdurl~=0.1 in /usr/local/lib/python3.10/dist-packages (from markdown-it-py>=2.2.0->rich>=12.0.0->rich[jupyter]>=12.0.0->zenml[server]) (0.1.2)\n",
            "Requirement already satisfied: jupyter-server<3,>=1.8 in /usr/local/lib/python3.10/dist-packages (from notebook-shim>=0.2.3->nbclassic>=0.4.7->notebook) (1.24.0)\n",
            "Requirement already satisfied: charset-normalizer<4,>=2 in /usr/local/lib/python3.10/dist-packages (from requests>=2.26.0->docker<7.2.0,>=7.1.0->zenml[server]) (3.4.1)\n",
            "Requirement already satisfied: idna<4,>=2.5 in /usr/local/lib/python3.10/dist-packages (from requests>=2.26.0->docker<7.2.0,>=7.1.0->zenml[server]) (3.10)\n",
            "Requirement already satisfied: certifi>=2017.4.17 in /usr/local/lib/python3.10/dist-packages (from requests>=2.26.0->docker<7.2.0,>=7.1.0->zenml[server]) (2024.12.14)\n",
            "Requirement already satisfied: anyio<5,>=3.4.0 in /usr/local/lib/python3.10/dist-packages (from starlette<0.37.0,>=0.36.3->fastapi<=0.110,>=0.100->zenml[server]) (3.7.1)\n",
            "Requirement already satisfied: soupsieve>1.2 in /usr/local/lib/python3.10/dist-packages (from beautifulsoup4->nbconvert>=5->notebook) (2.6)\n",
            "Requirement already satisfied: sniffio>=1.1 in /usr/local/lib/python3.10/dist-packages (from anyio<5,>=3.4.0->starlette<0.37.0,>=0.36.3->fastapi<=0.110,>=0.100->zenml[server]) (1.3.1)\n",
            "Requirement already satisfied: exceptiongroup in /usr/local/lib/python3.10/dist-packages (from anyio<5,>=3.4.0->starlette<0.37.0,>=0.36.3->fastapi<=0.110,>=0.100->zenml[server]) (1.2.2)\n",
            "Requirement already satisfied: pycparser in /usr/local/lib/python3.10/dist-packages (from cffi>=1.12->cryptography>=3.4.0->pyjwt[crypto]==2.7.*; extra == \"server\"->zenml[server]) (2.22)\n",
            "Requirement already satisfied: parso<0.9.0,>=0.8.4 in /usr/local/lib/python3.10/dist-packages (from jedi>=0.16->ipython>=5.0.0->ipykernel->notebook) (0.8.4)\n",
            "Requirement already satisfied: websocket-client in /usr/local/lib/python3.10/dist-packages (from jupyter-server<3,>=1.8->notebook-shim>=0.2.3->nbclassic>=0.4.7->notebook) (1.8.0)\n",
            "Requirement already satisfied: wcwidth in /usr/local/lib/python3.10/dist-packages (from prompt-toolkit!=3.0.0,!=3.0.1,<3.1.0,>=2.0.0->ipython>=5.0.0->ipykernel->notebook) (0.2.13)\n",
            "Downloading bcrypt-4.0.1-cp36-abi3-manylinux_2_28_x86_64.whl (593 kB)\n",
            "\u001b[2K   \u001b[90m━━━━━━━━━━━━━━━━━━━━━━━━━━━━━━━━━━━━━━━━\u001b[0m \u001b[32m593.7/593.7 kB\u001b[0m \u001b[31m15.7 MB/s\u001b[0m eta \u001b[36m0:00:00\u001b[0m\n",
            "\u001b[?25hDownloading PyJWT-2.7.0-py3-none-any.whl (22 kB)\n",
            "Downloading sqlmodel-0.0.18-py3-none-any.whl (26 kB)\n",
            "Downloading alembic-1.8.1-py3-none-any.whl (209 kB)\n",
            "\u001b[2K   \u001b[90m━━━━━━━━━━━━━━━━━━━━━━━━━━━━━━━━━━━━━━━━\u001b[0m \u001b[32m209.8/209.8 kB\u001b[0m \u001b[31m15.8 MB/s\u001b[0m eta \u001b[36m0:00:00\u001b[0m\n",
            "\u001b[?25hDownloading click-8.1.3-py3-none-any.whl (96 kB)\n",
            "\u001b[2K   \u001b[90m━━━━━━━━━━━━━━━━━━━━━━━━━━━━━━━━━━━━━━━━\u001b[0m \u001b[32m96.6/96.6 kB\u001b[0m \u001b[31m7.1 MB/s\u001b[0m eta \u001b[36m0:00:00\u001b[0m\n",
            "\u001b[?25hDownloading cloudpickle-2.2.1-py3-none-any.whl (25 kB)\n",
            "Downloading docker-7.1.0-py3-none-any.whl (147 kB)\n",
            "\u001b[2K   \u001b[90m━━━━━━━━━━━━━━━━━━━━━━━━━━━━━━━━━━━━━━━━\u001b[0m \u001b[32m147.8/147.8 kB\u001b[0m \u001b[31m11.4 MB/s\u001b[0m eta \u001b[36m0:00:00\u001b[0m\n",
            "\u001b[?25hDownloading fastapi-0.110.0-py3-none-any.whl (92 kB)\n",
            "\u001b[2K   \u001b[90m━━━━━━━━━━━━━━━━━━━━━━━━━━━━━━━━━━━━━━━━\u001b[0m \u001b[32m92.1/92.1 kB\u001b[0m \u001b[31m6.3 MB/s\u001b[0m eta \u001b[36m0:00:00\u001b[0m\n",
            "\u001b[?25hDownloading ipinfo-5.1.1-py3-none-any.whl (24 kB)\n",
            "Downloading passlib-1.7.4-py2.py3-none-any.whl (525 kB)\n",
            "\u001b[2K   \u001b[90m━━━━━━━━━━━━━━━━━━━━━━━━━━━━━━━━━━━━━━━━\u001b[0m \u001b[32m525.6/525.6 kB\u001b[0m \u001b[31m29.4 MB/s\u001b[0m eta \u001b[36m0:00:00\u001b[0m\n",
            "\u001b[?25hDownloading pydantic-2.8.2-py3-none-any.whl (423 kB)\n",
            "\u001b[2K   \u001b[90m━━━━━━━━━━━━━━━━━━━━━━━━━━━━━━━━━━━━━━━━\u001b[0m \u001b[32m423.9/423.9 kB\u001b[0m \u001b[31m28.3 MB/s\u001b[0m eta \u001b[36m0:00:00\u001b[0m\n",
            "\u001b[?25hDownloading pydantic_core-2.20.1-cp310-cp310-manylinux_2_17_x86_64.manylinux2014_x86_64.whl (2.1 MB)\n",
            "\u001b[2K   \u001b[90m━━━━━━━━━━━━━━━━━━━━━━━━━━━━━━━━━━━━━━━━\u001b[0m \u001b[32m2.1/2.1 MB\u001b[0m \u001b[31m55.4 MB/s\u001b[0m eta \u001b[36m0:00:00\u001b[0m\n",
            "\u001b[?25hDownloading PyMySQL-1.1.1-py3-none-any.whl (44 kB)\n",
            "\u001b[2K   \u001b[90m━━━━━━━━━━━━━━━━━━━━━━━━━━━━━━━━━━━━━━━━\u001b[0m \u001b[32m45.0/45.0 kB\u001b[0m \u001b[31m3.2 MB/s\u001b[0m eta \u001b[36m0:00:00\u001b[0m\n",
            "\u001b[?25hDownloading python_multipart-0.0.20-py3-none-any.whl (24 kB)\n",
            "Downloading secure-0.3.0-py3-none-any.whl (9.6 kB)\n",
            "Downloading uvicorn-0.34.0-py3-none-any.whl (62 kB)\n",
            "\u001b[2K   \u001b[90m━━━━━━━━━━━━━━━━━━━━━━━━━━━━━━━━━━━━━━━━\u001b[0m \u001b[32m62.3/62.3 kB\u001b[0m \u001b[31m5.2 MB/s\u001b[0m eta \u001b[36m0:00:00\u001b[0m\n",
            "\u001b[?25hDownloading pydantic_settings-2.7.1-py3-none-any.whl (29 kB)\n",
            "Downloading SQLAlchemy_Utils-0.41.2-py3-none-any.whl (93 kB)\n",
            "\u001b[2K   \u001b[90m━━━━━━━━━━━━━━━━━━━━━━━━━━━━━━━━━━━━━━━━\u001b[0m \u001b[32m93.1/93.1 kB\u001b[0m \u001b[31m7.3 MB/s\u001b[0m eta \u001b[36m0:00:00\u001b[0m\n",
            "\u001b[?25hDownloading zenml-0.71.0-py3-none-any.whl (4.0 MB)\n",
            "\u001b[2K   \u001b[90m━━━━━━━━━━━━━━━━━━━━━━━━━━━━━━━━━━━━━━━━\u001b[0m \u001b[32m4.0/4.0 MB\u001b[0m \u001b[31m76.8 MB/s\u001b[0m eta \u001b[36m0:00:00\u001b[0m\n",
            "\u001b[?25hDownloading httptools-0.6.4-cp310-cp310-manylinux_2_5_x86_64.manylinux1_x86_64.manylinux_2_17_x86_64.manylinux2014_x86_64.whl (442 kB)\n",
            "\u001b[2K   \u001b[90m━━━━━━━━━━━━━━━━━━━━━━━━━━━━━━━━━━━━━━━━\u001b[0m \u001b[32m442.1/442.1 kB\u001b[0m \u001b[31m28.6 MB/s\u001b[0m eta \u001b[36m0:00:00\u001b[0m\n",
            "\u001b[?25hDownloading python_dotenv-1.0.1-py3-none-any.whl (19 kB)\n",
            "Downloading starlette-0.36.3-py3-none-any.whl (71 kB)\n",
            "\u001b[2K   \u001b[90m━━━━━━━━━━━━━━━━━━━━━━━━━━━━━━━━━━━━━━━━\u001b[0m \u001b[32m71.5/71.5 kB\u001b[0m \u001b[31m5.2 MB/s\u001b[0m eta \u001b[36m0:00:00\u001b[0m\n",
            "\u001b[?25hDownloading uvloop-0.21.0-cp310-cp310-manylinux_2_17_x86_64.manylinux2014_x86_64.whl (3.8 MB)\n",
            "\u001b[2K   \u001b[90m━━━━━━━━━━━━━━━━━━━━━━━━━━━━━━━━━━━━━━━━\u001b[0m \u001b[32m3.8/3.8 MB\u001b[0m \u001b[31m73.0 MB/s\u001b[0m eta \u001b[36m0:00:00\u001b[0m\n",
            "\u001b[?25hDownloading watchfiles-1.0.4-cp310-cp310-manylinux_2_17_x86_64.manylinux2014_x86_64.whl (452 kB)\n",
            "\u001b[2K   \u001b[90m━━━━━━━━━━━━━━━━━━━━━━━━━━━━━━━━━━━━━━━━\u001b[0m \u001b[32m452.9/452.9 kB\u001b[0m \u001b[31m28.8 MB/s\u001b[0m eta \u001b[36m0:00:00\u001b[0m\n",
            "\u001b[?25hDownloading Mako-1.3.8-py3-none-any.whl (78 kB)\n",
            "\u001b[2K   \u001b[90m━━━━━━━━━━━━━━━━━━━━━━━━━━━━━━━━━━━━━━━━\u001b[0m \u001b[32m78.6/78.6 kB\u001b[0m \u001b[31m5.7 MB/s\u001b[0m eta \u001b[36m0:00:00\u001b[0m\n",
            "\u001b[?25hDownloading jedi-0.19.2-py2.py3-none-any.whl (1.6 MB)\n",
            "\u001b[2K   \u001b[90m━━━━━━━━━━━━━━━━━━━━━━━━━━━━━━━━━━━━━━━━\u001b[0m \u001b[32m1.6/1.6 MB\u001b[0m \u001b[31m58.6 MB/s\u001b[0m eta \u001b[36m0:00:00\u001b[0m\n",
            "\u001b[?25hInstalling collected packages: passlib, uvloop, secure, python-multipart, python-dotenv, pymysql, pyjwt, pydantic-core, Mako, jedi, httptools, cloudpickle, click, bcrypt, watchfiles, uvicorn, starlette, sqlalchemy_utils, pydantic, docker, alembic, sqlmodel, pydantic-settings, fastapi, ipinfo, zenml\n",
            "  Attempting uninstall: pyjwt\n",
            "    Found existing installation: PyJWT 2.10.1\n",
            "    Uninstalling PyJWT-2.10.1:\n",
            "      Successfully uninstalled PyJWT-2.10.1\n",
            "  Attempting uninstall: pydantic-core\n",
            "    Found existing installation: pydantic_core 2.27.2\n",
            "    Uninstalling pydantic_core-2.27.2:\n",
            "      Successfully uninstalled pydantic_core-2.27.2\n",
            "  Attempting uninstall: cloudpickle\n",
            "    Found existing installation: cloudpickle 3.1.0\n",
            "    Uninstalling cloudpickle-3.1.0:\n",
            "      Successfully uninstalled cloudpickle-3.1.0\n",
            "  Attempting uninstall: click\n",
            "    Found existing installation: click 8.1.8\n",
            "    Uninstalling click-8.1.8:\n",
            "      Successfully uninstalled click-8.1.8\n",
            "  Attempting uninstall: pydantic\n",
            "    Found existing installation: pydantic 2.10.4\n",
            "    Uninstalling pydantic-2.10.4:\n",
            "      Successfully uninstalled pydantic-2.10.4\n",
            "\u001b[31mERROR: pip's dependency resolver does not currently take into account all the packages that are installed. This behaviour is the source of the following dependency conflicts.\n",
            "dask 2024.10.0 requires cloudpickle>=3.0.0, but you have cloudpickle 2.2.1 which is incompatible.\u001b[0m\u001b[31m\n",
            "\u001b[0mSuccessfully installed Mako-1.3.8 alembic-1.8.1 bcrypt-4.0.1 click-8.1.3 cloudpickle-2.2.1 docker-7.1.0 fastapi-0.110.0 httptools-0.6.4 ipinfo-5.1.1 jedi-0.19.2 passlib-1.7.4 pydantic-2.8.2 pydantic-core-2.20.1 pydantic-settings-2.7.1 pyjwt-2.7.0 pymysql-1.1.1 python-dotenv-1.0.1 python-multipart-0.0.20 secure-0.3.0 sqlalchemy_utils-0.41.2 sqlmodel-0.0.18 starlette-0.36.3 uvicorn-0.34.0 uvloop-0.21.0 watchfiles-1.0.4 zenml-0.71.0\n"
          ]
        }
      ]
    },
    {
      "cell_type": "code",
      "execution_count": 3,
      "metadata": {
        "colab": {
          "base_uri": "https://localhost:8080/"
        },
        "collapsed": true,
        "id": "0Jv25ZvsQV83",
        "outputId": "3161e028-b533-4798-95e7-6484635055cb"
      },
      "outputs": [
        {
          "output_type": "stream",
          "name": "stdout",
          "text": [
            "\u001b[?25l\u001b[1;35mInitializing the ZenML global configuration version to 0.71.0\u001b[0m\n",
            "\u001b[1;35mCreating database tables\u001b[0m\n",
            "\u001b[32m⠋\u001b[0m Initializing ZenML repository at /content.\n",
            "\u001b[2K\u001b[1A\u001b[2K\u001b[32m⠙\u001b[0m Initializing ZenML repository at /content.\n",
            "\u001b[2K\u001b[1A\u001b[2K\u001b[32m⠹\u001b[0m Initializing ZenML repository at /content.\n",
            "\u001b[2K\u001b[1A\u001b[2K\u001b[32m⠸\u001b[0m Initializing ZenML repository at /content.\n",
            "\u001b[2K\u001b[1A\u001b[2K\u001b[32m⠼\u001b[0m Initializing ZenML repository at /content.\n",
            "\u001b[2K\u001b[1A\u001b[2K\u001b[32m⠴\u001b[0m Initializing ZenML repository at /content.\n",
            "\u001b[2K\u001b[1A\u001b[2K\u001b[32m⠦\u001b[0m Initializing ZenML repository at /content.\n",
            "\u001b[2K\u001b[1A\u001b[2K\u001b[32m⠧\u001b[0m Initializing ZenML repository at /content.\n",
            "\u001b[2K\u001b[1A\u001b[2K\u001b[32m⠇\u001b[0m Initializing ZenML repository at /content.\n",
            "\u001b[2K\u001b[1A\u001b[2K\u001b[32m⠙\u001b[0m Initializing ZenML repository at /content.\n",
            "\u001b[2K\u001b[1A\u001b[2K\u001b[32m⠸\u001b[0m Initializing ZenML repository at /content.\n",
            "\u001b[2K\u001b[1A\u001b[2K\u001b[32m⠼\u001b[0m Initializing ZenML repository at /content.\n",
            "\u001b[2K\u001b[1A\u001b[2K\u001b[32m⠴\u001b[0m Initializing ZenML repository at /content.\n",
            "\u001b[2K\u001b[1A\u001b[2K\u001b[32m⠦\u001b[0m Initializing ZenML repository at /content.\n",
            "\u001b[2K\u001b[1A\u001b[2K\u001b[32m⠧\u001b[0m Initializing ZenML repository at /content.\n",
            "\u001b[2K\u001b[1A\u001b[2K\u001b[32m⠇\u001b[0m Initializing ZenML repository at /content.\n",
            "\u001b[2K\u001b[1A\u001b[2K\u001b[32m⠏\u001b[0m Initializing ZenML repository at /content.\n",
            "\u001b[2K\u001b[1A\u001b[2K\u001b[32m⠋\u001b[0m Initializing ZenML repository at /content.\n",
            "\u001b[2K\u001b[1A\u001b[2K\u001b[32m⠙\u001b[0m Initializing ZenML repository at /content.\n",
            "\u001b[2K\u001b[1A\u001b[2K\u001b[32m⠹\u001b[0m Initializing ZenML repository at /content.\n",
            "\u001b[2K\u001b[1A\u001b[2K\u001b[32m⠸\u001b[0m Initializing ZenML repository at /content.\n",
            "\u001b[2K\u001b[1A\u001b[2K\u001b[32m⠼\u001b[0m Initializing ZenML repository at /content.\n",
            "\u001b[2K\u001b[1A\u001b[2K\u001b[32m⠴\u001b[0m Initializing ZenML repository at /content.\n",
            "\u001b[2K\u001b[1A\u001b[2K\u001b[32m⠦\u001b[0m Initializing ZenML repository at /content.\n",
            "\u001b[2K\u001b[1A\u001b[2K\u001b[32m⠧\u001b[0m Initializing ZenML repository at /content.\n",
            "\u001b[2K\u001b[1A\u001b[2K\u001b[32m⠇\u001b[0m Initializing ZenML repository at /content.\n",
            "\u001b[2K\u001b[1A\u001b[2K\u001b[32m⠏\u001b[0m Initializing ZenML repository at /content.\n",
            "\u001b[2K\u001b[1A\u001b[2K\u001b[32m⠋\u001b[0m Initializing ZenML repository at /content.\n",
            "\u001b[2K\u001b[1A\u001b[2K\u001b[32m⠙\u001b[0m Initializing ZenML repository at /content.\n",
            "\u001b[2K\u001b[1A\u001b[2K\u001b[32m⠹\u001b[0m Initializing ZenML repository at /content.\n",
            "\u001b[2K\u001b[1A\u001b[2K\u001b[32m⠸\u001b[0m Initializing ZenML repository at /content.\n",
            "\u001b[2K\u001b[1A\u001b[2K\u001b[32m⠼\u001b[0m Initializing ZenML repository at /content.\n",
            "\u001b[2K\u001b[1A\u001b[2K\u001b[32m⠴\u001b[0m Initializing ZenML repository at /content.\n",
            "\u001b[2K\u001b[1A\u001b[2K\u001b[32m⠦\u001b[0m Initializing ZenML repository at /content.\n",
            "\u001b[2K\u001b[1A\u001b[2K\u001b[32m⠧\u001b[0m Initializing ZenML repository at /content.\n",
            "\u001b[2K\u001b[1A\u001b[2K\u001b[32m⠇\u001b[0m Initializing ZenML repository at /content.\n",
            "\u001b[2K\u001b[1A\u001b[2K\u001b[32m⠏\u001b[0m Initializing ZenML repository at /content.\n",
            "\u001b[2K\u001b[1A\u001b[2K\u001b[32m⠋\u001b[0m Initializing ZenML repository at /content.\n",
            "\u001b[2K\u001b[1A\u001b[2K\u001b[32m⠙\u001b[0m Initializing ZenML repository at /content.\n",
            "\u001b[2K\u001b[1A\u001b[2K\u001b[32m⠹\u001b[0m Initializing ZenML repository at /content.\n",
            "\u001b[2K\u001b[1A\u001b[2K\u001b[32m⠸\u001b[0m Initializing ZenML repository at /content.\n",
            "\u001b[2K\u001b[1A\u001b[2K\u001b[32m⠼\u001b[0m Initializing ZenML repository at /content.\n",
            "\u001b[2K\u001b[1A\u001b[2K\u001b[32m⠴\u001b[0m Initializing ZenML repository at /content.\n",
            "\u001b[2K\u001b[1A\u001b[2K\u001b[32m⠦\u001b[0m Initializing ZenML repository at /content.\n",
            "\u001b[2K\u001b[1A\u001b[2K\u001b[32m⠧\u001b[0m Initializing ZenML repository at /content.\n",
            "\u001b[2K\u001b[1A\u001b[2K\u001b[32m⠇\u001b[0m Initializing ZenML repository at /content.\n",
            "\u001b[2K\u001b[1A\u001b[2K\u001b[32m⠏\u001b[0m Initializing ZenML repository at /content.\n",
            "\u001b[2K\u001b[1A\u001b[2K\u001b[32m⠋\u001b[0m Initializing ZenML repository at /content.\n",
            "\u001b[2K\u001b[1A\u001b[2K\u001b[32m⠙\u001b[0m Initializing ZenML repository at /content.\n",
            "\u001b[2K\u001b[1A\u001b[2K\u001b[32m⠹\u001b[0m Initializing ZenML repository at /content.\n",
            "\u001b[2K\u001b[1A\u001b[2K\u001b[32m⠼\u001b[0m Initializing ZenML repository at /content.\n",
            "\u001b[2K\u001b[1A\u001b[2K\u001b[32m⠴\u001b[0m Initializing ZenML repository at /content.\n",
            "\u001b[2K\u001b[1A\u001b[2K\u001b[32m⠦\u001b[0m Initializing ZenML repository at /content.\n",
            "\u001b[2K\u001b[1A\u001b[2K\u001b[32m⠧\u001b[0m Initializing ZenML repository at /content.\n",
            "\u001b[2K\u001b[1A\u001b[2K\u001b[32m⠇\u001b[0m Initializing ZenML repository at /content.\n",
            "\u001b[2K\u001b[1A\u001b[2K\u001b[32m⠏\u001b[0m Initializing ZenML repository at /content.\n",
            "\u001b[2K\u001b[1A\u001b[2K\u001b[32m⠋\u001b[0m Initializing ZenML repository at /content.\n",
            "\u001b[2K\u001b[1A\u001b[2K\u001b[32m⠙\u001b[0m Initializing ZenML repository at /content.\n",
            "\u001b[2K\u001b[1A\u001b[2K\u001b[32m⠹\u001b[0m Initializing ZenML repository at /content.\n",
            "\u001b[2K\u001b[1A\u001b[2K\u001b[32m⠸\u001b[0m Initializing ZenML repository at /content.\n",
            "\u001b[2K\u001b[1A\u001b[2K\u001b[32m⠼\u001b[0m Initializing ZenML repository at /content.\n",
            "\u001b[2K\u001b[1A\u001b[2K\u001b[32m⠴\u001b[0m Initializing ZenML repository at /content.\n",
            "\u001b[2K\u001b[1A\u001b[2K\u001b[32m⠦\u001b[0m Initializing ZenML repository at /content.\n",
            "\u001b[2K\u001b[1A\u001b[2K\u001b[32m⠧\u001b[0m Initializing ZenML repository at /content.\n",
            "\u001b[2K\u001b[1A\u001b[2K\u001b[32m⠇\u001b[0m Initializing ZenML repository at /content.\n",
            "\u001b[2K\u001b[1A\u001b[2K\u001b[32m⠏\u001b[0m Initializing ZenML repository at /content.\n",
            "\u001b[2K\u001b[1A\u001b[2K\u001b[32m⠋\u001b[0m Initializing ZenML repository at /content.\n",
            "\u001b[2K\u001b[1A\u001b[2K\u001b[32m⠙\u001b[0m Initializing ZenML repository at /content.\n",
            "\u001b[2K\u001b[1A\u001b[2K\u001b[32m⠹\u001b[0m Initializing ZenML repository at /content.\n",
            "\u001b[2K\u001b[1A\u001b[2K\u001b[32m⠸\u001b[0m Initializing ZenML repository at /content.\n",
            "\u001b[2K\u001b[1A\u001b[2K\u001b[32m⠼\u001b[0m Initializing ZenML repository at /content.\n",
            "\u001b[2K\u001b[1A\u001b[2K\u001b[32m⠴\u001b[0m Initializing ZenML repository at /content.\n",
            "\u001b[2K\u001b[1A\u001b[2K\u001b[32m⠦\u001b[0m Initializing ZenML repository at /content.\n",
            "\u001b[2K\u001b[1A\u001b[2K\u001b[32m⠧\u001b[0m Initializing ZenML repository at /content.\n",
            "\u001b[2K\u001b[1A\u001b[2K\u001b[32m⠇\u001b[0m Initializing ZenML repository at /content.\n",
            "\u001b[2K\u001b[1A\u001b[2K\u001b[32m⠏\u001b[0m Initializing ZenML repository at /content.\n",
            "\u001b[2K\u001b[1A\u001b[2K\u001b[32m⠋\u001b[0m Initializing ZenML repository at /content.\n",
            "\u001b[2K\u001b[1A\u001b[2K\u001b[32m⠙\u001b[0m Initializing ZenML repository at /content.\n",
            "\u001b[2K\u001b[1A\u001b[2K\u001b[32m⠹\u001b[0m Initializing ZenML repository at /content.\n",
            "\u001b[2K\u001b[1A\u001b[2K\u001b[32m⠸\u001b[0m Initializing ZenML repository at /content.\n",
            "\u001b[2K\u001b[1A\u001b[2K\u001b[32m⠼\u001b[0m Initializing ZenML repository at /content.\n",
            "\u001b[2K\u001b[1A\u001b[2K\u001b[32m⠴\u001b[0m Initializing ZenML repository at /content.\n",
            "\u001b[2K\u001b[1A\u001b[2K\u001b[32m⠦\u001b[0m Initializing ZenML repository at /content.\n",
            "\u001b[1;35mCreating default workspace 'default' ...\u001b[0m\n",
            "\u001b[1;35mCreating default stack in workspace default...\u001b[0m\n",
            "\u001b[2K\u001b[1A\u001b[2K\u001b[32m⠧\u001b[0m Initializing ZenML repository at /content.\n",
            "\u001b[2K\u001b[1A\u001b[2K\u001b[32m⠇\u001b[0m Initializing ZenML repository at /content.\n",
            "\u001b[2K\u001b[1A\u001b[2K\u001b[32m⠏\u001b[0m Initializing ZenML repository at /content.\n",
            "\u001b[2K\u001b[1A\u001b[2K\u001b[32m⠋\u001b[0m Initializing ZenML repository at /content.\n",
            "\u001b[2K\u001b[1A\u001b[2K\u001b[32m⠹\u001b[0m Initializing ZenML repository at /content.\n",
            "\u001b[2K\u001b[1A\u001b[2K\u001b[32m⠸\u001b[0m Initializing ZenML repository at /content.\n",
            "\u001b[2K\u001b[1A\u001b[2K\u001b[32m⠼\u001b[0m Initializing ZenML repository at /content.\n",
            "\u001b[2K\u001b[1A\u001b[2K\u001b[32m⠴\u001b[0m Initializing ZenML repository at /content.\n",
            "\u001b[2K\u001b[1A\u001b[2K\u001b[32m⠦\u001b[0m Initializing ZenML repository at /content.\n",
            "\u001b[2K\u001b[1A\u001b[2K\u001b[32m⠧\u001b[0m Initializing ZenML repository at /content.\n",
            "\u001b[2K\u001b[1A\u001b[2K\u001b[32m⠇\u001b[0m Initializing ZenML repository at /content.\n",
            "\u001b[1;35mSetting the global active workspace to 'default'.\u001b[0m\n",
            "\u001b[33mSetting the global active stack to default.\u001b[0m\n",
            "\u001b[1;35mSetting the repo active workspace to 'default'.\u001b[0m\n",
            "\u001b[33mSetting the repo active stack to default.\u001b[0m\n",
            "\u001b[2K\u001b[1A\u001b[2K\u001b[2;36mZenML repository initialized at \u001b[0m\u001b[2;35m/\u001b[0m\u001b[2;95mcontent.\u001b[0m\n",
            "\u001b[2;32m⠇\u001b[0m\u001b[2;36m Initializing ZenML repository at /content.\u001b[0m\n",
            "\u001b[2K\u001b[1A\u001b[2K\u001b[32m⠇\u001b[0m Initializing ZenML repository at /content.\n",
            "\n",
            "\u001b[1A\u001b[2K\u001b[1A\u001b[2K\u001b[2;36mThe local active stack was initialized to \u001b[0m\u001b[2;32m'default'\u001b[0m\u001b[2;36m. This local configuration will only take effect \u001b[0m\n",
            "\u001b[2;36mwhen you're running ZenML from the initialized repository root, or from a subdirectory. For more \u001b[0m\n",
            "\u001b[2;36minformation on repositories and configurations, please visit \u001b[0m\n",
            "\u001b[2;4;94mhttps://docs.zenml.io/user-guide/production-guide/understand-stacks.\u001b[0m\n"
          ]
        }
      ],
      "source": [
        "!rm -rf .zen\n",
        "!zenml init\n"
      ]
    },
    {
      "cell_type": "code",
      "source": [
        "import numpy as np\n",
        "from sklearn.base import ClassifierMixin\n",
        "from sklearn.svm import SVC\n",
        "from sklearn.datasets import load_digits\n",
        "from sklearn.model_selection import train_test_split\n",
        "\n",
        "def train_test() -> None:\n",
        "    \"\"\"Train and test a Scikit-learn SVC classifier on digits\"\"\"\n",
        "    digits = load_digits()\n",
        "    data = digits.images.reshape((len(digits.images), -1))\n",
        "    X_train, X_test, y_train, y_test = train_test_split(\n",
        "        data, digits.target, test_size=0.2, shuffle=False\n",
        "    )\n",
        "\n",
        "    model = SVC(gamma=0.001)\n",
        "    model.fit(X_train, y_train)\n",
        "    test_acc = model.score(X_test, y_test)\n",
        "    print(f\"Test accuracy: {test_acc}\")\n",
        "\n",
        "train_test()\n"
      ],
      "metadata": {
        "colab": {
          "base_uri": "https://localhost:8080/"
        },
        "id": "Vfo0h4tkQk8D",
        "outputId": "b2363c91-1522-42b0-a183-e2b6caedd459"
      },
      "execution_count": 4,
      "outputs": [
        {
          "output_type": "stream",
          "name": "stdout",
          "text": [
            "Test accuracy: 0.9583333333333334\n"
          ]
        }
      ]
    },
    {
      "cell_type": "markdown",
      "source": [
        "![image.png](data:image/png;base64,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)"
      ],
      "metadata": {
        "id": "4sMkbM4RWzW0"
      }
    },
    {
      "cell_type": "code",
      "source": [
        " from zenml import step\n",
        "from typing_extensions import Annotated\n",
        "import numpy as np\n",
        "from typing import Tuple\n",
        "\n",
        "@step\n",
        "def importer() -> Tuple[\n",
        "    Annotated[np.ndarray, \"X_train\"],\n",
        "    Annotated[np.ndarray, \"X_test\"],\n",
        "    Annotated[np.ndarray, \"y_train\"],\n",
        "    Annotated[np.ndarray, \"y_test\"],\n",
        "]:\n",
        "    \"\"\"Load the digits dataset as numpy arrays.\"\"\"\n",
        "    digits = load_digits()\n",
        "    data = digits.images.reshape((len(digits.images), -1))\n",
        "    X_train, X_test, y_train, y_test = train_test_split(\n",
        "        data, digits.target, test_size=0.2, shuffle=False\n",
        "    )\n",
        "    return X_train, X_test, y_train, y_test\n",
        "\n",
        "@step\n",
        "def svc_trainer(\n",
        "    X_train: np.ndarray,\n",
        "    y_train: np.ndarray,\n",
        ") -> ClassifierMixin:\n",
        "    \"\"\"Train an sklearn SVC classifier.\"\"\"\n",
        "    model = SVC(gamma=0.001)\n",
        "    model.fit(X_train, y_train)\n",
        "    return model\n",
        "\n",
        "@step\n",
        "def evaluator(\n",
        "    X_test: np.ndarray,\n",
        "    y_test: np.ndarray,\n",
        "    model: ClassifierMixin,\n",
        ") -> float:\n",
        "    \"\"\"Calculate the test set accuracy of an sklearn model.\"\"\"\n",
        "    test_acc = model.score(X_test, y_test)\n",
        "    print(f\"Test accuracy: {test_acc}\")\n",
        "    return test_acc\n",
        "\n"
      ],
      "metadata": {
        "id": "LAAbrPxVRvj8"
      },
      "execution_count": 8,
      "outputs": []
    },
    {
      "cell_type": "code",
      "source": [
        "from zenml import pipeline\n",
        "\n",
        "@pipeline\n",
        "def digits_pipeline():\n",
        "  \"\"\" Links all the steps together in a pipeline\"\"\"\n",
        "  X_train, X_test, y_train, y_test = importer()\n",
        "  model = svc_trainer(X_train=X_train,y_train= y_train)\n",
        "  evaluator (X_test=X_test,y_test= y_test,model = model)\n",
        "\n"
      ],
      "metadata": {
        "id": "sf4KwkZbbQhM"
      },
      "execution_count": 9,
      "outputs": []
    },
    {
      "cell_type": "code",
      "source": [
        "digits_svc_pipeline =digits_pipeline()"
      ],
      "metadata": {
        "colab": {
          "base_uri": "https://localhost:8080/"
        },
        "id": "ZDuUG_MIb7cV",
        "outputId": "84a5e35f-9d41-4abc-bc43-eab1730c6c12"
      },
      "execution_count": 24,
      "outputs": [
        {
          "output_type": "stream",
          "name": "stdout",
          "text": [
            "\u001b[1;35mInitiating a new run for the pipeline: \u001b[0m\u001b[1;36mdigits_pipeline\u001b[1;35m.\u001b[0m\n",
            "\u001b[1;35mUsing user: \u001b[0m\u001b[1;36mdefault\u001b[1;35m\u001b[0m\n",
            "\u001b[1;35mUsing stack: \u001b[0m\u001b[1;36mdefault\u001b[1;35m\u001b[0m\n",
            "\u001b[1;35m  orchestrator: \u001b[0m\u001b[1;36mdefault\u001b[1;35m\u001b[0m\n",
            "\u001b[1;35m  artifact_store: \u001b[0m\u001b[1;36mdefault\u001b[1;35m\u001b[0m\n",
            "\u001b[1;35mYou can visualize your pipeline runs in the \u001b[0m\u001b[1;36mZenML Dashboard\u001b[1;35m. In order to try it locally, please run \u001b[0m\u001b[1;36mzenml login --local\u001b[1;35m.\u001b[0m\n",
            "\u001b[1;35mUsing cached version of step \u001b[0m\u001b[1;36mimporter\u001b[1;35m.\u001b[0m\n",
            "\u001b[1;35mUsing cached version of step \u001b[0m\u001b[1;36msvc_trainer\u001b[1;35m.\u001b[0m\n",
            "\u001b[1;35mUsing cached version of step \u001b[0m\u001b[1;36mevaluator\u001b[1;35m.\u001b[0m\n",
            "\u001b[1;35mAll steps of the pipeline run were cached.\u001b[0m\n"
          ]
        }
      ]
    },
    {
      "cell_type": "code",
      "source": [
        "!pip install ngrok\n",
        "!pip install pyngrok"
      ],
      "metadata": {
        "colab": {
          "base_uri": "https://localhost:8080/"
        },
        "id": "08rmiumrdy06",
        "outputId": "3b6a7ac9-5451-4715-eb98-8eeeac5227a6"
      },
      "execution_count": 20,
      "outputs": [
        {
          "output_type": "stream",
          "name": "stdout",
          "text": [
            "Collecting ngrok\n",
            "  Downloading ngrok-1.4.0-cp37-abi3-manylinux_2_17_x86_64.manylinux2014_x86_64.whl.metadata (19 kB)\n",
            "Downloading ngrok-1.4.0-cp37-abi3-manylinux_2_17_x86_64.manylinux2014_x86_64.whl (3.1 MB)\n",
            "\u001b[?25l   \u001b[90m━━━━━━━━━━━━━━━━━━━━━━━━━━━━━━━━━━━━━━━━\u001b[0m \u001b[32m0.0/3.1 MB\u001b[0m \u001b[31m?\u001b[0m eta \u001b[36m-:--:--\u001b[0m\r\u001b[2K   \u001b[91m━━━\u001b[0m\u001b[90m╺\u001b[0m\u001b[90m━━━━━━━━━━━━━━━━━━━━━━━━━━━━━━━━━━━━\u001b[0m \u001b[32m0.2/3.1 MB\u001b[0m \u001b[31m6.8 MB/s\u001b[0m eta \u001b[36m0:00:01\u001b[0m\r\u001b[2K   \u001b[91m━━━━━━━━━━━━━━━━━━━━━━\u001b[0m\u001b[90m╺\u001b[0m\u001b[90m━━━━━━━━━━━━━━━━━\u001b[0m \u001b[32m1.8/3.1 MB\u001b[0m \u001b[31m24.5 MB/s\u001b[0m eta \u001b[36m0:00:01\u001b[0m\r\u001b[2K   \u001b[91m━━━━━━━━━━━━━━━━━━━━━━━━━━━━━━━━━━━━━━━\u001b[0m\u001b[91m╸\u001b[0m \u001b[32m3.1/3.1 MB\u001b[0m \u001b[31m36.8 MB/s\u001b[0m eta \u001b[36m0:00:01\u001b[0m\r\u001b[2K   \u001b[90m━━━━━━━━━━━━━━━━━━━━━━━━━━━━━━━━━━━━━━━━\u001b[0m \u001b[32m3.1/3.1 MB\u001b[0m \u001b[31m27.9 MB/s\u001b[0m eta \u001b[36m0:00:00\u001b[0m\n",
            "\u001b[?25hInstalling collected packages: ngrok\n",
            "Successfully installed ngrok-1.4.0\n"
          ]
        }
      ]
    },
    {
      "cell_type": "code",
      "source": [
        "!ngrok config add-authtoken 2glgIhLetq2ZnY4pjZmVmJbI8Vv_5Pm3rRnptYk92VwkX6xqs"
      ],
      "metadata": {
        "colab": {
          "base_uri": "https://localhost:8080/"
        },
        "id": "KguJ11jWdY3V",
        "outputId": "ff98a045-09c5-4a78-db1e-ee38fb1bb033"
      },
      "execution_count": 22,
      "outputs": [
        {
          "output_type": "stream",
          "name": "stdout",
          "text": [
            "Authtoken saved to configuration file: /root/.config/ngrok/ngrok.yml\n"
          ]
        }
      ]
    },
    {
      "cell_type": "code",
      "source": [
        "from zenml.environment import Environment\n",
        "\n",
        "\n",
        "def start_zenml_dashboard(port=8237):\n",
        "  if Environment.in_google_colab():\n",
        "    from pyngrok import ngrok\n",
        "    public_url = ngrok.connect(port)\n",
        "    print(f\"-------------{public_url}----------\")\n",
        "    !zenml up --blocking --port {port}\n",
        "\n",
        "  else:\n",
        "    !zenml up --port {port}\n",
        "\n",
        "start_zenml_dashboard()"
      ],
      "metadata": {
        "colab": {
          "base_uri": "https://localhost:8080/"
        },
        "id": "8jDJP3mRcT_z",
        "outputId": "f9ca7627-9c74-4efa-c7ab-c8cff8228617"
      },
      "execution_count": null,
      "outputs": [
        {
          "output_type": "stream",
          "name": "stderr",
          "text": [
            "INFO:pyngrok.ngrok:Opening tunnel named: http-8237-b518c5e7-fcb5-41ae-bc38-43cc4afe2cb3\n"
          ]
        },
        {
          "output_type": "stream",
          "name": "stdout",
          "text": [
            "\u001b[1;35mOpening tunnel named: http-8237-b518c5e7-fcb5-41ae-bc38-43cc4afe2cb3\u001b[0m\n"
          ]
        },
        {
          "output_type": "stream",
          "name": "stderr",
          "text": [
            "INFO:pyngrok.process.ngrok:t=2025-01-13T16:33:28+0000 lvl=info msg=\"no configuration paths supplied\"\n"
          ]
        },
        {
          "output_type": "stream",
          "name": "stdout",
          "text": [
            "\u001b[1;35mt=2025-01-13T16:33:28+0000 lvl=info msg=\"no configuration paths supplied\"\u001b[0m\n"
          ]
        },
        {
          "output_type": "stream",
          "name": "stderr",
          "text": [
            "INFO:pyngrok.process.ngrok:t=2025-01-13T16:33:28+0000 lvl=info msg=\"using configuration at default config path\" path=/root/.config/ngrok/ngrok.yml\n"
          ]
        },
        {
          "output_type": "stream",
          "name": "stdout",
          "text": [
            "\u001b[1;35mt=2025-01-13T16:33:28+0000 lvl=info msg=\"using configuration at default config path\" path=/root/.config/ngrok/ngrok.yml\u001b[0m\n"
          ]
        },
        {
          "output_type": "stream",
          "name": "stderr",
          "text": [
            "INFO:pyngrok.process.ngrok:t=2025-01-13T16:33:28+0000 lvl=info msg=\"open config file\" path=/root/.config/ngrok/ngrok.yml err=nil\n"
          ]
        },
        {
          "output_type": "stream",
          "name": "stdout",
          "text": [
            "\u001b[1;35mt=2025-01-13T16:33:28+0000 lvl=info msg=\"open config file\" path=/root/.config/ngrok/ngrok.yml err=nil\u001b[0m\n"
          ]
        },
        {
          "output_type": "stream",
          "name": "stderr",
          "text": [
            "INFO:pyngrok.process.ngrok:t=2025-01-13T16:33:28+0000 lvl=info msg=\"starting web service\" obj=web addr=127.0.0.1:4040 allow_hosts=[]\n"
          ]
        },
        {
          "output_type": "stream",
          "name": "stdout",
          "text": [
            "\u001b[1;35mt=2025-01-13T16:33:28+0000 lvl=info msg=\"starting web service\" obj=web addr=127.0.0.1:4040 allow_hosts=[]\u001b[0m\n"
          ]
        },
        {
          "output_type": "stream",
          "name": "stderr",
          "text": [
            "INFO:pyngrok.process.ngrok:t=2025-01-13T16:33:29+0000 lvl=info msg=\"client session established\" obj=tunnels.session\n"
          ]
        },
        {
          "output_type": "stream",
          "name": "stdout",
          "text": [
            "\u001b[1;35mt=2025-01-13T16:33:29+0000 lvl=info msg=\"client session established\" obj=tunnels.session\u001b[0m\n"
          ]
        },
        {
          "output_type": "stream",
          "name": "stderr",
          "text": [
            "INFO:pyngrok.process.ngrok:t=2025-01-13T16:33:29+0000 lvl=info msg=\"tunnel session started\" obj=tunnels.session\n"
          ]
        },
        {
          "output_type": "stream",
          "name": "stdout",
          "text": [
            "\u001b[1;35mt=2025-01-13T16:33:29+0000 lvl=info msg=\"tunnel session started\" obj=tunnels.session\u001b[0m\n"
          ]
        },
        {
          "output_type": "stream",
          "name": "stderr",
          "text": [
            "INFO:pyngrok.process.ngrok:t=2025-01-13T16:33:29+0000 lvl=info msg=start pg=/api/tunnels id=c3e2084be25b8f51\n"
          ]
        },
        {
          "output_type": "stream",
          "name": "stdout",
          "text": [
            "\u001b[1;35mt=2025-01-13T16:33:29+0000 lvl=info msg=start pg=/api/tunnels id=c3e2084be25b8f51\u001b[0m\n"
          ]
        },
        {
          "output_type": "stream",
          "name": "stderr",
          "text": [
            "INFO:pyngrok.process.ngrok:t=2025-01-13T16:33:29+0000 lvl=info msg=end pg=/api/tunnels id=c3e2084be25b8f51 status=200 dur=1.00393ms\n"
          ]
        },
        {
          "output_type": "stream",
          "name": "stdout",
          "text": [
            "\u001b[1;35mt=2025-01-13T16:33:29+0000 lvl=info msg=end pg=/api/tunnels id=c3e2084be25b8f51 status=200 dur=1.00393ms\u001b[0m\n"
          ]
        },
        {
          "output_type": "stream",
          "name": "stderr",
          "text": [
            "INFO:pyngrok.process.ngrok:t=2025-01-13T16:33:29+0000 lvl=info msg=start pg=/api/tunnels id=a8c53b9212bfecb3\n"
          ]
        },
        {
          "output_type": "stream",
          "name": "stdout",
          "text": [
            "\u001b[1;35mt=2025-01-13T16:33:29+0000 lvl=info msg=start pg=/api/tunnels id=a8c53b9212bfecb3\u001b[0m\n"
          ]
        },
        {
          "output_type": "stream",
          "name": "stderr",
          "text": [
            "INFO:pyngrok.process.ngrok:t=2025-01-13T16:33:29+0000 lvl=info msg=end pg=/api/tunnels id=a8c53b9212bfecb3 status=200 dur=198.468µs\n"
          ]
        },
        {
          "output_type": "stream",
          "name": "stdout",
          "text": [
            "\u001b[1;35mt=2025-01-13T16:33:29+0000 lvl=info msg=end pg=/api/tunnels id=a8c53b9212bfecb3 status=200 dur=198.468µs\u001b[0m\n"
          ]
        },
        {
          "output_type": "stream",
          "name": "stderr",
          "text": [
            "INFO:pyngrok.process.ngrok:t=2025-01-13T16:33:29+0000 lvl=info msg=start pg=/api/tunnels id=9c649dce7203d3ae\n"
          ]
        },
        {
          "output_type": "stream",
          "name": "stdout",
          "text": [
            "\u001b[1;35mt=2025-01-13T16:33:29+0000 lvl=info msg=start pg=/api/tunnels id=9c649dce7203d3ae\u001b[0m\n"
          ]
        },
        {
          "output_type": "stream",
          "name": "stderr",
          "text": [
            "INFO:pyngrok.process.ngrok:t=2025-01-13T16:33:29+0000 lvl=info msg=\"started tunnel\" obj=tunnels name=http-8237-b518c5e7-fcb5-41ae-bc38-43cc4afe2cb3 addr=http://localhost:8237 url=https://02f2-35-185-105-246.ngrok-free.app\n"
          ]
        },
        {
          "output_type": "stream",
          "name": "stdout",
          "text": [
            "-------------NgrokTunnel: \"https://02f2-35-185-105-246.ngrok-free.app\" -> \"http://localhost:8237\"----------\n",
            "\u001b[1;35mt=2025-01-13T16:33:29+0000 lvl=info msg=\"started tunnel\" obj=tunnels name=http-8237-b518c5e7-fcb5-41ae-bc38-43cc4afe2cb3 addr=\u001b[0m\u001b[34mhttp://localhost:8237\u001b[1;35m url=\u001b[0m\u001b[34mhttps://02f2-35-185-105-246.ngrok-free.app\u001b[1;35m\u001b[0m\n"
          ]
        },
        {
          "output_type": "stream",
          "name": "stderr",
          "text": [
            "INFO:pyngrok.process.ngrok:t=2025-01-13T16:33:29+0000 lvl=info msg=end pg=/api/tunnels id=9c649dce7203d3ae status=201 dur=45.466393ms\n"
          ]
        },
        {
          "output_type": "stream",
          "name": "stdout",
          "text": [
            "\u001b[1;35mt=2025-01-13T16:33:29+0000 lvl=info msg=end pg=/api/tunnels id=9c649dce7203d3ae status=201 dur=45.466393ms\u001b[0m\n",
            "\u001b[33mThe `zenml up` command is deprecated and will be removed in a future release. Please use the `zenml \u001b[0m\n",
            "\u001b[33mlogin --local` command instead.\u001b[0m\n",
            "\u001b[2;36mCalling `zenml login --local`\u001b[0m\u001b[2;33m...\u001b[0m\n",
            "\u001b[2;36mThe local ZenML dashboard is about to deploy in a blocking process.\u001b[0m\n",
            "\u001b[1;35mDeploying a local daemon ZenML server.\u001b[0m\n",
            "\u001b[1;35mNot writing the global configuration to disk in a ZenML server environment.\u001b[0m\n",
            "\u001b[1;35mInitializing the ZenML global configuration version to 0.71.0\u001b[0m\n",
            "\u001b[1;35mNot writing the global configuration to disk in a ZenML server environment.\u001b[0m\n",
            "\u001b[1;35mStarting ZenML Server as blocking process... press CTRL+C once to stop it.\u001b[0m\n",
            "\u001b[32mINFO\u001b[0m:     Started server process [\u001b[36m18005\u001b[0m]\n",
            "\u001b[32mINFO\u001b[0m:     Waiting for application startup.\n",
            "\u001b[1;35mNot writing the global configuration to disk in a ZenML server environment.\u001b[0m\n",
            "\u001b[1;35mNot writing the global configuration to disk in a ZenML server environment.\u001b[0m\n",
            "\u001b[32mINFO\u001b[0m:     Application startup complete.\n",
            "\u001b[32mINFO\u001b[0m:     Uvicorn running on \u001b[1mhttp://127.0.0.1:8237\u001b[0m (Press CTRL+C to quit)\n"
          ]
        },
        {
          "output_type": "stream",
          "name": "stderr",
          "text": [
            "INFO:pyngrok.process.ngrok:t=2025-01-13T16:35:36+0000 lvl=info msg=\"join connections\" obj=join id=3234431bccee l=127.0.0.1:8237 r=[2c0f:fc88:5:8feb:102d:5ea6:7e41:3a5f]:55239\n"
          ]
        },
        {
          "output_type": "stream",
          "name": "stdout",
          "text": [
            "\u001b[1;35mt=2025-01-13T16:35:36+0000 lvl=info msg=\"join connections\" obj=join id=3234431bccee l=127.0.0.1:8237 r=[2c0f:fc88:5:8feb:102d:5ea6:7e41:3a5f]:55239\u001b[0m\n",
            "\u001b[32mINFO\u001b[0m:     2c0f:fc88:5:8feb:102d:5ea6:7e41:3a5f:0 - \"\u001b[1mGET / HTTP/1.1\u001b[0m\" \u001b[32m200 OK\u001b[0m\n"
          ]
        },
        {
          "output_type": "stream",
          "name": "stderr",
          "text": [
            "INFO:pyngrok.process.ngrok:t=2025-01-13T16:35:37+0000 lvl=info msg=\"join connections\" obj=join id=9c8344fcdb51 l=127.0.0.1:8237 r=[2c0f:fc88:5:8feb:102d:5ea6:7e41:3a5f]:55239\n"
          ]
        },
        {
          "output_type": "stream",
          "name": "stdout",
          "text": [
            "\u001b[32mINFO\u001b[0m:     2c0f:fc88:5:8feb:102d:5ea6:7e41:3a5f:0 - \"\u001b[1mGET /assets/index-FO-p0GU7.js HTTP/1.1\u001b[0m\" \u001b[32m200 OK\u001b[0m\n",
            "\u001b[1;35mt=2025-01-13T16:35:37+0000 lvl=info msg=\"join connections\" obj=join id=9c8344fcdb51 l=127.0.0.1:8237 r=[2c0f:fc88:5:8feb:102d:5ea6:7e41:3a5f]:55239\u001b[0m\n"
          ]
        },
        {
          "output_type": "stream",
          "name": "stderr",
          "text": [
            "INFO:pyngrok.process.ngrok:t=2025-01-13T16:35:37+0000 lvl=info msg=\"join connections\" obj=join id=9824543e3da0 l=127.0.0.1:8237 r=[2c0f:fc88:5:8feb:102d:5ea6:7e41:3a5f]:55239\n"
          ]
        },
        {
          "output_type": "stream",
          "name": "stdout",
          "text": [
            "\u001b[32mINFO\u001b[0m:     2c0f:fc88:5:8feb:102d:5ea6:7e41:3a5f:0 - \"\u001b[1mGET /assets/index-DXvT1_Um.css HTTP/1.1\u001b[0m\" \u001b[32m200 OK\u001b[0m\n",
            "\u001b[1;35mt=2025-01-13T16:35:37+0000 lvl=info msg=\"join connections\" obj=join id=9824543e3da0 l=127.0.0.1:8237 r=[2c0f:fc88:5:8feb:102d:5ea6:7e41:3a5f]:55239\u001b[0m\n"
          ]
        },
        {
          "output_type": "stream",
          "name": "stderr",
          "text": [
            "INFO:pyngrok.process.ngrok:t=2025-01-13T16:35:37+0000 lvl=info msg=\"join connections\" obj=join id=4036081f662b l=127.0.0.1:8237 r=[2c0f:fc88:5:8feb:102d:5ea6:7e41:3a5f]:55239\n"
          ]
        },
        {
          "output_type": "stream",
          "name": "stdout",
          "text": [
            "\u001b[1;35mt=2025-01-13T16:35:37+0000 lvl=info msg=\"join connections\" obj=join id=4036081f662b l=127.0.0.1:8237 r=[2c0f:fc88:5:8feb:102d:5ea6:7e41:3a5f]:55239\u001b[0m\n"
          ]
        },
        {
          "output_type": "stream",
          "name": "stderr",
          "text": [
            "INFO:pyngrok.process.ngrok:t=2025-01-13T16:35:37+0000 lvl=info msg=\"join connections\" obj=join id=8883971c0a6c l=127.0.0.1:8237 r=[2c0f:fc88:5:8feb:102d:5ea6:7e41:3a5f]:55239\n"
          ]
        },
        {
          "output_type": "stream",
          "name": "stdout",
          "text": [
            "\u001b[1;35mt=2025-01-13T16:35:37+0000 lvl=info msg=\"join connections\" obj=join id=8883971c0a6c l=127.0.0.1:8237 r=[2c0f:fc88:5:8feb:102d:5ea6:7e41:3a5f]:55239\u001b[0m\n"
          ]
        },
        {
          "output_type": "stream",
          "name": "stderr",
          "text": [
            "INFO:pyngrok.process.ngrok:t=2025-01-13T16:35:37+0000 lvl=info msg=\"join connections\" obj=join id=8c26c08859b1 l=127.0.0.1:8237 r=[2c0f:fc88:5:8feb:102d:5ea6:7e41:3a5f]:55239\n"
          ]
        },
        {
          "output_type": "stream",
          "name": "stdout",
          "text": [
            "\u001b[1;35mt=2025-01-13T16:35:37+0000 lvl=info msg=\"join connections\" obj=join id=8c26c08859b1 l=127.0.0.1:8237 r=[2c0f:fc88:5:8feb:102d:5ea6:7e41:3a5f]:55239\u001b[0m\n"
          ]
        },
        {
          "output_type": "stream",
          "name": "stderr",
          "text": [
            "INFO:pyngrok.process.ngrok:t=2025-01-13T16:35:37+0000 lvl=info msg=\"join connections\" obj=join id=6ae9971c75ab l=127.0.0.1:8237 r=[2c0f:fc88:5:8feb:102d:5ea6:7e41:3a5f]:55239\n"
          ]
        },
        {
          "output_type": "stream",
          "name": "stdout",
          "text": [
            "\u001b[1;35mt=2025-01-13T16:35:37+0000 lvl=info msg=\"join connections\" obj=join id=6ae9971c75ab l=127.0.0.1:8237 r=[2c0f:fc88:5:8feb:102d:5ea6:7e41:3a5f]:55239\u001b[0m\n"
          ]
        },
        {
          "output_type": "stream",
          "name": "stderr",
          "text": [
            "INFO:pyngrok.process.ngrok:t=2025-01-13T16:35:37+0000 lvl=info msg=\"join connections\" obj=join id=22ed24b003ab l=127.0.0.1:8237 r=[2c0f:fc88:5:8feb:102d:5ea6:7e41:3a5f]:55239\n"
          ]
        },
        {
          "output_type": "stream",
          "name": "stdout",
          "text": [
            "\u001b[1;35mt=2025-01-13T16:35:37+0000 lvl=info msg=\"join connections\" obj=join id=22ed24b003ab l=127.0.0.1:8237 r=[2c0f:fc88:5:8feb:102d:5ea6:7e41:3a5f]:55239\u001b[0m\n"
          ]
        },
        {
          "output_type": "stream",
          "name": "stderr",
          "text": [
            "INFO:pyngrok.process.ngrok:t=2025-01-13T16:35:37+0000 lvl=info msg=\"join connections\" obj=join id=6cc6c528fa7c l=127.0.0.1:8237 r=[2c0f:fc88:5:8feb:102d:5ea6:7e41:3a5f]:55239\n"
          ]
        },
        {
          "output_type": "stream",
          "name": "stdout",
          "text": [
            "\u001b[1;35mt=2025-01-13T16:35:37+0000 lvl=info msg=\"join connections\" obj=join id=6cc6c528fa7c l=127.0.0.1:8237 r=[2c0f:fc88:5:8feb:102d:5ea6:7e41:3a5f]:55239\u001b[0m\n"
          ]
        },
        {
          "output_type": "stream",
          "name": "stderr",
          "text": [
            "INFO:pyngrok.process.ngrok:t=2025-01-13T16:35:37+0000 lvl=info msg=\"join connections\" obj=join id=76c19e0bfcf1 l=127.0.0.1:8237 r=[2c0f:fc88:5:8feb:102d:5ea6:7e41:3a5f]:55239\n"
          ]
        },
        {
          "output_type": "stream",
          "name": "stdout",
          "text": [
            "\u001b[1;35mt=2025-01-13T16:35:37+0000 lvl=info msg=\"join connections\" obj=join id=76c19e0bfcf1 l=127.0.0.1:8237 r=[2c0f:fc88:5:8feb:102d:5ea6:7e41:3a5f]:55239\u001b[0m\n"
          ]
        },
        {
          "output_type": "stream",
          "name": "stderr",
          "text": [
            "INFO:pyngrok.process.ngrok:t=2025-01-13T16:35:37+0000 lvl=info msg=\"join connections\" obj=join id=9391a22c62d5 l=127.0.0.1:8237 r=[2c0f:fc88:5:8feb:102d:5ea6:7e41:3a5f]:55239\n"
          ]
        },
        {
          "output_type": "stream",
          "name": "stdout",
          "text": [
            "\u001b[1;35mt=2025-01-13T16:35:37+0000 lvl=info msg=\"join connections\" obj=join id=9391a22c62d5 l=127.0.0.1:8237 r=[2c0f:fc88:5:8feb:102d:5ea6:7e41:3a5f]:55239\u001b[0m\n"
          ]
        },
        {
          "output_type": "stream",
          "name": "stderr",
          "text": [
            "INFO:pyngrok.process.ngrok:t=2025-01-13T16:35:37+0000 lvl=info msg=\"join connections\" obj=join id=f4ba0edf708e l=127.0.0.1:8237 r=[2c0f:fc88:5:8feb:102d:5ea6:7e41:3a5f]:55239\n"
          ]
        },
        {
          "output_type": "stream",
          "name": "stdout",
          "text": [
            "\u001b[1;35mt=2025-01-13T16:35:37+0000 lvl=info msg=\"join connections\" obj=join id=f4ba0edf708e l=127.0.0.1:8237 r=[2c0f:fc88:5:8feb:102d:5ea6:7e41:3a5f]:55239\u001b[0m\n"
          ]
        },
        {
          "output_type": "stream",
          "name": "stderr",
          "text": [
            "INFO:pyngrok.process.ngrok:t=2025-01-13T16:35:37+0000 lvl=info msg=\"join connections\" obj=join id=2156398cc008 l=127.0.0.1:8237 r=[2c0f:fc88:5:8feb:102d:5ea6:7e41:3a5f]:55239\n"
          ]
        },
        {
          "output_type": "stream",
          "name": "stdout",
          "text": [
            "\u001b[1;35mt=2025-01-13T16:35:37+0000 lvl=info msg=\"join connections\" obj=join id=2156398cc008 l=127.0.0.1:8237 r=[2c0f:fc88:5:8feb:102d:5ea6:7e41:3a5f]:55239\u001b[0m\n"
          ]
        },
        {
          "output_type": "stream",
          "name": "stderr",
          "text": [
            "INFO:pyngrok.process.ngrok:t=2025-01-13T16:35:37+0000 lvl=info msg=\"join connections\" obj=join id=d37c933cda58 l=127.0.0.1:8237 r=[2c0f:fc88:5:8feb:102d:5ea6:7e41:3a5f]:55239\n"
          ]
        },
        {
          "output_type": "stream",
          "name": "stdout",
          "text": [
            "\u001b[1;35mt=2025-01-13T16:35:37+0000 lvl=info msg=\"join connections\" obj=join id=d37c933cda58 l=127.0.0.1:8237 r=[2c0f:fc88:5:8feb:102d:5ea6:7e41:3a5f]:55239\u001b[0m\n"
          ]
        },
        {
          "output_type": "stream",
          "name": "stderr",
          "text": [
            "INFO:pyngrok.process.ngrok:t=2025-01-13T16:35:37+0000 lvl=info msg=\"join connections\" obj=join id=148a96cdc1c0 l=127.0.0.1:8237 r=[2c0f:fc88:5:8feb:102d:5ea6:7e41:3a5f]:55239\n"
          ]
        },
        {
          "output_type": "stream",
          "name": "stdout",
          "text": [
            "\u001b[1;35mt=2025-01-13T16:35:37+0000 lvl=info msg=\"join connections\" obj=join id=148a96cdc1c0 l=127.0.0.1:8237 r=[2c0f:fc88:5:8feb:102d:5ea6:7e41:3a5f]:55239\u001b[0m\n"
          ]
        },
        {
          "output_type": "stream",
          "name": "stderr",
          "text": [
            "INFO:pyngrok.process.ngrok:t=2025-01-13T16:35:37+0000 lvl=info msg=\"join connections\" obj=join id=8c4f34345979 l=127.0.0.1:8237 r=[2c0f:fc88:5:8feb:102d:5ea6:7e41:3a5f]:55239\n"
          ]
        },
        {
          "output_type": "stream",
          "name": "stdout",
          "text": [
            "\u001b[1;35mt=2025-01-13T16:35:37+0000 lvl=info msg=\"join connections\" obj=join id=8c4f34345979 l=127.0.0.1:8237 r=[2c0f:fc88:5:8feb:102d:5ea6:7e41:3a5f]:55239\u001b[0m\n"
          ]
        },
        {
          "output_type": "stream",
          "name": "stderr",
          "text": [
            "INFO:pyngrok.process.ngrok:t=2025-01-13T16:35:37+0000 lvl=info msg=\"join connections\" obj=join id=2e3f79dc055f l=127.0.0.1:8237 r=[2c0f:fc88:5:8feb:102d:5ea6:7e41:3a5f]:55239\n"
          ]
        },
        {
          "output_type": "stream",
          "name": "stdout",
          "text": [
            "\u001b[1;35mt=2025-01-13T16:35:37+0000 lvl=info msg=\"join connections\" obj=join id=2e3f79dc055f l=127.0.0.1:8237 r=[2c0f:fc88:5:8feb:102d:5ea6:7e41:3a5f]:55239\u001b[0m\n"
          ]
        },
        {
          "output_type": "stream",
          "name": "stderr",
          "text": [
            "INFO:pyngrok.process.ngrok:t=2025-01-13T16:35:37+0000 lvl=info msg=\"join connections\" obj=join id=d92415e08b0e l=127.0.0.1:8237 r=[2c0f:fc88:5:8feb:102d:5ea6:7e41:3a5f]:55239\n"
          ]
        },
        {
          "output_type": "stream",
          "name": "stdout",
          "text": [
            "\u001b[1;35mt=2025-01-13T16:35:37+0000 lvl=info msg=\"join connections\" obj=join id=d92415e08b0e l=127.0.0.1:8237 r=[2c0f:fc88:5:8feb:102d:5ea6:7e41:3a5f]:55239\u001b[0m\n"
          ]
        },
        {
          "output_type": "stream",
          "name": "stderr",
          "text": [
            "INFO:pyngrok.process.ngrok:t=2025-01-13T16:35:37+0000 lvl=info msg=\"join connections\" obj=join id=d1d7692991d4 l=127.0.0.1:8237 r=[2c0f:fc88:5:8feb:102d:5ea6:7e41:3a5f]:55239\n"
          ]
        },
        {
          "output_type": "stream",
          "name": "stdout",
          "text": [
            "\u001b[1;35mt=2025-01-13T16:35:37+0000 lvl=info msg=\"join connections\" obj=join id=d1d7692991d4 l=127.0.0.1:8237 r=[2c0f:fc88:5:8feb:102d:5ea6:7e41:3a5f]:55239\u001b[0m\n"
          ]
        },
        {
          "output_type": "stream",
          "name": "stderr",
          "text": [
            "INFO:pyngrok.process.ngrok:t=2025-01-13T16:35:37+0000 lvl=info msg=\"join connections\" obj=join id=1e1c154cbbcd l=127.0.0.1:8237 r=[2c0f:fc88:5:8feb:102d:5ea6:7e41:3a5f]:55239\n"
          ]
        },
        {
          "output_type": "stream",
          "name": "stdout",
          "text": [
            "\u001b[1;35mt=2025-01-13T16:35:37+0000 lvl=info msg=\"join connections\" obj=join id=1e1c154cbbcd l=127.0.0.1:8237 r=[2c0f:fc88:5:8feb:102d:5ea6:7e41:3a5f]:55239\u001b[0m\n"
          ]
        },
        {
          "output_type": "stream",
          "name": "stderr",
          "text": [
            "INFO:pyngrok.process.ngrok:t=2025-01-13T16:35:37+0000 lvl=info msg=\"join connections\" obj=join id=3247237ef8ab l=127.0.0.1:8237 r=[2c0f:fc88:5:8feb:102d:5ea6:7e41:3a5f]:55239\n"
          ]
        },
        {
          "output_type": "stream",
          "name": "stdout",
          "text": [
            "\u001b[1;35mt=2025-01-13T16:35:37+0000 lvl=info msg=\"join connections\" obj=join id=3247237ef8ab l=127.0.0.1:8237 r=[2c0f:fc88:5:8feb:102d:5ea6:7e41:3a5f]:55239\u001b[0m\n"
          ]
        },
        {
          "output_type": "stream",
          "name": "stderr",
          "text": [
            "INFO:pyngrok.process.ngrok:t=2025-01-13T16:35:37+0000 lvl=info msg=\"join connections\" obj=join id=c320b056fddb l=127.0.0.1:8237 r=[2c0f:fc88:5:8feb:102d:5ea6:7e41:3a5f]:55239\n"
          ]
        },
        {
          "output_type": "stream",
          "name": "stdout",
          "text": [
            "\u001b[1;35mt=2025-01-13T16:35:37+0000 lvl=info msg=\"join connections\" obj=join id=c320b056fddb l=127.0.0.1:8237 r=[2c0f:fc88:5:8feb:102d:5ea6:7e41:3a5f]:55239\u001b[0m\n"
          ]
        },
        {
          "output_type": "stream",
          "name": "stderr",
          "text": [
            "INFO:pyngrok.process.ngrok:t=2025-01-13T16:35:37+0000 lvl=info msg=\"join connections\" obj=join id=be189d7c98fb l=127.0.0.1:8237 r=[2c0f:fc88:5:8feb:102d:5ea6:7e41:3a5f]:55239\n"
          ]
        },
        {
          "output_type": "stream",
          "name": "stdout",
          "text": [
            "\u001b[1;35mt=2025-01-13T16:35:37+0000 lvl=info msg=\"join connections\" obj=join id=be189d7c98fb l=127.0.0.1:8237 r=[2c0f:fc88:5:8feb:102d:5ea6:7e41:3a5f]:55239\u001b[0m\n"
          ]
        },
        {
          "output_type": "stream",
          "name": "stderr",
          "text": [
            "INFO:pyngrok.process.ngrok:t=2025-01-13T16:35:37+0000 lvl=info msg=\"join connections\" obj=join id=515368994ddc l=127.0.0.1:8237 r=[2c0f:fc88:5:8feb:102d:5ea6:7e41:3a5f]:55239\n"
          ]
        },
        {
          "output_type": "stream",
          "name": "stdout",
          "text": [
            "\u001b[1;35mt=2025-01-13T16:35:37+0000 lvl=info msg=\"join connections\" obj=join id=515368994ddc l=127.0.0.1:8237 r=[2c0f:fc88:5:8feb:102d:5ea6:7e41:3a5f]:55239\u001b[0m\n"
          ]
        },
        {
          "output_type": "stream",
          "name": "stderr",
          "text": [
            "INFO:pyngrok.process.ngrok:t=2025-01-13T16:35:37+0000 lvl=info msg=\"join connections\" obj=join id=6cdce3363f90 l=127.0.0.1:8237 r=[2c0f:fc88:5:8feb:102d:5ea6:7e41:3a5f]:55239\n"
          ]
        },
        {
          "output_type": "stream",
          "name": "stdout",
          "text": [
            "\u001b[1;35mt=2025-01-13T16:35:37+0000 lvl=info msg=\"join connections\" obj=join id=6cdce3363f90 l=127.0.0.1:8237 r=[2c0f:fc88:5:8feb:102d:5ea6:7e41:3a5f]:55239\u001b[0m\n"
          ]
        },
        {
          "output_type": "stream",
          "name": "stderr",
          "text": [
            "INFO:pyngrok.process.ngrok:t=2025-01-13T16:35:37+0000 lvl=info msg=\"join connections\" obj=join id=ecb570cc3274 l=127.0.0.1:8237 r=[2c0f:fc88:5:8feb:102d:5ea6:7e41:3a5f]:55239\n"
          ]
        },
        {
          "output_type": "stream",
          "name": "stdout",
          "text": [
            "\u001b[1;35mt=2025-01-13T16:35:37+0000 lvl=info msg=\"join connections\" obj=join id=ecb570cc3274 l=127.0.0.1:8237 r=[2c0f:fc88:5:8feb:102d:5ea6:7e41:3a5f]:55239\u001b[0m\n"
          ]
        },
        {
          "output_type": "stream",
          "name": "stderr",
          "text": [
            "INFO:pyngrok.process.ngrok:t=2025-01-13T16:35:37+0000 lvl=info msg=\"join connections\" obj=join id=cb2d4684ef3f l=127.0.0.1:8237 r=[2c0f:fc88:5:8feb:102d:5ea6:7e41:3a5f]:55239\n"
          ]
        },
        {
          "output_type": "stream",
          "name": "stdout",
          "text": [
            "\u001b[1;35mt=2025-01-13T16:35:37+0000 lvl=info msg=\"join connections\" obj=join id=cb2d4684ef3f l=127.0.0.1:8237 r=[2c0f:fc88:5:8feb:102d:5ea6:7e41:3a5f]:55239\u001b[0m\n"
          ]
        },
        {
          "output_type": "stream",
          "name": "stderr",
          "text": [
            "INFO:pyngrok.process.ngrok:t=2025-01-13T16:35:37+0000 lvl=info msg=\"join connections\" obj=join id=26de5f8bc1ea l=127.0.0.1:8237 r=[2c0f:fc88:5:8feb:102d:5ea6:7e41:3a5f]:55239\n"
          ]
        },
        {
          "output_type": "stream",
          "name": "stdout",
          "text": [
            "\u001b[1;35mt=2025-01-13T16:35:37+0000 lvl=info msg=\"join connections\" obj=join id=26de5f8bc1ea l=127.0.0.1:8237 r=[2c0f:fc88:5:8feb:102d:5ea6:7e41:3a5f]:55239\u001b[0m\n"
          ]
        },
        {
          "output_type": "stream",
          "name": "stderr",
          "text": [
            "INFO:pyngrok.process.ngrok:t=2025-01-13T16:35:37+0000 lvl=info msg=\"join connections\" obj=join id=d1125aa1ca5b l=127.0.0.1:8237 r=[2c0f:fc88:5:8feb:102d:5ea6:7e41:3a5f]:55239\n"
          ]
        },
        {
          "output_type": "stream",
          "name": "stdout",
          "text": [
            "\u001b[1;35mt=2025-01-13T16:35:37+0000 lvl=info msg=\"join connections\" obj=join id=d1125aa1ca5b l=127.0.0.1:8237 r=[2c0f:fc88:5:8feb:102d:5ea6:7e41:3a5f]:55239\u001b[0m\n"
          ]
        },
        {
          "output_type": "stream",
          "name": "stderr",
          "text": [
            "INFO:pyngrok.process.ngrok:t=2025-01-13T16:35:37+0000 lvl=info msg=\"join connections\" obj=join id=d2dab76d35a3 l=127.0.0.1:8237 r=[2c0f:fc88:5:8feb:102d:5ea6:7e41:3a5f]:55239\n"
          ]
        },
        {
          "output_type": "stream",
          "name": "stdout",
          "text": [
            "\u001b[1;35mt=2025-01-13T16:35:37+0000 lvl=info msg=\"join connections\" obj=join id=d2dab76d35a3 l=127.0.0.1:8237 r=[2c0f:fc88:5:8feb:102d:5ea6:7e41:3a5f]:55239\u001b[0m\n"
          ]
        },
        {
          "output_type": "stream",
          "name": "stderr",
          "text": [
            "INFO:pyngrok.process.ngrok:t=2025-01-13T16:35:37+0000 lvl=info msg=\"join connections\" obj=join id=d4a0a5c8603e l=127.0.0.1:8237 r=[2c0f:fc88:5:8feb:102d:5ea6:7e41:3a5f]:55239\n"
          ]
        },
        {
          "output_type": "stream",
          "name": "stdout",
          "text": [
            "\u001b[1;35mt=2025-01-13T16:35:37+0000 lvl=info msg=\"join connections\" obj=join id=d4a0a5c8603e l=127.0.0.1:8237 r=[2c0f:fc88:5:8feb:102d:5ea6:7e41:3a5f]:55239\u001b[0m\n"
          ]
        },
        {
          "output_type": "stream",
          "name": "stderr",
          "text": [
            "INFO:pyngrok.process.ngrok:t=2025-01-13T16:35:37+0000 lvl=info msg=\"join connections\" obj=join id=b150925efc25 l=127.0.0.1:8237 r=[2c0f:fc88:5:8feb:102d:5ea6:7e41:3a5f]:55239\n"
          ]
        },
        {
          "output_type": "stream",
          "name": "stdout",
          "text": [
            "\u001b[1;35mt=2025-01-13T16:35:37+0000 lvl=info msg=\"join connections\" obj=join id=b150925efc25 l=127.0.0.1:8237 r=[2c0f:fc88:5:8feb:102d:5ea6:7e41:3a5f]:55239\u001b[0m\n"
          ]
        },
        {
          "output_type": "stream",
          "name": "stderr",
          "text": [
            "INFO:pyngrok.process.ngrok:t=2025-01-13T16:35:37+0000 lvl=info msg=\"join connections\" obj=join id=f0ffec58a387 l=127.0.0.1:8237 r=[2c0f:fc88:5:8feb:102d:5ea6:7e41:3a5f]:55239\n"
          ]
        },
        {
          "output_type": "stream",
          "name": "stdout",
          "text": [
            "\u001b[1;35mt=2025-01-13T16:35:37+0000 lvl=info msg=\"join connections\" obj=join id=f0ffec58a387 l=127.0.0.1:8237 r=[2c0f:fc88:5:8feb:102d:5ea6:7e41:3a5f]:55239\u001b[0m\n"
          ]
        },
        {
          "output_type": "stream",
          "name": "stderr",
          "text": [
            "INFO:pyngrok.process.ngrok:t=2025-01-13T16:35:37+0000 lvl=info msg=\"join connections\" obj=join id=9300e5f82aa6 l=127.0.0.1:8237 r=[2c0f:fc88:5:8feb:102d:5ea6:7e41:3a5f]:55239\n"
          ]
        },
        {
          "output_type": "stream",
          "name": "stdout",
          "text": [
            "\u001b[1;35mt=2025-01-13T16:35:37+0000 lvl=info msg=\"join connections\" obj=join id=9300e5f82aa6 l=127.0.0.1:8237 r=[2c0f:fc88:5:8feb:102d:5ea6:7e41:3a5f]:55239\u001b[0m\n"
          ]
        },
        {
          "output_type": "stream",
          "name": "stderr",
          "text": [
            "INFO:pyngrok.process.ngrok:t=2025-01-13T16:35:37+0000 lvl=info msg=\"join connections\" obj=join id=9a41eb72aaa8 l=127.0.0.1:8237 r=[2c0f:fc88:5:8feb:102d:5ea6:7e41:3a5f]:55239\n"
          ]
        },
        {
          "output_type": "stream",
          "name": "stdout",
          "text": [
            "\u001b[1;35mt=2025-01-13T16:35:37+0000 lvl=info msg=\"join connections\" obj=join id=9a41eb72aaa8 l=127.0.0.1:8237 r=[2c0f:fc88:5:8feb:102d:5ea6:7e41:3a5f]:55239\u001b[0m\n"
          ]
        },
        {
          "output_type": "stream",
          "name": "stderr",
          "text": [
            "INFO:pyngrok.process.ngrok:t=2025-01-13T16:35:37+0000 lvl=info msg=\"join connections\" obj=join id=cd146517fda6 l=127.0.0.1:8237 r=[2c0f:fc88:5:8feb:102d:5ea6:7e41:3a5f]:55239\n"
          ]
        },
        {
          "output_type": "stream",
          "name": "stdout",
          "text": [
            "\u001b[1;35mt=2025-01-13T16:35:37+0000 lvl=info msg=\"join connections\" obj=join id=cd146517fda6 l=127.0.0.1:8237 r=[2c0f:fc88:5:8feb:102d:5ea6:7e41:3a5f]:55239\u001b[0m\n"
          ]
        },
        {
          "output_type": "stream",
          "name": "stderr",
          "text": [
            "INFO:pyngrok.process.ngrok:t=2025-01-13T16:35:37+0000 lvl=info msg=\"join connections\" obj=join id=113120bfbdd0 l=127.0.0.1:8237 r=[2c0f:fc88:5:8feb:102d:5ea6:7e41:3a5f]:55239\n"
          ]
        },
        {
          "output_type": "stream",
          "name": "stdout",
          "text": [
            "\u001b[1;35mt=2025-01-13T16:35:37+0000 lvl=info msg=\"join connections\" obj=join id=113120bfbdd0 l=127.0.0.1:8237 r=[2c0f:fc88:5:8feb:102d:5ea6:7e41:3a5f]:55239\u001b[0m\n"
          ]
        },
        {
          "output_type": "stream",
          "name": "stderr",
          "text": [
            "INFO:pyngrok.process.ngrok:t=2025-01-13T16:35:37+0000 lvl=info msg=\"join connections\" obj=join id=6c9e0594bd82 l=127.0.0.1:8237 r=[2c0f:fc88:5:8feb:102d:5ea6:7e41:3a5f]:55239\n"
          ]
        },
        {
          "output_type": "stream",
          "name": "stdout",
          "text": [
            "\u001b[1;35mt=2025-01-13T16:35:37+0000 lvl=info msg=\"join connections\" obj=join id=6c9e0594bd82 l=127.0.0.1:8237 r=[2c0f:fc88:5:8feb:102d:5ea6:7e41:3a5f]:55239\u001b[0m\n"
          ]
        },
        {
          "output_type": "stream",
          "name": "stderr",
          "text": [
            "INFO:pyngrok.process.ngrok:t=2025-01-13T16:35:37+0000 lvl=info msg=\"join connections\" obj=join id=2ead868208b4 l=127.0.0.1:8237 r=[2c0f:fc88:5:8feb:102d:5ea6:7e41:3a5f]:55239\n"
          ]
        },
        {
          "output_type": "stream",
          "name": "stdout",
          "text": [
            "\u001b[1;35mt=2025-01-13T16:35:37+0000 lvl=info msg=\"join connections\" obj=join id=2ead868208b4 l=127.0.0.1:8237 r=[2c0f:fc88:5:8feb:102d:5ea6:7e41:3a5f]:55239\u001b[0m\n"
          ]
        },
        {
          "output_type": "stream",
          "name": "stderr",
          "text": [
            "INFO:pyngrok.process.ngrok:t=2025-01-13T16:35:37+0000 lvl=info msg=\"join connections\" obj=join id=36356861cfbf l=127.0.0.1:8237 r=[2c0f:fc88:5:8feb:102d:5ea6:7e41:3a5f]:55239\n"
          ]
        },
        {
          "output_type": "stream",
          "name": "stdout",
          "text": [
            "\u001b[1;35mt=2025-01-13T16:35:37+0000 lvl=info msg=\"join connections\" obj=join id=36356861cfbf l=127.0.0.1:8237 r=[2c0f:fc88:5:8feb:102d:5ea6:7e41:3a5f]:55239\u001b[0m\n"
          ]
        },
        {
          "output_type": "stream",
          "name": "stderr",
          "text": [
            "INFO:pyngrok.process.ngrok:t=2025-01-13T16:35:37+0000 lvl=info msg=\"join connections\" obj=join id=92787af1e569 l=127.0.0.1:8237 r=[2c0f:fc88:5:8feb:102d:5ea6:7e41:3a5f]:55239\n"
          ]
        },
        {
          "output_type": "stream",
          "name": "stdout",
          "text": [
            "\u001b[1;35mt=2025-01-13T16:35:37+0000 lvl=info msg=\"join connections\" obj=join id=92787af1e569 l=127.0.0.1:8237 r=[2c0f:fc88:5:8feb:102d:5ea6:7e41:3a5f]:55239\u001b[0m\n"
          ]
        },
        {
          "output_type": "stream",
          "name": "stderr",
          "text": [
            "INFO:pyngrok.process.ngrok:t=2025-01-13T16:35:37+0000 lvl=info msg=\"join connections\" obj=join id=b2625ed1f418 l=127.0.0.1:8237 r=[2c0f:fc88:5:8feb:102d:5ea6:7e41:3a5f]:55239\n"
          ]
        },
        {
          "output_type": "stream",
          "name": "stdout",
          "text": [
            "\u001b[1;35mt=2025-01-13T16:35:37+0000 lvl=info msg=\"join connections\" obj=join id=b2625ed1f418 l=127.0.0.1:8237 r=[2c0f:fc88:5:8feb:102d:5ea6:7e41:3a5f]:55239\u001b[0m\n"
          ]
        },
        {
          "output_type": "stream",
          "name": "stderr",
          "text": [
            "INFO:pyngrok.process.ngrok:t=2025-01-13T16:35:37+0000 lvl=info msg=\"join connections\" obj=join id=5df8fa60997d l=127.0.0.1:8237 r=[2c0f:fc88:5:8feb:102d:5ea6:7e41:3a5f]:55239\n"
          ]
        },
        {
          "output_type": "stream",
          "name": "stdout",
          "text": [
            "\u001b[32mINFO\u001b[0m:     2c0f:fc88:5:8feb:102d:5ea6:7e41:3a5f:0 - \"\u001b[1mGET /assets/%40radix-DeK6qiuw.js HTTP/1.1\u001b[0m\" \u001b[32m200 OK\u001b[0m\n",
            "\u001b[32mINFO\u001b[0m:     2c0f:fc88:5:8feb:102d:5ea6:7e41:3a5f:0 - \"\u001b[1mGET /assets/%40reactflow-C26Olbza.css HTTP/1.1\u001b[0m\" \u001b[32m200 OK\u001b[0m\n",
            "\u001b[32mINFO\u001b[0m:     2c0f:fc88:5:8feb:102d:5ea6:7e41:3a5f:0 - \"\u001b[1mGET /assets/%40react-router-B3Z5rLr2.js HTTP/1.1\u001b[0m\" \u001b[32m200 OK\u001b[0m\n",
            "\u001b[1;35mt=2025-01-13T16:35:37+0000 lvl=info msg=\"join connections\" obj=join id=5df8fa60997d l=127.0.0.1:8237 r=[2c0f:fc88:5:8feb:102d:5ea6:7e41:3a5f]:55239\u001b[0m\n"
          ]
        },
        {
          "output_type": "stream",
          "name": "stderr",
          "text": [
            "INFO:pyngrok.process.ngrok:t=2025-01-13T16:35:37+0000 lvl=info msg=\"join connections\" obj=join id=44c49e75ce3d l=127.0.0.1:8237 r=[2c0f:fc88:5:8feb:102d:5ea6:7e41:3a5f]:55239\n"
          ]
        },
        {
          "output_type": "stream",
          "name": "stdout",
          "text": [
            "\u001b[1;35mt=2025-01-13T16:35:37+0000 lvl=info msg=\"join connections\" obj=join id=44c49e75ce3d l=127.0.0.1:8237 r=[2c0f:fc88:5:8feb:102d:5ea6:7e41:3a5f]:55239\u001b[0m\n"
          ]
        },
        {
          "output_type": "stream",
          "name": "stderr",
          "text": [
            "INFO:pyngrok.process.ngrok:t=2025-01-13T16:35:37+0000 lvl=info msg=\"join connections\" obj=join id=6f39f844bb7d l=127.0.0.1:8237 r=[2c0f:fc88:5:8feb:102d:5ea6:7e41:3a5f]:55239\n"
          ]
        },
        {
          "output_type": "stream",
          "name": "stdout",
          "text": [
            "\u001b[1;35mt=2025-01-13T16:35:37+0000 lvl=info msg=\"join connections\" obj=join id=6f39f844bb7d l=127.0.0.1:8237 r=[2c0f:fc88:5:8feb:102d:5ea6:7e41:3a5f]:55239\u001b[0m\n"
          ]
        },
        {
          "output_type": "stream",
          "name": "stderr",
          "text": [
            "INFO:pyngrok.process.ngrok:t=2025-01-13T16:35:37+0000 lvl=info msg=\"join connections\" obj=join id=c87710e6b4b3 l=127.0.0.1:8237 r=[2c0f:fc88:5:8feb:102d:5ea6:7e41:3a5f]:55239\n"
          ]
        },
        {
          "output_type": "stream",
          "name": "stdout",
          "text": [
            "\u001b[1;35mt=2025-01-13T16:35:37+0000 lvl=info msg=\"join connections\" obj=join id=c87710e6b4b3 l=127.0.0.1:8237 r=[2c0f:fc88:5:8feb:102d:5ea6:7e41:3a5f]:55239\u001b[0m\n"
          ]
        },
        {
          "output_type": "stream",
          "name": "stderr",
          "text": [
            "INFO:pyngrok.process.ngrok:t=2025-01-13T16:35:37+0000 lvl=info msg=\"join connections\" obj=join id=d87234c77364 l=127.0.0.1:8237 r=[2c0f:fc88:5:8feb:102d:5ea6:7e41:3a5f]:55239\n"
          ]
        },
        {
          "output_type": "stream",
          "name": "stdout",
          "text": [
            "\u001b[1;35mt=2025-01-13T16:35:37+0000 lvl=info msg=\"join connections\" obj=join id=d87234c77364 l=127.0.0.1:8237 r=[2c0f:fc88:5:8feb:102d:5ea6:7e41:3a5f]:55239\u001b[0m\n"
          ]
        },
        {
          "output_type": "stream",
          "name": "stderr",
          "text": [
            "INFO:pyngrok.process.ngrok:t=2025-01-13T16:35:37+0000 lvl=info msg=\"join connections\" obj=join id=cf3eb9b95bc4 l=127.0.0.1:8237 r=[2c0f:fc88:5:8feb:102d:5ea6:7e41:3a5f]:55239\n"
          ]
        },
        {
          "output_type": "stream",
          "name": "stdout",
          "text": [
            "\u001b[1;35mt=2025-01-13T16:35:37+0000 lvl=info msg=\"join connections\" obj=join id=cf3eb9b95bc4 l=127.0.0.1:8237 r=[2c0f:fc88:5:8feb:102d:5ea6:7e41:3a5f]:55239\u001b[0m\n"
          ]
        },
        {
          "output_type": "stream",
          "name": "stderr",
          "text": [
            "INFO:pyngrok.process.ngrok:t=2025-01-13T16:35:37+0000 lvl=info msg=\"join connections\" obj=join id=983d0ddb68f7 l=127.0.0.1:8237 r=[2c0f:fc88:5:8feb:102d:5ea6:7e41:3a5f]:55239\n"
          ]
        },
        {
          "output_type": "stream",
          "name": "stdout",
          "text": [
            "\u001b[1;35mt=2025-01-13T16:35:37+0000 lvl=info msg=\"join connections\" obj=join id=983d0ddb68f7 l=127.0.0.1:8237 r=[2c0f:fc88:5:8feb:102d:5ea6:7e41:3a5f]:55239\u001b[0m\n"
          ]
        },
        {
          "output_type": "stream",
          "name": "stderr",
          "text": [
            "INFO:pyngrok.process.ngrok:t=2025-01-13T16:35:37+0000 lvl=info msg=\"join connections\" obj=join id=17e9bca42329 l=127.0.0.1:8237 r=[2c0f:fc88:5:8feb:102d:5ea6:7e41:3a5f]:55239\n"
          ]
        },
        {
          "output_type": "stream",
          "name": "stdout",
          "text": [
            "\u001b[1;35mt=2025-01-13T16:35:37+0000 lvl=info msg=\"join connections\" obj=join id=17e9bca42329 l=127.0.0.1:8237 r=[2c0f:fc88:5:8feb:102d:5ea6:7e41:3a5f]:55239\u001b[0m\n"
          ]
        },
        {
          "output_type": "stream",
          "name": "stderr",
          "text": [
            "INFO:pyngrok.process.ngrok:t=2025-01-13T16:35:37+0000 lvl=info msg=\"join connections\" obj=join id=7137ad4ac56c l=127.0.0.1:8237 r=[2c0f:fc88:5:8feb:102d:5ea6:7e41:3a5f]:55239\n"
          ]
        },
        {
          "output_type": "stream",
          "name": "stdout",
          "text": [
            "\u001b[1;35mt=2025-01-13T16:35:37+0000 lvl=info msg=\"join connections\" obj=join id=7137ad4ac56c l=127.0.0.1:8237 r=[2c0f:fc88:5:8feb:102d:5ea6:7e41:3a5f]:55239\u001b[0m\n"
          ]
        },
        {
          "output_type": "stream",
          "name": "stderr",
          "text": [
            "INFO:pyngrok.process.ngrok:t=2025-01-13T16:35:37+0000 lvl=info msg=\"join connections\" obj=join id=e1c5034fb17e l=127.0.0.1:8237 r=[2c0f:fc88:5:8feb:102d:5ea6:7e41:3a5f]:55239\n"
          ]
        },
        {
          "output_type": "stream",
          "name": "stdout",
          "text": [
            "\u001b[1;35mt=2025-01-13T16:35:37+0000 lvl=info msg=\"join connections\" obj=join id=e1c5034fb17e l=127.0.0.1:8237 r=[2c0f:fc88:5:8feb:102d:5ea6:7e41:3a5f]:55239\u001b[0m\n"
          ]
        },
        {
          "output_type": "stream",
          "name": "stderr",
          "text": [
            "INFO:pyngrok.process.ngrok:t=2025-01-13T16:35:37+0000 lvl=info msg=\"join connections\" obj=join id=789946079d3a l=127.0.0.1:8237 r=[2c0f:fc88:5:8feb:102d:5ea6:7e41:3a5f]:55239\n"
          ]
        },
        {
          "output_type": "stream",
          "name": "stdout",
          "text": [
            "\u001b[1;35mt=2025-01-13T16:35:37+0000 lvl=info msg=\"join connections\" obj=join id=789946079d3a l=127.0.0.1:8237 r=[2c0f:fc88:5:8feb:102d:5ea6:7e41:3a5f]:55239\u001b[0m\n"
          ]
        },
        {
          "output_type": "stream",
          "name": "stderr",
          "text": [
            "INFO:pyngrok.process.ngrok:t=2025-01-13T16:35:37+0000 lvl=info msg=\"join connections\" obj=join id=19e578964390 l=127.0.0.1:8237 r=[2c0f:fc88:5:8feb:102d:5ea6:7e41:3a5f]:55239\n"
          ]
        },
        {
          "output_type": "stream",
          "name": "stdout",
          "text": [
            "\u001b[32mINFO\u001b[0m:     2c0f:fc88:5:8feb:102d:5ea6:7e41:3a5f:0 - \"\u001b[1mGET /assets/%40tanstack-DT5WLu9C.js HTTP/1.1\u001b[0m\" \u001b[32m200 OK\u001b[0m\n",
            "\u001b[32mINFO\u001b[0m:     2c0f:fc88:5:8feb:102d:5ea6:7e41:3a5f:0 - \"\u001b[1mGET /assets/inter-cyrillic-ext-400-normal-Dc4VJyIJ.woff2 HTTP/1.1\u001b[0m\" \u001b[32m200 OK\u001b[0m\n",
            "\u001b[32mINFO\u001b[0m:     2c0f:fc88:5:8feb:102d:5ea6:7e41:3a5f:0 - \"\u001b[1mGET /assets/%40reactflow-D2Y7BWwz.js HTTP/1.1\u001b[0m\" \u001b[32m200 OK\u001b[0m\n",
            "\u001b[32mINFO\u001b[0m:     2c0f:fc88:5:8feb:102d:5ea6:7e41:3a5f:0 - \"\u001b[1mGET /assets/inter-vietnamese-400-normal-DMkecbls.woff2 HTTP/1.1\u001b[0m\" \u001b[32m200 OK\u001b[0m\n",
            "\u001b[1;35mt=2025-01-13T16:35:37+0000 lvl=info msg=\"join connections\" obj=join id=19e578964390 l=127.0.0.1:8237 r=[2c0f:fc88:5:8feb:102d:5ea6:7e41:3a5f]:55239\u001b[0m\n"
          ]
        },
        {
          "output_type": "stream",
          "name": "stderr",
          "text": [
            "INFO:pyngrok.process.ngrok:t=2025-01-13T16:35:37+0000 lvl=info msg=\"join connections\" obj=join id=c430e72c38fa l=127.0.0.1:8237 r=[2c0f:fc88:5:8feb:102d:5ea6:7e41:3a5f]:55239\n"
          ]
        },
        {
          "output_type": "stream",
          "name": "stdout",
          "text": [
            "\u001b[1;35mt=2025-01-13T16:35:37+0000 lvl=info msg=\"join connections\" obj=join id=c430e72c38fa l=127.0.0.1:8237 r=[2c0f:fc88:5:8feb:102d:5ea6:7e41:3a5f]:55239\u001b[0m\n"
          ]
        },
        {
          "output_type": "stream",
          "name": "stderr",
          "text": [
            "INFO:pyngrok.process.ngrok:t=2025-01-13T16:35:37+0000 lvl=info msg=\"join connections\" obj=join id=942d31d8d19a l=127.0.0.1:8237 r=[2c0f:fc88:5:8feb:102d:5ea6:7e41:3a5f]:55239\n"
          ]
        },
        {
          "output_type": "stream",
          "name": "stdout",
          "text": [
            "\u001b[1;35mt=2025-01-13T16:35:37+0000 lvl=info msg=\"join connections\" obj=join id=942d31d8d19a l=127.0.0.1:8237 r=[2c0f:fc88:5:8feb:102d:5ea6:7e41:3a5f]:55239\u001b[0m\n"
          ]
        },
        {
          "output_type": "stream",
          "name": "stderr",
          "text": [
            "INFO:pyngrok.process.ngrok:t=2025-01-13T16:35:37+0000 lvl=info msg=\"join connections\" obj=join id=fa7a90e58ef9 l=127.0.0.1:8237 r=[2c0f:fc88:5:8feb:102d:5ea6:7e41:3a5f]:55239\n"
          ]
        },
        {
          "output_type": "stream",
          "name": "stdout",
          "text": [
            "\u001b[1;35mt=2025-01-13T16:35:37+0000 lvl=info msg=\"join connections\" obj=join id=fa7a90e58ef9 l=127.0.0.1:8237 r=[2c0f:fc88:5:8feb:102d:5ea6:7e41:3a5f]:55239\u001b[0m\n"
          ]
        },
        {
          "output_type": "stream",
          "name": "stderr",
          "text": [
            "INFO:pyngrok.process.ngrok:t=2025-01-13T16:35:37+0000 lvl=info msg=\"join connections\" obj=join id=516662ad363b l=127.0.0.1:8237 r=[2c0f:fc88:5:8feb:102d:5ea6:7e41:3a5f]:55239\n"
          ]
        },
        {
          "output_type": "stream",
          "name": "stdout",
          "text": [
            "\u001b[1;35mt=2025-01-13T16:35:37+0000 lvl=info msg=\"join connections\" obj=join id=516662ad363b l=127.0.0.1:8237 r=[2c0f:fc88:5:8feb:102d:5ea6:7e41:3a5f]:55239\u001b[0m\n"
          ]
        },
        {
          "output_type": "stream",
          "name": "stderr",
          "text": [
            "INFO:pyngrok.process.ngrok:t=2025-01-13T16:35:37+0000 lvl=info msg=\"join connections\" obj=join id=72d1ebf6e315 l=127.0.0.1:8237 r=[2c0f:fc88:5:8feb:102d:5ea6:7e41:3a5f]:55239\n"
          ]
        },
        {
          "output_type": "stream",
          "name": "stdout",
          "text": [
            "\u001b[1;35mt=2025-01-13T16:35:37+0000 lvl=info msg=\"join connections\" obj=join id=72d1ebf6e315 l=127.0.0.1:8237 r=[2c0f:fc88:5:8feb:102d:5ea6:7e41:3a5f]:55239\u001b[0m\n"
          ]
        },
        {
          "output_type": "stream",
          "name": "stderr",
          "text": [
            "INFO:pyngrok.process.ngrok:t=2025-01-13T16:35:37+0000 lvl=info msg=\"join connections\" obj=join id=18a3c4b8be4c l=127.0.0.1:8237 r=[2c0f:fc88:5:8feb:102d:5ea6:7e41:3a5f]:55239\n"
          ]
        },
        {
          "output_type": "stream",
          "name": "stdout",
          "text": [
            "\u001b[1;35mt=2025-01-13T16:35:37+0000 lvl=info msg=\"join connections\" obj=join id=18a3c4b8be4c l=127.0.0.1:8237 r=[2c0f:fc88:5:8feb:102d:5ea6:7e41:3a5f]:55239\u001b[0m\n"
          ]
        },
        {
          "output_type": "stream",
          "name": "stderr",
          "text": [
            "INFO:pyngrok.process.ngrok:t=2025-01-13T16:35:37+0000 lvl=info msg=\"join connections\" obj=join id=e4797bba799b l=127.0.0.1:8237 r=[2c0f:fc88:5:8feb:102d:5ea6:7e41:3a5f]:55239\n"
          ]
        },
        {
          "output_type": "stream",
          "name": "stdout",
          "text": [
            "\u001b[1;35mt=2025-01-13T16:35:37+0000 lvl=info msg=\"join connections\" obj=join id=e4797bba799b l=127.0.0.1:8237 r=[2c0f:fc88:5:8feb:102d:5ea6:7e41:3a5f]:55239\u001b[0m\n"
          ]
        },
        {
          "output_type": "stream",
          "name": "stderr",
          "text": [
            "INFO:pyngrok.process.ngrok:t=2025-01-13T16:35:37+0000 lvl=info msg=\"join connections\" obj=join id=da47f7ba1055 l=127.0.0.1:8237 r=[2c0f:fc88:5:8feb:102d:5ea6:7e41:3a5f]:55239\n"
          ]
        },
        {
          "output_type": "stream",
          "name": "stdout",
          "text": [
            "\u001b[1;35mt=2025-01-13T16:35:37+0000 lvl=info msg=\"join connections\" obj=join id=da47f7ba1055 l=127.0.0.1:8237 r=[2c0f:fc88:5:8feb:102d:5ea6:7e41:3a5f]:55239\u001b[0m\n"
          ]
        },
        {
          "output_type": "stream",
          "name": "stderr",
          "text": [
            "INFO:pyngrok.process.ngrok:t=2025-01-13T16:35:37+0000 lvl=info msg=\"join connections\" obj=join id=975c60376666 l=127.0.0.1:8237 r=[2c0f:fc88:5:8feb:102d:5ea6:7e41:3a5f]:55239\n"
          ]
        },
        {
          "output_type": "stream",
          "name": "stdout",
          "text": [
            "\u001b[1;35mt=2025-01-13T16:35:37+0000 lvl=info msg=\"join connections\" obj=join id=975c60376666 l=127.0.0.1:8237 r=[2c0f:fc88:5:8feb:102d:5ea6:7e41:3a5f]:55239\u001b[0m\n"
          ]
        },
        {
          "output_type": "stream",
          "name": "stderr",
          "text": [
            "INFO:pyngrok.process.ngrok:t=2025-01-13T16:35:37+0000 lvl=info msg=\"join connections\" obj=join id=f52b062e3699 l=127.0.0.1:8237 r=[2c0f:fc88:5:8feb:102d:5ea6:7e41:3a5f]:55239\n"
          ]
        },
        {
          "output_type": "stream",
          "name": "stdout",
          "text": [
            "\u001b[1;35mt=2025-01-13T16:35:37+0000 lvl=info msg=\"join connections\" obj=join id=f52b062e3699 l=127.0.0.1:8237 r=[2c0f:fc88:5:8feb:102d:5ea6:7e41:3a5f]:55239\u001b[0m\n"
          ]
        },
        {
          "output_type": "stream",
          "name": "stderr",
          "text": [
            "INFO:pyngrok.process.ngrok:t=2025-01-13T16:35:37+0000 lvl=info msg=\"join connections\" obj=join id=c1e51b9685c4 l=127.0.0.1:8237 r=[2c0f:fc88:5:8feb:102d:5ea6:7e41:3a5f]:55239\n"
          ]
        },
        {
          "output_type": "stream",
          "name": "stdout",
          "text": [
            "\u001b[32mINFO\u001b[0m:     2c0f:fc88:5:8feb:102d:5ea6:7e41:3a5f:0 - \"\u001b[1mGET /assets/inter-greek-ext-400-normal-Bput3-QP.woff2 HTTP/1.1\u001b[0m\" \u001b[32m200 OK\u001b[0m\n",
            "\u001b[1;35mt=2025-01-13T16:35:37+0000 lvl=info msg=\"join connections\" obj=join id=c1e51b9685c4 l=127.0.0.1:8237 r=[2c0f:fc88:5:8feb:102d:5ea6:7e41:3a5f]:55239\u001b[0m\n"
          ]
        },
        {
          "output_type": "stream",
          "name": "stderr",
          "text": [
            "INFO:pyngrok.process.ngrok:t=2025-01-13T16:35:37+0000 lvl=info msg=\"join connections\" obj=join id=9a952ccdaa68 l=127.0.0.1:8237 r=[2c0f:fc88:5:8feb:102d:5ea6:7e41:3a5f]:55239\n"
          ]
        },
        {
          "output_type": "stream",
          "name": "stdout",
          "text": [
            "\u001b[1;35mt=2025-01-13T16:35:37+0000 lvl=info msg=\"join connections\" obj=join id=9a952ccdaa68 l=127.0.0.1:8237 r=[2c0f:fc88:5:8feb:102d:5ea6:7e41:3a5f]:55239\u001b[0m\n"
          ]
        },
        {
          "output_type": "stream",
          "name": "stderr",
          "text": [
            "INFO:pyngrok.process.ngrok:t=2025-01-13T16:35:37+0000 lvl=info msg=\"join connections\" obj=join id=1cf6a124f73f l=127.0.0.1:8237 r=[2c0f:fc88:5:8feb:102d:5ea6:7e41:3a5f]:55239\n"
          ]
        },
        {
          "output_type": "stream",
          "name": "stdout",
          "text": [
            "\u001b[1;35mt=2025-01-13T16:35:37+0000 lvl=info msg=\"join connections\" obj=join id=1cf6a124f73f l=127.0.0.1:8237 r=[2c0f:fc88:5:8feb:102d:5ea6:7e41:3a5f]:55239\u001b[0m\n"
          ]
        },
        {
          "output_type": "stream",
          "name": "stderr",
          "text": [
            "INFO:pyngrok.process.ngrok:t=2025-01-13T16:35:37+0000 lvl=info msg=\"join connections\" obj=join id=92fc14f0cff4 l=127.0.0.1:8237 r=[2c0f:fc88:5:8feb:102d:5ea6:7e41:3a5f]:55239\n"
          ]
        },
        {
          "output_type": "stream",
          "name": "stdout",
          "text": [
            "\u001b[1;35mt=2025-01-13T16:35:37+0000 lvl=info msg=\"join connections\" obj=join id=92fc14f0cff4 l=127.0.0.1:8237 r=[2c0f:fc88:5:8feb:102d:5ea6:7e41:3a5f]:55239\u001b[0m\n"
          ]
        },
        {
          "output_type": "stream",
          "name": "stderr",
          "text": [
            "INFO:pyngrok.process.ngrok:t=2025-01-13T16:35:37+0000 lvl=info msg=\"join connections\" obj=join id=7f7a2be2c927 l=127.0.0.1:8237 r=[2c0f:fc88:5:8feb:102d:5ea6:7e41:3a5f]:55239\n"
          ]
        },
        {
          "output_type": "stream",
          "name": "stdout",
          "text": [
            "\u001b[1;35mt=2025-01-13T16:35:37+0000 lvl=info msg=\"join connections\" obj=join id=7f7a2be2c927 l=127.0.0.1:8237 r=[2c0f:fc88:5:8feb:102d:5ea6:7e41:3a5f]:55239\u001b[0m\n"
          ]
        },
        {
          "output_type": "stream",
          "name": "stderr",
          "text": [
            "INFO:pyngrok.process.ngrok:t=2025-01-13T16:35:37+0000 lvl=info msg=\"join connections\" obj=join id=28bc2ca64a38 l=127.0.0.1:8237 r=[2c0f:fc88:5:8feb:102d:5ea6:7e41:3a5f]:55239\n"
          ]
        },
        {
          "output_type": "stream",
          "name": "stdout",
          "text": [
            "\u001b[1;35mt=2025-01-13T16:35:37+0000 lvl=info msg=\"join connections\" obj=join id=28bc2ca64a38 l=127.0.0.1:8237 r=[2c0f:fc88:5:8feb:102d:5ea6:7e41:3a5f]:55239\u001b[0m\n"
          ]
        },
        {
          "output_type": "stream",
          "name": "stderr",
          "text": [
            "INFO:pyngrok.process.ngrok:t=2025-01-13T16:35:37+0000 lvl=info msg=\"join connections\" obj=join id=5c38ff9049ae l=127.0.0.1:8237 r=[2c0f:fc88:5:8feb:102d:5ea6:7e41:3a5f]:55239\n"
          ]
        },
        {
          "output_type": "stream",
          "name": "stdout",
          "text": [
            "\u001b[1;35mt=2025-01-13T16:35:37+0000 lvl=info msg=\"join connections\" obj=join id=5c38ff9049ae l=127.0.0.1:8237 r=[2c0f:fc88:5:8feb:102d:5ea6:7e41:3a5f]:55239\u001b[0m\n"
          ]
        },
        {
          "output_type": "stream",
          "name": "stderr",
          "text": [
            "INFO:pyngrok.process.ngrok:t=2025-01-13T16:35:37+0000 lvl=info msg=\"join connections\" obj=join id=f2c236c28072 l=127.0.0.1:8237 r=[2c0f:fc88:5:8feb:102d:5ea6:7e41:3a5f]:55239\n"
          ]
        },
        {
          "output_type": "stream",
          "name": "stdout",
          "text": [
            "\u001b[1;35mt=2025-01-13T16:35:37+0000 lvl=info msg=\"join connections\" obj=join id=f2c236c28072 l=127.0.0.1:8237 r=[2c0f:fc88:5:8feb:102d:5ea6:7e41:3a5f]:55239\u001b[0m\n"
          ]
        },
        {
          "output_type": "stream",
          "name": "stderr",
          "text": [
            "INFO:pyngrok.process.ngrok:t=2025-01-13T16:35:37+0000 lvl=info msg=\"join connections\" obj=join id=0c73db2e1d08 l=127.0.0.1:8237 r=[2c0f:fc88:5:8feb:102d:5ea6:7e41:3a5f]:55239\n"
          ]
        },
        {
          "output_type": "stream",
          "name": "stdout",
          "text": [
            "\u001b[1;35mt=2025-01-13T16:35:37+0000 lvl=info msg=\"join connections\" obj=join id=0c73db2e1d08 l=127.0.0.1:8237 r=[2c0f:fc88:5:8feb:102d:5ea6:7e41:3a5f]:55239\u001b[0m\n"
          ]
        },
        {
          "output_type": "stream",
          "name": "stderr",
          "text": [
            "INFO:pyngrok.process.ngrok:t=2025-01-13T16:35:37+0000 lvl=info msg=\"join connections\" obj=join id=833d5d6f385d l=127.0.0.1:8237 r=[2c0f:fc88:5:8feb:102d:5ea6:7e41:3a5f]:55239\n"
          ]
        },
        {
          "output_type": "stream",
          "name": "stdout",
          "text": [
            "\u001b[1;35mt=2025-01-13T16:35:37+0000 lvl=info msg=\"join connections\" obj=join id=833d5d6f385d l=127.0.0.1:8237 r=[2c0f:fc88:5:8feb:102d:5ea6:7e41:3a5f]:55239\u001b[0m\n"
          ]
        },
        {
          "output_type": "stream",
          "name": "stderr",
          "text": [
            "INFO:pyngrok.process.ngrok:t=2025-01-13T16:35:37+0000 lvl=info msg=\"join connections\" obj=join id=e3064965c582 l=127.0.0.1:8237 r=[2c0f:fc88:5:8feb:102d:5ea6:7e41:3a5f]:55239\n"
          ]
        },
        {
          "output_type": "stream",
          "name": "stdout",
          "text": [
            "\u001b[32mINFO\u001b[0m:     2c0f:fc88:5:8feb:102d:5ea6:7e41:3a5f:0 - \"\u001b[1mGET /assets/inter-greek-400-normal-DxZsaF_h.woff2 HTTP/1.1\u001b[0m\" \u001b[32m200 OK\u001b[0m\n",
            "\u001b[1;35mt=2025-01-13T16:35:37+0000 lvl=info msg=\"join connections\" obj=join id=e3064965c582 l=127.0.0.1:8237 r=[2c0f:fc88:5:8feb:102d:5ea6:7e41:3a5f]:55239\u001b[0m\n"
          ]
        },
        {
          "output_type": "stream",
          "name": "stderr",
          "text": [
            "INFO:pyngrok.process.ngrok:t=2025-01-13T16:35:37+0000 lvl=info msg=\"join connections\" obj=join id=88786845c07b l=127.0.0.1:8237 r=[2c0f:fc88:5:8feb:102d:5ea6:7e41:3a5f]:55239\n"
          ]
        },
        {
          "output_type": "stream",
          "name": "stdout",
          "text": [
            "\u001b[1;35mt=2025-01-13T16:35:37+0000 lvl=info msg=\"join connections\" obj=join id=88786845c07b l=127.0.0.1:8237 r=[2c0f:fc88:5:8feb:102d:5ea6:7e41:3a5f]:55239\u001b[0m\n"
          ]
        },
        {
          "output_type": "stream",
          "name": "stderr",
          "text": [
            "INFO:pyngrok.process.ngrok:t=2025-01-13T16:35:37+0000 lvl=info msg=\"join connections\" obj=join id=cc484be7b0df l=127.0.0.1:8237 r=[2c0f:fc88:5:8feb:102d:5ea6:7e41:3a5f]:55239\n"
          ]
        },
        {
          "output_type": "stream",
          "name": "stdout",
          "text": [
            "\u001b[1;35mt=2025-01-13T16:35:37+0000 lvl=info msg=\"join connections\" obj=join id=cc484be7b0df l=127.0.0.1:8237 r=[2c0f:fc88:5:8feb:102d:5ea6:7e41:3a5f]:55239\u001b[0m\n"
          ]
        },
        {
          "output_type": "stream",
          "name": "stderr",
          "text": [
            "INFO:pyngrok.process.ngrok:t=2025-01-13T16:35:37+0000 lvl=info msg=\"join connections\" obj=join id=422012da08ac l=127.0.0.1:8237 r=[2c0f:fc88:5:8feb:102d:5ea6:7e41:3a5f]:55239\n"
          ]
        },
        {
          "output_type": "stream",
          "name": "stdout",
          "text": [
            "\u001b[1;35mt=2025-01-13T16:35:37+0000 lvl=info msg=\"join connections\" obj=join id=422012da08ac l=127.0.0.1:8237 r=[2c0f:fc88:5:8feb:102d:5ea6:7e41:3a5f]:55239\u001b[0m\n"
          ]
        },
        {
          "output_type": "stream",
          "name": "stderr",
          "text": [
            "INFO:pyngrok.process.ngrok:t=2025-01-13T16:35:37+0000 lvl=info msg=\"join connections\" obj=join id=9caf584ecb25 l=127.0.0.1:8237 r=[2c0f:fc88:5:8feb:102d:5ea6:7e41:3a5f]:55239\n"
          ]
        },
        {
          "output_type": "stream",
          "name": "stdout",
          "text": [
            "\u001b[1;35mt=2025-01-13T16:35:37+0000 lvl=info msg=\"join connections\" obj=join id=9caf584ecb25 l=127.0.0.1:8237 r=[2c0f:fc88:5:8feb:102d:5ea6:7e41:3a5f]:55239\u001b[0m\n"
          ]
        },
        {
          "output_type": "stream",
          "name": "stderr",
          "text": [
            "INFO:pyngrok.process.ngrok:t=2025-01-13T16:35:37+0000 lvl=info msg=\"join connections\" obj=join id=b27cbb6a768e l=127.0.0.1:8237 r=[2c0f:fc88:5:8feb:102d:5ea6:7e41:3a5f]:55239\n"
          ]
        },
        {
          "output_type": "stream",
          "name": "stdout",
          "text": [
            "\u001b[1;35mt=2025-01-13T16:35:37+0000 lvl=info msg=\"join connections\" obj=join id=b27cbb6a768e l=127.0.0.1:8237 r=[2c0f:fc88:5:8feb:102d:5ea6:7e41:3a5f]:55239\u001b[0m\n"
          ]
        },
        {
          "output_type": "stream",
          "name": "stderr",
          "text": [
            "INFO:pyngrok.process.ngrok:t=2025-01-13T16:35:37+0000 lvl=info msg=\"join connections\" obj=join id=d681d1ca30e1 l=127.0.0.1:8237 r=[2c0f:fc88:5:8feb:102d:5ea6:7e41:3a5f]:55239\n"
          ]
        },
        {
          "output_type": "stream",
          "name": "stdout",
          "text": [
            "\u001b[1;35mt=2025-01-13T16:35:37+0000 lvl=info msg=\"join connections\" obj=join id=d681d1ca30e1 l=127.0.0.1:8237 r=[2c0f:fc88:5:8feb:102d:5ea6:7e41:3a5f]:55239\u001b[0m\n"
          ]
        },
        {
          "output_type": "stream",
          "name": "stderr",
          "text": [
            "INFO:pyngrok.process.ngrok:t=2025-01-13T16:35:37+0000 lvl=info msg=\"join connections\" obj=join id=b84ada38ef51 l=127.0.0.1:8237 r=[2c0f:fc88:5:8feb:102d:5ea6:7e41:3a5f]:55239\n"
          ]
        },
        {
          "output_type": "stream",
          "name": "stdout",
          "text": [
            "\u001b[1;35mt=2025-01-13T16:35:37+0000 lvl=info msg=\"join connections\" obj=join id=b84ada38ef51 l=127.0.0.1:8237 r=[2c0f:fc88:5:8feb:102d:5ea6:7e41:3a5f]:55239\u001b[0m\n"
          ]
        },
        {
          "output_type": "stream",
          "name": "stderr",
          "text": [
            "INFO:pyngrok.process.ngrok:t=2025-01-13T16:35:37+0000 lvl=info msg=\"join connections\" obj=join id=22b340fd4a5a l=127.0.0.1:8237 r=[2c0f:fc88:5:8feb:102d:5ea6:7e41:3a5f]:55239\n"
          ]
        },
        {
          "output_type": "stream",
          "name": "stdout",
          "text": [
            "\u001b[1;35mt=2025-01-13T16:35:37+0000 lvl=info msg=\"join connections\" obj=join id=22b340fd4a5a l=127.0.0.1:8237 r=[2c0f:fc88:5:8feb:102d:5ea6:7e41:3a5f]:55239\u001b[0m\n"
          ]
        },
        {
          "output_type": "stream",
          "name": "stderr",
          "text": [
            "INFO:pyngrok.process.ngrok:t=2025-01-13T16:35:37+0000 lvl=info msg=\"join connections\" obj=join id=119314a4d607 l=127.0.0.1:8237 r=[2c0f:fc88:5:8feb:102d:5ea6:7e41:3a5f]:55239\n"
          ]
        },
        {
          "output_type": "stream",
          "name": "stdout",
          "text": [
            "\u001b[32mINFO\u001b[0m:     2c0f:fc88:5:8feb:102d:5ea6:7e41:3a5f:0 - \"\u001b[1mGET /assets/inter-cyrillic-400-normal-BLGc9T1a.woff2 HTTP/1.1\u001b[0m\" \u001b[32m200 OK\u001b[0m\n",
            "\u001b[32mINFO\u001b[0m:     2c0f:fc88:5:8feb:102d:5ea6:7e41:3a5f:0 - \"\u001b[1mGET /assets/inter-cyrillic-500-normal-D4Vwzodn.woff2 HTTP/1.1\u001b[0m\" \u001b[32m200 OK\u001b[0m\n",
            "\u001b[1;35mt=2025-01-13T16:35:37+0000 lvl=info msg=\"join connections\" obj=join id=119314a4d607 l=127.0.0.1:8237 r=[2c0f:fc88:5:8feb:102d:5ea6:7e41:3a5f]:55239\u001b[0m\n"
          ]
        },
        {
          "output_type": "stream",
          "name": "stderr",
          "text": [
            "INFO:pyngrok.process.ngrok:t=2025-01-13T16:35:37+0000 lvl=info msg=\"join connections\" obj=join id=759a3b45ac55 l=127.0.0.1:8237 r=[2c0f:fc88:5:8feb:102d:5ea6:7e41:3a5f]:55239\n"
          ]
        },
        {
          "output_type": "stream",
          "name": "stdout",
          "text": [
            "\u001b[1;35mt=2025-01-13T16:35:37+0000 lvl=info msg=\"join connections\" obj=join id=759a3b45ac55 l=127.0.0.1:8237 r=[2c0f:fc88:5:8feb:102d:5ea6:7e41:3a5f]:55239\u001b[0m\n"
          ]
        },
        {
          "output_type": "stream",
          "name": "stderr",
          "text": [
            "INFO:pyngrok.process.ngrok:t=2025-01-13T16:35:37+0000 lvl=info msg=\"join connections\" obj=join id=2472b9e9a1bd l=127.0.0.1:8237 r=[2c0f:fc88:5:8feb:102d:5ea6:7e41:3a5f]:55239\n"
          ]
        },
        {
          "output_type": "stream",
          "name": "stdout",
          "text": [
            "\u001b[1;35mt=2025-01-13T16:35:37+0000 lvl=info msg=\"join connections\" obj=join id=2472b9e9a1bd l=127.0.0.1:8237 r=[2c0f:fc88:5:8feb:102d:5ea6:7e41:3a5f]:55239\u001b[0m\n"
          ]
        },
        {
          "output_type": "stream",
          "name": "stderr",
          "text": [
            "INFO:pyngrok.process.ngrok:t=2025-01-13T16:35:37+0000 lvl=info msg=\"join connections\" obj=join id=e714fbe4cbb7 l=127.0.0.1:8237 r=[2c0f:fc88:5:8feb:102d:5ea6:7e41:3a5f]:55239\n"
          ]
        },
        {
          "output_type": "stream",
          "name": "stdout",
          "text": [
            "\u001b[1;35mt=2025-01-13T16:35:37+0000 lvl=info msg=\"join connections\" obj=join id=e714fbe4cbb7 l=127.0.0.1:8237 r=[2c0f:fc88:5:8feb:102d:5ea6:7e41:3a5f]:55239\u001b[0m\n"
          ]
        },
        {
          "output_type": "stream",
          "name": "stderr",
          "text": [
            "INFO:pyngrok.process.ngrok:t=2025-01-13T16:35:37+0000 lvl=info msg=\"join connections\" obj=join id=3adacc88e84b l=127.0.0.1:8237 r=[2c0f:fc88:5:8feb:102d:5ea6:7e41:3a5f]:55239\n"
          ]
        },
        {
          "output_type": "stream",
          "name": "stdout",
          "text": [
            "\u001b[1;35mt=2025-01-13T16:35:37+0000 lvl=info msg=\"join connections\" obj=join id=3adacc88e84b l=127.0.0.1:8237 r=[2c0f:fc88:5:8feb:102d:5ea6:7e41:3a5f]:55239\u001b[0m\n"
          ]
        },
        {
          "output_type": "stream",
          "name": "stderr",
          "text": [
            "INFO:pyngrok.process.ngrok:t=2025-01-13T16:35:37+0000 lvl=info msg=\"join connections\" obj=join id=03c723a24290 l=127.0.0.1:8237 r=[2c0f:fc88:5:8feb:102d:5ea6:7e41:3a5f]:55239\n"
          ]
        },
        {
          "output_type": "stream",
          "name": "stdout",
          "text": [
            "\u001b[1;35mt=2025-01-13T16:35:37+0000 lvl=info msg=\"join connections\" obj=join id=03c723a24290 l=127.0.0.1:8237 r=[2c0f:fc88:5:8feb:102d:5ea6:7e41:3a5f]:55239\u001b[0m\n"
          ]
        },
        {
          "output_type": "stream",
          "name": "stderr",
          "text": [
            "INFO:pyngrok.process.ngrok:t=2025-01-13T16:35:37+0000 lvl=info msg=\"join connections\" obj=join id=70ebd3058d7a l=127.0.0.1:8237 r=[2c0f:fc88:5:8feb:102d:5ea6:7e41:3a5f]:55239\n"
          ]
        },
        {
          "output_type": "stream",
          "name": "stdout",
          "text": [
            "\u001b[1;35mt=2025-01-13T16:35:37+0000 lvl=info msg=\"join connections\" obj=join id=70ebd3058d7a l=127.0.0.1:8237 r=[2c0f:fc88:5:8feb:102d:5ea6:7e41:3a5f]:55239\u001b[0m\n"
          ]
        },
        {
          "output_type": "stream",
          "name": "stderr",
          "text": [
            "INFO:pyngrok.process.ngrok:t=2025-01-13T16:35:37+0000 lvl=info msg=\"join connections\" obj=join id=705e3caee4f9 l=127.0.0.1:8237 r=[2c0f:fc88:5:8feb:102d:5ea6:7e41:3a5f]:55239\n"
          ]
        },
        {
          "output_type": "stream",
          "name": "stdout",
          "text": [
            "\u001b[1;35mt=2025-01-13T16:35:37+0000 lvl=info msg=\"join connections\" obj=join id=705e3caee4f9 l=127.0.0.1:8237 r=[2c0f:fc88:5:8feb:102d:5ea6:7e41:3a5f]:55239\u001b[0m\n"
          ]
        },
        {
          "output_type": "stream",
          "name": "stderr",
          "text": [
            "INFO:pyngrok.process.ngrok:t=2025-01-13T16:35:37+0000 lvl=info msg=\"join connections\" obj=join id=17dfa8e5f958 l=127.0.0.1:8237 r=[2c0f:fc88:5:8feb:102d:5ea6:7e41:3a5f]:55239\n"
          ]
        },
        {
          "output_type": "stream",
          "name": "stdout",
          "text": [
            "\u001b[1;35mt=2025-01-13T16:35:37+0000 lvl=info msg=\"join connections\" obj=join id=17dfa8e5f958 l=127.0.0.1:8237 r=[2c0f:fc88:5:8feb:102d:5ea6:7e41:3a5f]:55239\u001b[0m\n"
          ]
        },
        {
          "output_type": "stream",
          "name": "stderr",
          "text": [
            "INFO:pyngrok.process.ngrok:t=2025-01-13T16:35:37+0000 lvl=info msg=\"join connections\" obj=join id=fbbce66e2d6f l=127.0.0.1:8237 r=[2c0f:fc88:5:8feb:102d:5ea6:7e41:3a5f]:55239\n"
          ]
        },
        {
          "output_type": "stream",
          "name": "stdout",
          "text": [
            "\u001b[1;35mt=2025-01-13T16:35:37+0000 lvl=info msg=\"join connections\" obj=join id=fbbce66e2d6f l=127.0.0.1:8237 r=[2c0f:fc88:5:8feb:102d:5ea6:7e41:3a5f]:55239\u001b[0m\n"
          ]
        },
        {
          "output_type": "stream",
          "name": "stderr",
          "text": [
            "INFO:pyngrok.process.ngrok:t=2025-01-13T16:35:37+0000 lvl=info msg=\"join connections\" obj=join id=23ba824dabe4 l=127.0.0.1:8237 r=[2c0f:fc88:5:8feb:102d:5ea6:7e41:3a5f]:55239\n"
          ]
        },
        {
          "output_type": "stream",
          "name": "stdout",
          "text": [
            "\u001b[1;35mt=2025-01-13T16:35:37+0000 lvl=info msg=\"join connections\" obj=join id=23ba824dabe4 l=127.0.0.1:8237 r=[2c0f:fc88:5:8feb:102d:5ea6:7e41:3a5f]:55239\u001b[0m\n"
          ]
        },
        {
          "output_type": "stream",
          "name": "stderr",
          "text": [
            "INFO:pyngrok.process.ngrok:t=2025-01-13T16:35:37+0000 lvl=info msg=\"join connections\" obj=join id=37e27c19a30e l=127.0.0.1:8237 r=[2c0f:fc88:5:8feb:102d:5ea6:7e41:3a5f]:55239\n"
          ]
        },
        {
          "output_type": "stream",
          "name": "stdout",
          "text": [
            "\u001b[1;35mt=2025-01-13T16:35:37+0000 lvl=info msg=\"join connections\" obj=join id=37e27c19a30e l=127.0.0.1:8237 r=[2c0f:fc88:5:8feb:102d:5ea6:7e41:3a5f]:55239\u001b[0m\n"
          ]
        },
        {
          "output_type": "stream",
          "name": "stderr",
          "text": [
            "INFO:pyngrok.process.ngrok:t=2025-01-13T16:35:37+0000 lvl=info msg=\"join connections\" obj=join id=ec5bb4c0a444 l=127.0.0.1:8237 r=[2c0f:fc88:5:8feb:102d:5ea6:7e41:3a5f]:55239\n"
          ]
        },
        {
          "output_type": "stream",
          "name": "stdout",
          "text": [
            "\u001b[1;35mt=2025-01-13T16:35:37+0000 lvl=info msg=\"join connections\" obj=join id=ec5bb4c0a444 l=127.0.0.1:8237 r=[2c0f:fc88:5:8feb:102d:5ea6:7e41:3a5f]:55239\u001b[0m\n"
          ]
        },
        {
          "output_type": "stream",
          "name": "stderr",
          "text": [
            "INFO:pyngrok.process.ngrok:t=2025-01-13T16:35:37+0000 lvl=info msg=\"join connections\" obj=join id=9c096f558470 l=127.0.0.1:8237 r=[2c0f:fc88:5:8feb:102d:5ea6:7e41:3a5f]:55239\n"
          ]
        },
        {
          "output_type": "stream",
          "name": "stdout",
          "text": [
            "\u001b[1;35mt=2025-01-13T16:35:37+0000 lvl=info msg=\"join connections\" obj=join id=9c096f558470 l=127.0.0.1:8237 r=[2c0f:fc88:5:8feb:102d:5ea6:7e41:3a5f]:55239\u001b[0m\n"
          ]
        },
        {
          "output_type": "stream",
          "name": "stderr",
          "text": [
            "INFO:pyngrok.process.ngrok:t=2025-01-13T16:35:37+0000 lvl=info msg=\"join connections\" obj=join id=f3cdce50a6c1 l=127.0.0.1:8237 r=[2c0f:fc88:5:8feb:102d:5ea6:7e41:3a5f]:55239\n"
          ]
        },
        {
          "output_type": "stream",
          "name": "stdout",
          "text": [
            "\u001b[1;35mt=2025-01-13T16:35:37+0000 lvl=info msg=\"join connections\" obj=join id=f3cdce50a6c1 l=127.0.0.1:8237 r=[2c0f:fc88:5:8feb:102d:5ea6:7e41:3a5f]:55239\u001b[0m\n"
          ]
        },
        {
          "output_type": "stream",
          "name": "stderr",
          "text": [
            "INFO:pyngrok.process.ngrok:t=2025-01-13T16:35:37+0000 lvl=info msg=\"join connections\" obj=join id=7bf548bb4124 l=127.0.0.1:8237 r=[2c0f:fc88:5:8feb:102d:5ea6:7e41:3a5f]:55239\n"
          ]
        },
        {
          "output_type": "stream",
          "name": "stdout",
          "text": [
            "\u001b[1;35mt=2025-01-13T16:35:37+0000 lvl=info msg=\"join connections\" obj=join id=7bf548bb4124 l=127.0.0.1:8237 r=[2c0f:fc88:5:8feb:102d:5ea6:7e41:3a5f]:55239\u001b[0m\n"
          ]
        },
        {
          "output_type": "stream",
          "name": "stderr",
          "text": [
            "INFO:pyngrok.process.ngrok:t=2025-01-13T16:35:37+0000 lvl=info msg=\"join connections\" obj=join id=5b90727415b5 l=127.0.0.1:8237 r=[2c0f:fc88:5:8feb:102d:5ea6:7e41:3a5f]:55239\n"
          ]
        },
        {
          "output_type": "stream",
          "name": "stdout",
          "text": [
            "\u001b[1;35mt=2025-01-13T16:35:37+0000 lvl=info msg=\"join connections\" obj=join id=5b90727415b5 l=127.0.0.1:8237 r=[2c0f:fc88:5:8feb:102d:5ea6:7e41:3a5f]:55239\u001b[0m\n"
          ]
        },
        {
          "output_type": "stream",
          "name": "stderr",
          "text": [
            "INFO:pyngrok.process.ngrok:t=2025-01-13T16:35:37+0000 lvl=info msg=\"join connections\" obj=join id=6a56b7752c1d l=127.0.0.1:8237 r=[2c0f:fc88:5:8feb:102d:5ea6:7e41:3a5f]:55239\n"
          ]
        },
        {
          "output_type": "stream",
          "name": "stdout",
          "text": [
            "\u001b[1;35mt=2025-01-13T16:35:37+0000 lvl=info msg=\"join connections\" obj=join id=6a56b7752c1d l=127.0.0.1:8237 r=[2c0f:fc88:5:8feb:102d:5ea6:7e41:3a5f]:55239\u001b[0m\n"
          ]
        },
        {
          "output_type": "stream",
          "name": "stderr",
          "text": [
            "INFO:pyngrok.process.ngrok:t=2025-01-13T16:35:37+0000 lvl=info msg=\"join connections\" obj=join id=0a61bf6f754d l=127.0.0.1:8237 r=[2c0f:fc88:5:8feb:102d:5ea6:7e41:3a5f]:55239\n"
          ]
        },
        {
          "output_type": "stream",
          "name": "stdout",
          "text": [
            "\u001b[32mINFO\u001b[0m:     2c0f:fc88:5:8feb:102d:5ea6:7e41:3a5f:0 - \"\u001b[1mGET /assets/inter-cyrillic-600-normal-BGBWG807.woff2 HTTP/1.1\u001b[0m\" \u001b[32m200 OK\u001b[0m\n",
            "\u001b[32mINFO\u001b[0m:     2c0f:fc88:5:8feb:102d:5ea6:7e41:3a5f:0 - \"\u001b[1mGET /assets/inter-greek-500-normal-CeQXL5ds.woff2 HTTP/1.1\u001b[0m\" \u001b[32m200 OK\u001b[0m\n",
            "\u001b[1;35mt=2025-01-13T16:35:37+0000 lvl=info msg=\"join connections\" obj=join id=0a61bf6f754d l=127.0.0.1:8237 r=[2c0f:fc88:5:8feb:102d:5ea6:7e41:3a5f]:55239\u001b[0m\n"
          ]
        },
        {
          "output_type": "stream",
          "name": "stderr",
          "text": [
            "INFO:pyngrok.process.ngrok:t=2025-01-13T16:35:37+0000 lvl=info msg=\"join connections\" obj=join id=57177e761bdd l=127.0.0.1:8237 r=[2c0f:fc88:5:8feb:102d:5ea6:7e41:3a5f]:55239\n"
          ]
        },
        {
          "output_type": "stream",
          "name": "stdout",
          "text": [
            "\u001b[1;35mt=2025-01-13T16:35:37+0000 lvl=info msg=\"join connections\" obj=join id=57177e761bdd l=127.0.0.1:8237 r=[2c0f:fc88:5:8feb:102d:5ea6:7e41:3a5f]:55239\u001b[0m\n"
          ]
        },
        {
          "output_type": "stream",
          "name": "stderr",
          "text": [
            "INFO:pyngrok.process.ngrok:t=2025-01-13T16:35:37+0000 lvl=info msg=\"join connections\" obj=join id=d8faf0407bc6 l=127.0.0.1:8237 r=[2c0f:fc88:5:8feb:102d:5ea6:7e41:3a5f]:55239\n"
          ]
        },
        {
          "output_type": "stream",
          "name": "stdout",
          "text": [
            "\u001b[1;35mt=2025-01-13T16:35:37+0000 lvl=info msg=\"join connections\" obj=join id=d8faf0407bc6 l=127.0.0.1:8237 r=[2c0f:fc88:5:8feb:102d:5ea6:7e41:3a5f]:55239\u001b[0m\n"
          ]
        },
        {
          "output_type": "stream",
          "name": "stderr",
          "text": [
            "INFO:pyngrok.process.ngrok:t=2025-01-13T16:35:37+0000 lvl=info msg=\"join connections\" obj=join id=5d1c2397b6d0 l=127.0.0.1:8237 r=[2c0f:fc88:5:8feb:102d:5ea6:7e41:3a5f]:55239\n"
          ]
        },
        {
          "output_type": "stream",
          "name": "stdout",
          "text": [
            "\u001b[1;35mt=2025-01-13T16:35:37+0000 lvl=info msg=\"join connections\" obj=join id=5d1c2397b6d0 l=127.0.0.1:8237 r=[2c0f:fc88:5:8feb:102d:5ea6:7e41:3a5f]:55239\u001b[0m\n"
          ]
        },
        {
          "output_type": "stream",
          "name": "stderr",
          "text": [
            "INFO:pyngrok.process.ngrok:t=2025-01-13T16:35:37+0000 lvl=info msg=\"join connections\" obj=join id=d38f13e1c518 l=127.0.0.1:8237 r=[2c0f:fc88:5:8feb:102d:5ea6:7e41:3a5f]:55239\n"
          ]
        },
        {
          "output_type": "stream",
          "name": "stdout",
          "text": [
            "\u001b[1;35mt=2025-01-13T16:35:37+0000 lvl=info msg=\"join connections\" obj=join id=d38f13e1c518 l=127.0.0.1:8237 r=[2c0f:fc88:5:8feb:102d:5ea6:7e41:3a5f]:55239\u001b[0m\n"
          ]
        },
        {
          "output_type": "stream",
          "name": "stderr",
          "text": [
            "INFO:pyngrok.process.ngrok:t=2025-01-13T16:35:37+0000 lvl=info msg=\"join connections\" obj=join id=579c2964a4d9 l=127.0.0.1:8237 r=[2c0f:fc88:5:8feb:102d:5ea6:7e41:3a5f]:55239\n"
          ]
        },
        {
          "output_type": "stream",
          "name": "stdout",
          "text": [
            "\u001b[1;35mt=2025-01-13T16:35:37+0000 lvl=info msg=\"join connections\" obj=join id=579c2964a4d9 l=127.0.0.1:8237 r=[2c0f:fc88:5:8feb:102d:5ea6:7e41:3a5f]:55239\u001b[0m\n"
          ]
        },
        {
          "output_type": "stream",
          "name": "stderr",
          "text": [
            "INFO:pyngrok.process.ngrok:t=2025-01-13T16:35:37+0000 lvl=info msg=\"join connections\" obj=join id=33d6b732a728 l=127.0.0.1:8237 r=[2c0f:fc88:5:8feb:102d:5ea6:7e41:3a5f]:55239\n"
          ]
        },
        {
          "output_type": "stream",
          "name": "stdout",
          "text": [
            "\u001b[1;35mt=2025-01-13T16:35:37+0000 lvl=info msg=\"join connections\" obj=join id=33d6b732a728 l=127.0.0.1:8237 r=[2c0f:fc88:5:8feb:102d:5ea6:7e41:3a5f]:55239\u001b[0m\n"
          ]
        },
        {
          "output_type": "stream",
          "name": "stderr",
          "text": [
            "INFO:pyngrok.process.ngrok:t=2025-01-13T16:35:37+0000 lvl=info msg=\"join connections\" obj=join id=b992c7bbcc83 l=127.0.0.1:8237 r=[2c0f:fc88:5:8feb:102d:5ea6:7e41:3a5f]:55239\n"
          ]
        },
        {
          "output_type": "stream",
          "name": "stdout",
          "text": [
            "\u001b[1;35mt=2025-01-13T16:35:37+0000 lvl=info msg=\"join connections\" obj=join id=b992c7bbcc83 l=127.0.0.1:8237 r=[2c0f:fc88:5:8feb:102d:5ea6:7e41:3a5f]:55239\u001b[0m\n"
          ]
        },
        {
          "output_type": "stream",
          "name": "stderr",
          "text": [
            "INFO:pyngrok.process.ngrok:t=2025-01-13T16:35:37+0000 lvl=info msg=\"join connections\" obj=join id=b8ae9fc31014 l=127.0.0.1:8237 r=[2c0f:fc88:5:8feb:102d:5ea6:7e41:3a5f]:55239\n"
          ]
        },
        {
          "output_type": "stream",
          "name": "stdout",
          "text": [
            "\u001b[1;35mt=2025-01-13T16:35:37+0000 lvl=info msg=\"join connections\" obj=join id=b8ae9fc31014 l=127.0.0.1:8237 r=[2c0f:fc88:5:8feb:102d:5ea6:7e41:3a5f]:55239\u001b[0m\n"
          ]
        },
        {
          "output_type": "stream",
          "name": "stderr",
          "text": [
            "INFO:pyngrok.process.ngrok:t=2025-01-13T16:35:37+0000 lvl=info msg=\"join connections\" obj=join id=207cd92111c2 l=127.0.0.1:8237 r=[2c0f:fc88:5:8feb:102d:5ea6:7e41:3a5f]:55239\n"
          ]
        },
        {
          "output_type": "stream",
          "name": "stdout",
          "text": [
            "\u001b[1;35mt=2025-01-13T16:35:37+0000 lvl=info msg=\"join connections\" obj=join id=207cd92111c2 l=127.0.0.1:8237 r=[2c0f:fc88:5:8feb:102d:5ea6:7e41:3a5f]:55239\u001b[0m\n"
          ]
        },
        {
          "output_type": "stream",
          "name": "stderr",
          "text": [
            "INFO:pyngrok.process.ngrok:t=2025-01-13T16:35:37+0000 lvl=info msg=\"join connections\" obj=join id=ab009574c958 l=127.0.0.1:8237 r=[2c0f:fc88:5:8feb:102d:5ea6:7e41:3a5f]:55239\n"
          ]
        },
        {
          "output_type": "stream",
          "name": "stdout",
          "text": [
            "\u001b[32mINFO\u001b[0m:     2c0f:fc88:5:8feb:102d:5ea6:7e41:3a5f:0 - \"\u001b[1mGET /assets/inter-latin-400-normal-BOOGhInR.woff2 HTTP/1.1\u001b[0m\" \u001b[32m200 OK\u001b[0m\n",
            "\u001b[1;35mt=2025-01-13T16:35:37+0000 lvl=info msg=\"join connections\" obj=join id=ab009574c958 l=127.0.0.1:8237 r=[2c0f:fc88:5:8feb:102d:5ea6:7e41:3a5f]:55239\u001b[0m\n"
          ]
        },
        {
          "output_type": "stream",
          "name": "stderr",
          "text": [
            "INFO:pyngrok.process.ngrok:t=2025-01-13T16:35:37+0000 lvl=info msg=\"join connections\" obj=join id=9d099fa27820 l=127.0.0.1:8237 r=[2c0f:fc88:5:8feb:102d:5ea6:7e41:3a5f]:55239\n"
          ]
        },
        {
          "output_type": "stream",
          "name": "stdout",
          "text": [
            "\u001b[1;35mt=2025-01-13T16:35:37+0000 lvl=info msg=\"join connections\" obj=join id=9d099fa27820 l=127.0.0.1:8237 r=[2c0f:fc88:5:8feb:102d:5ea6:7e41:3a5f]:55239\u001b[0m\n"
          ]
        },
        {
          "output_type": "stream",
          "name": "stderr",
          "text": [
            "INFO:pyngrok.process.ngrok:t=2025-01-13T16:35:37+0000 lvl=info msg=\"join connections\" obj=join id=290fdb0de5fe l=127.0.0.1:8237 r=[2c0f:fc88:5:8feb:102d:5ea6:7e41:3a5f]:55239\n"
          ]
        },
        {
          "output_type": "stream",
          "name": "stdout",
          "text": [
            "\u001b[1;35mt=2025-01-13T16:35:37+0000 lvl=info msg=\"join connections\" obj=join id=290fdb0de5fe l=127.0.0.1:8237 r=[2c0f:fc88:5:8feb:102d:5ea6:7e41:3a5f]:55239\u001b[0m\n"
          ]
        },
        {
          "output_type": "stream",
          "name": "stderr",
          "text": [
            "INFO:pyngrok.process.ngrok:t=2025-01-13T16:35:37+0000 lvl=info msg=\"join connections\" obj=join id=fb27a09ce516 l=127.0.0.1:8237 r=[2c0f:fc88:5:8feb:102d:5ea6:7e41:3a5f]:55239\n"
          ]
        },
        {
          "output_type": "stream",
          "name": "stdout",
          "text": [
            "\u001b[1;35mt=2025-01-13T16:35:37+0000 lvl=info msg=\"join connections\" obj=join id=fb27a09ce516 l=127.0.0.1:8237 r=[2c0f:fc88:5:8feb:102d:5ea6:7e41:3a5f]:55239\u001b[0m\n"
          ]
        },
        {
          "output_type": "stream",
          "name": "stderr",
          "text": [
            "INFO:pyngrok.process.ngrok:t=2025-01-13T16:35:37+0000 lvl=info msg=\"join connections\" obj=join id=57d25fb5f300 l=127.0.0.1:8237 r=[2c0f:fc88:5:8feb:102d:5ea6:7e41:3a5f]:55239\n"
          ]
        },
        {
          "output_type": "stream",
          "name": "stdout",
          "text": [
            "\u001b[1;35mt=2025-01-13T16:35:37+0000 lvl=info msg=\"join connections\" obj=join id=57d25fb5f300 l=127.0.0.1:8237 r=[2c0f:fc88:5:8feb:102d:5ea6:7e41:3a5f]:55239\u001b[0m\n"
          ]
        },
        {
          "output_type": "stream",
          "name": "stderr",
          "text": [
            "INFO:pyngrok.process.ngrok:t=2025-01-13T16:35:37+0000 lvl=info msg=\"join connections\" obj=join id=7f6e0ed57fdf l=127.0.0.1:8237 r=[2c0f:fc88:5:8feb:102d:5ea6:7e41:3a5f]:55239\n"
          ]
        },
        {
          "output_type": "stream",
          "name": "stdout",
          "text": [
            "\u001b[1;35mt=2025-01-13T16:35:37+0000 lvl=info msg=\"join connections\" obj=join id=7f6e0ed57fdf l=127.0.0.1:8237 r=[2c0f:fc88:5:8feb:102d:5ea6:7e41:3a5f]:55239\u001b[0m\n"
          ]
        },
        {
          "output_type": "stream",
          "name": "stderr",
          "text": [
            "INFO:pyngrok.process.ngrok:t=2025-01-13T16:35:37+0000 lvl=info msg=\"join connections\" obj=join id=8b4a2f57e051 l=127.0.0.1:8237 r=[2c0f:fc88:5:8feb:102d:5ea6:7e41:3a5f]:55239\n"
          ]
        },
        {
          "output_type": "stream",
          "name": "stdout",
          "text": [
            "\u001b[1;35mt=2025-01-13T16:35:37+0000 lvl=info msg=\"join connections\" obj=join id=8b4a2f57e051 l=127.0.0.1:8237 r=[2c0f:fc88:5:8feb:102d:5ea6:7e41:3a5f]:55239\u001b[0m\n"
          ]
        },
        {
          "output_type": "stream",
          "name": "stderr",
          "text": [
            "INFO:pyngrok.process.ngrok:t=2025-01-13T16:35:37+0000 lvl=info msg=\"join connections\" obj=join id=69239bc8b659 l=127.0.0.1:8237 r=[2c0f:fc88:5:8feb:102d:5ea6:7e41:3a5f]:55239\n"
          ]
        },
        {
          "output_type": "stream",
          "name": "stdout",
          "text": [
            "\u001b[1;35mt=2025-01-13T16:35:37+0000 lvl=info msg=\"join connections\" obj=join id=69239bc8b659 l=127.0.0.1:8237 r=[2c0f:fc88:5:8feb:102d:5ea6:7e41:3a5f]:55239\u001b[0m\n"
          ]
        },
        {
          "output_type": "stream",
          "name": "stderr",
          "text": [
            "INFO:pyngrok.process.ngrok:t=2025-01-13T16:35:37+0000 lvl=info msg=\"join connections\" obj=join id=fe9251fb6789 l=127.0.0.1:8237 r=[2c0f:fc88:5:8feb:102d:5ea6:7e41:3a5f]:55239\n"
          ]
        },
        {
          "output_type": "stream",
          "name": "stdout",
          "text": [
            "\u001b[1;35mt=2025-01-13T16:35:37+0000 lvl=info msg=\"join connections\" obj=join id=fe9251fb6789 l=127.0.0.1:8237 r=[2c0f:fc88:5:8feb:102d:5ea6:7e41:3a5f]:55239\u001b[0m\n"
          ]
        },
        {
          "output_type": "stream",
          "name": "stderr",
          "text": [
            "INFO:pyngrok.process.ngrok:t=2025-01-13T16:35:37+0000 lvl=info msg=\"join connections\" obj=join id=ea6af7e870d1 l=127.0.0.1:8237 r=[2c0f:fc88:5:8feb:102d:5ea6:7e41:3a5f]:55239\n"
          ]
        },
        {
          "output_type": "stream",
          "name": "stdout",
          "text": [
            "\u001b[32mINFO\u001b[0m:     2c0f:fc88:5:8feb:102d:5ea6:7e41:3a5f:0 - \"\u001b[1mGET /assets/inter-latin-500-normal-D2bGa7uu.woff2 HTTP/1.1\u001b[0m\" \u001b[32m200 OK\u001b[0m\n",
            "\u001b[1;35mt=2025-01-13T16:35:37+0000 lvl=info msg=\"join connections\" obj=join id=ea6af7e870d1 l=127.0.0.1:8237 r=[2c0f:fc88:5:8feb:102d:5ea6:7e41:3a5f]:55239\u001b[0m\n"
          ]
        },
        {
          "output_type": "stream",
          "name": "stderr",
          "text": [
            "INFO:pyngrok.process.ngrok:t=2025-01-13T16:35:37+0000 lvl=info msg=\"join connections\" obj=join id=c5413fab1489 l=127.0.0.1:8237 r=[2c0f:fc88:5:8feb:102d:5ea6:7e41:3a5f]:55239\n"
          ]
        },
        {
          "output_type": "stream",
          "name": "stdout",
          "text": [
            "\u001b[1;35mt=2025-01-13T16:35:37+0000 lvl=info msg=\"join connections\" obj=join id=c5413fab1489 l=127.0.0.1:8237 r=[2c0f:fc88:5:8feb:102d:5ea6:7e41:3a5f]:55239\u001b[0m\n"
          ]
        },
        {
          "output_type": "stream",
          "name": "stderr",
          "text": [
            "INFO:pyngrok.process.ngrok:t=2025-01-13T16:35:37+0000 lvl=info msg=\"join connections\" obj=join id=0b49707c6c9f l=127.0.0.1:8237 r=[2c0f:fc88:5:8feb:102d:5ea6:7e41:3a5f]:55239\n"
          ]
        },
        {
          "output_type": "stream",
          "name": "stdout",
          "text": [
            "\u001b[1;35mt=2025-01-13T16:35:37+0000 lvl=info msg=\"join connections\" obj=join id=0b49707c6c9f l=127.0.0.1:8237 r=[2c0f:fc88:5:8feb:102d:5ea6:7e41:3a5f]:55239\u001b[0m\n"
          ]
        },
        {
          "output_type": "stream",
          "name": "stderr",
          "text": [
            "INFO:pyngrok.process.ngrok:t=2025-01-13T16:35:37+0000 lvl=info msg=\"join connections\" obj=join id=b3221c1fa07d l=127.0.0.1:8237 r=[2c0f:fc88:5:8feb:102d:5ea6:7e41:3a5f]:55239\n"
          ]
        },
        {
          "output_type": "stream",
          "name": "stdout",
          "text": [
            "\u001b[1;35mt=2025-01-13T16:35:37+0000 lvl=info msg=\"join connections\" obj=join id=b3221c1fa07d l=127.0.0.1:8237 r=[2c0f:fc88:5:8feb:102d:5ea6:7e41:3a5f]:55239\u001b[0m\n"
          ]
        },
        {
          "output_type": "stream",
          "name": "stderr",
          "text": [
            "INFO:pyngrok.process.ngrok:t=2025-01-13T16:35:37+0000 lvl=info msg=\"join connections\" obj=join id=3a6b02fd58b8 l=127.0.0.1:8237 r=[2c0f:fc88:5:8feb:102d:5ea6:7e41:3a5f]:55239\n"
          ]
        },
        {
          "output_type": "stream",
          "name": "stdout",
          "text": [
            "\u001b[1;35mt=2025-01-13T16:35:37+0000 lvl=info msg=\"join connections\" obj=join id=3a6b02fd58b8 l=127.0.0.1:8237 r=[2c0f:fc88:5:8feb:102d:5ea6:7e41:3a5f]:55239\u001b[0m\n"
          ]
        },
        {
          "output_type": "stream",
          "name": "stderr",
          "text": [
            "INFO:pyngrok.process.ngrok:t=2025-01-13T16:35:37+0000 lvl=info msg=\"join connections\" obj=join id=d60a996379dd l=127.0.0.1:8237 r=[2c0f:fc88:5:8feb:102d:5ea6:7e41:3a5f]:55239\n"
          ]
        },
        {
          "output_type": "stream",
          "name": "stdout",
          "text": [
            "\u001b[1;35mt=2025-01-13T16:35:37+0000 lvl=info msg=\"join connections\" obj=join id=d60a996379dd l=127.0.0.1:8237 r=[2c0f:fc88:5:8feb:102d:5ea6:7e41:3a5f]:55239\u001b[0m\n"
          ]
        },
        {
          "output_type": "stream",
          "name": "stderr",
          "text": [
            "INFO:pyngrok.process.ngrok:t=2025-01-13T16:35:37+0000 lvl=info msg=\"join connections\" obj=join id=999e0b64af60 l=127.0.0.1:8237 r=[2c0f:fc88:5:8feb:102d:5ea6:7e41:3a5f]:55239\n"
          ]
        },
        {
          "output_type": "stream",
          "name": "stdout",
          "text": [
            "\u001b[1;35mt=2025-01-13T16:35:37+0000 lvl=info msg=\"join connections\" obj=join id=999e0b64af60 l=127.0.0.1:8237 r=[2c0f:fc88:5:8feb:102d:5ea6:7e41:3a5f]:55239\u001b[0m\n"
          ]
        },
        {
          "output_type": "stream",
          "name": "stderr",
          "text": [
            "INFO:pyngrok.process.ngrok:t=2025-01-13T16:35:37+0000 lvl=info msg=\"join connections\" obj=join id=437f79cffd4d l=127.0.0.1:8237 r=[2c0f:fc88:5:8feb:102d:5ea6:7e41:3a5f]:55239\n"
          ]
        },
        {
          "output_type": "stream",
          "name": "stdout",
          "text": [
            "\u001b[1;35mt=2025-01-13T16:35:37+0000 lvl=info msg=\"join connections\" obj=join id=437f79cffd4d l=127.0.0.1:8237 r=[2c0f:fc88:5:8feb:102d:5ea6:7e41:3a5f]:55239\u001b[0m\n"
          ]
        },
        {
          "output_type": "stream",
          "name": "stderr",
          "text": [
            "INFO:pyngrok.process.ngrok:t=2025-01-13T16:35:37+0000 lvl=info msg=\"join connections\" obj=join id=7f5ef64b88c8 l=127.0.0.1:8237 r=[2c0f:fc88:5:8feb:102d:5ea6:7e41:3a5f]:55239\n"
          ]
        },
        {
          "output_type": "stream",
          "name": "stdout",
          "text": [
            "\u001b[1;35mt=2025-01-13T16:35:37+0000 lvl=info msg=\"join connections\" obj=join id=7f5ef64b88c8 l=127.0.0.1:8237 r=[2c0f:fc88:5:8feb:102d:5ea6:7e41:3a5f]:55239\u001b[0m\n"
          ]
        },
        {
          "output_type": "stream",
          "name": "stderr",
          "text": [
            "INFO:pyngrok.process.ngrok:t=2025-01-13T16:35:37+0000 lvl=info msg=\"join connections\" obj=join id=d625c181e13a l=127.0.0.1:8237 r=[2c0f:fc88:5:8feb:102d:5ea6:7e41:3a5f]:55239\n"
          ]
        },
        {
          "output_type": "stream",
          "name": "stdout",
          "text": [
            "\u001b[1;35mt=2025-01-13T16:35:37+0000 lvl=info msg=\"join connections\" obj=join id=d625c181e13a l=127.0.0.1:8237 r=[2c0f:fc88:5:8feb:102d:5ea6:7e41:3a5f]:55239\u001b[0m\n"
          ]
        },
        {
          "output_type": "stream",
          "name": "stderr",
          "text": [
            "INFO:pyngrok.process.ngrok:t=2025-01-13T16:35:37+0000 lvl=info msg=\"join connections\" obj=join id=6415560a256c l=127.0.0.1:8237 r=[2c0f:fc88:5:8feb:102d:5ea6:7e41:3a5f]:55239\n"
          ]
        },
        {
          "output_type": "stream",
          "name": "stdout",
          "text": [
            "\u001b[32mINFO\u001b[0m:     2c0f:fc88:5:8feb:102d:5ea6:7e41:3a5f:0 - \"\u001b[1mGET /assets/inter-vietnamese-500-normal-DOriooB6.woff2 HTTP/1.1\u001b[0m\" \u001b[32m200 OK\u001b[0m\n",
            "\u001b[32mINFO\u001b[0m:     2c0f:fc88:5:8feb:102d:5ea6:7e41:3a5f:0 - \"\u001b[1mGET /assets/inter-latin-ext-500-normal-CIS2RHJS.woff2 HTTP/1.1\u001b[0m\" \u001b[32m200 OK\u001b[0m\n",
            "\u001b[1;35mt=2025-01-13T16:35:37+0000 lvl=info msg=\"join connections\" obj=join id=6415560a256c l=127.0.0.1:8237 r=[2c0f:fc88:5:8feb:102d:5ea6:7e41:3a5f]:55239\u001b[0m\n"
          ]
        },
        {
          "output_type": "stream",
          "name": "stderr",
          "text": [
            "INFO:pyngrok.process.ngrok:t=2025-01-13T16:35:37+0000 lvl=info msg=\"join connections\" obj=join id=186493288460 l=127.0.0.1:8237 r=[2c0f:fc88:5:8feb:102d:5ea6:7e41:3a5f]:55239\n"
          ]
        },
        {
          "output_type": "stream",
          "name": "stdout",
          "text": [
            "\u001b[1;35mt=2025-01-13T16:35:37+0000 lvl=info msg=\"join connections\" obj=join id=186493288460 l=127.0.0.1:8237 r=[2c0f:fc88:5:8feb:102d:5ea6:7e41:3a5f]:55239\u001b[0m\n"
          ]
        },
        {
          "output_type": "stream",
          "name": "stderr",
          "text": [
            "INFO:pyngrok.process.ngrok:t=2025-01-13T16:35:37+0000 lvl=info msg=\"join connections\" obj=join id=b370330514dd l=127.0.0.1:8237 r=[2c0f:fc88:5:8feb:102d:5ea6:7e41:3a5f]:55239\n"
          ]
        },
        {
          "output_type": "stream",
          "name": "stdout",
          "text": [
            "\u001b[1;35mt=2025-01-13T16:35:37+0000 lvl=info msg=\"join connections\" obj=join id=b370330514dd l=127.0.0.1:8237 r=[2c0f:fc88:5:8feb:102d:5ea6:7e41:3a5f]:55239\u001b[0m\n"
          ]
        },
        {
          "output_type": "stream",
          "name": "stderr",
          "text": [
            "INFO:pyngrok.process.ngrok:t=2025-01-13T16:35:37+0000 lvl=info msg=\"join connections\" obj=join id=37c051ea4d2e l=127.0.0.1:8237 r=[2c0f:fc88:5:8feb:102d:5ea6:7e41:3a5f]:55239\n"
          ]
        },
        {
          "output_type": "stream",
          "name": "stdout",
          "text": [
            "\u001b[1;35mt=2025-01-13T16:35:37+0000 lvl=info msg=\"join connections\" obj=join id=37c051ea4d2e l=127.0.0.1:8237 r=[2c0f:fc88:5:8feb:102d:5ea6:7e41:3a5f]:55239\u001b[0m\n"
          ]
        },
        {
          "output_type": "stream",
          "name": "stderr",
          "text": [
            "INFO:pyngrok.process.ngrok:t=2025-01-13T16:35:37+0000 lvl=info msg=\"join connections\" obj=join id=dcdef3b297f1 l=127.0.0.1:8237 r=[2c0f:fc88:5:8feb:102d:5ea6:7e41:3a5f]:55239\n"
          ]
        },
        {
          "output_type": "stream",
          "name": "stdout",
          "text": [
            "\u001b[1;35mt=2025-01-13T16:35:37+0000 lvl=info msg=\"join connections\" obj=join id=dcdef3b297f1 l=127.0.0.1:8237 r=[2c0f:fc88:5:8feb:102d:5ea6:7e41:3a5f]:55239\u001b[0m\n"
          ]
        },
        {
          "output_type": "stream",
          "name": "stderr",
          "text": [
            "INFO:pyngrok.process.ngrok:t=2025-01-13T16:35:37+0000 lvl=info msg=\"join connections\" obj=join id=af62abd714fa l=127.0.0.1:8237 r=[2c0f:fc88:5:8feb:102d:5ea6:7e41:3a5f]:55239\n"
          ]
        },
        {
          "output_type": "stream",
          "name": "stdout",
          "text": [
            "\u001b[1;35mt=2025-01-13T16:35:37+0000 lvl=info msg=\"join connections\" obj=join id=af62abd714fa l=127.0.0.1:8237 r=[2c0f:fc88:5:8feb:102d:5ea6:7e41:3a5f]:55239\u001b[0m\n"
          ]
        },
        {
          "output_type": "stream",
          "name": "stderr",
          "text": [
            "INFO:pyngrok.process.ngrok:t=2025-01-13T16:35:37+0000 lvl=info msg=\"join connections\" obj=join id=8ae8f85112ad l=127.0.0.1:8237 r=[2c0f:fc88:5:8feb:102d:5ea6:7e41:3a5f]:55239\n"
          ]
        },
        {
          "output_type": "stream",
          "name": "stdout",
          "text": [
            "\u001b[1;35mt=2025-01-13T16:35:37+0000 lvl=info msg=\"join connections\" obj=join id=8ae8f85112ad l=127.0.0.1:8237 r=[2c0f:fc88:5:8feb:102d:5ea6:7e41:3a5f]:55239\u001b[0m\n"
          ]
        },
        {
          "output_type": "stream",
          "name": "stderr",
          "text": [
            "INFO:pyngrok.process.ngrok:t=2025-01-13T16:35:37+0000 lvl=info msg=\"join connections\" obj=join id=dc55990220fa l=127.0.0.1:8237 r=[2c0f:fc88:5:8feb:102d:5ea6:7e41:3a5f]:55239\n"
          ]
        },
        {
          "output_type": "stream",
          "name": "stdout",
          "text": [
            "\u001b[1;35mt=2025-01-13T16:35:37+0000 lvl=info msg=\"join connections\" obj=join id=dc55990220fa l=127.0.0.1:8237 r=[2c0f:fc88:5:8feb:102d:5ea6:7e41:3a5f]:55239\u001b[0m\n"
          ]
        },
        {
          "output_type": "stream",
          "name": "stderr",
          "text": [
            "INFO:pyngrok.process.ngrok:t=2025-01-13T16:35:37+0000 lvl=info msg=\"join connections\" obj=join id=aa9ccd2f1abf l=127.0.0.1:8237 r=[2c0f:fc88:5:8feb:102d:5ea6:7e41:3a5f]:55239\n"
          ]
        },
        {
          "output_type": "stream",
          "name": "stdout",
          "text": [
            "\u001b[1;35mt=2025-01-13T16:35:37+0000 lvl=info msg=\"join connections\" obj=join id=aa9ccd2f1abf l=127.0.0.1:8237 r=[2c0f:fc88:5:8feb:102d:5ea6:7e41:3a5f]:55239\u001b[0m\n"
          ]
        },
        {
          "output_type": "stream",
          "name": "stderr",
          "text": [
            "INFO:pyngrok.process.ngrok:t=2025-01-13T16:35:37+0000 lvl=info msg=\"join connections\" obj=join id=f4d10f548694 l=127.0.0.1:8237 r=[2c0f:fc88:5:8feb:102d:5ea6:7e41:3a5f]:55239\n"
          ]
        },
        {
          "output_type": "stream",
          "name": "stdout",
          "text": [
            "\u001b[1;35mt=2025-01-13T16:35:37+0000 lvl=info msg=\"join connections\" obj=join id=f4d10f548694 l=127.0.0.1:8237 r=[2c0f:fc88:5:8feb:102d:5ea6:7e41:3a5f]:55239\u001b[0m\n"
          ]
        },
        {
          "output_type": "stream",
          "name": "stderr",
          "text": [
            "INFO:pyngrok.process.ngrok:t=2025-01-13T16:35:37+0000 lvl=info msg=\"join connections\" obj=join id=b333740da463 l=127.0.0.1:8237 r=[2c0f:fc88:5:8feb:102d:5ea6:7e41:3a5f]:55239\n"
          ]
        },
        {
          "output_type": "stream",
          "name": "stdout",
          "text": [
            "\u001b[32mINFO\u001b[0m:     2c0f:fc88:5:8feb:102d:5ea6:7e41:3a5f:0 - \"\u001b[1mGET /assets/inter-cyrillic-ext-500-normal-BShVwWPj.woff2 HTTP/1.1\u001b[0m\" \u001b[32m200 OK\u001b[0m\n",
            "\u001b[1;35mt=2025-01-13T16:35:37+0000 lvl=info msg=\"join connections\" obj=join id=b333740da463 l=127.0.0.1:8237 r=[2c0f:fc88:5:8feb:102d:5ea6:7e41:3a5f]:55239\u001b[0m\n"
          ]
        },
        {
          "output_type": "stream",
          "name": "stderr",
          "text": [
            "INFO:pyngrok.process.ngrok:t=2025-01-13T16:35:37+0000 lvl=info msg=\"join connections\" obj=join id=e3ddddbd0042 l=127.0.0.1:8237 r=[2c0f:fc88:5:8feb:102d:5ea6:7e41:3a5f]:55239\n"
          ]
        },
        {
          "output_type": "stream",
          "name": "stdout",
          "text": [
            "\u001b[1;35mt=2025-01-13T16:35:37+0000 lvl=info msg=\"join connections\" obj=join id=e3ddddbd0042 l=127.0.0.1:8237 r=[2c0f:fc88:5:8feb:102d:5ea6:7e41:3a5f]:55239\u001b[0m\n"
          ]
        },
        {
          "output_type": "stream",
          "name": "stderr",
          "text": [
            "INFO:pyngrok.process.ngrok:t=2025-01-13T16:35:37+0000 lvl=info msg=\"join connections\" obj=join id=d0b25f6dfa57 l=127.0.0.1:8237 r=[2c0f:fc88:5:8feb:102d:5ea6:7e41:3a5f]:55239\n"
          ]
        },
        {
          "output_type": "stream",
          "name": "stdout",
          "text": [
            "\u001b[1;35mt=2025-01-13T16:35:37+0000 lvl=info msg=\"join connections\" obj=join id=d0b25f6dfa57 l=127.0.0.1:8237 r=[2c0f:fc88:5:8feb:102d:5ea6:7e41:3a5f]:55239\u001b[0m\n"
          ]
        },
        {
          "output_type": "stream",
          "name": "stderr",
          "text": [
            "INFO:pyngrok.process.ngrok:t=2025-01-13T16:35:37+0000 lvl=info msg=\"join connections\" obj=join id=e62c4cd0f3b2 l=127.0.0.1:8237 r=[2c0f:fc88:5:8feb:102d:5ea6:7e41:3a5f]:55239\n"
          ]
        },
        {
          "output_type": "stream",
          "name": "stdout",
          "text": [
            "\u001b[1;35mt=2025-01-13T16:35:37+0000 lvl=info msg=\"join connections\" obj=join id=e62c4cd0f3b2 l=127.0.0.1:8237 r=[2c0f:fc88:5:8feb:102d:5ea6:7e41:3a5f]:55239\u001b[0m\n"
          ]
        },
        {
          "output_type": "stream",
          "name": "stderr",
          "text": [
            "INFO:pyngrok.process.ngrok:t=2025-01-13T16:35:37+0000 lvl=info msg=\"join connections\" obj=join id=91b397bb6597 l=127.0.0.1:8237 r=[2c0f:fc88:5:8feb:102d:5ea6:7e41:3a5f]:55239\n"
          ]
        },
        {
          "output_type": "stream",
          "name": "stdout",
          "text": [
            "\u001b[1;35mt=2025-01-13T16:35:37+0000 lvl=info msg=\"join connections\" obj=join id=91b397bb6597 l=127.0.0.1:8237 r=[2c0f:fc88:5:8feb:102d:5ea6:7e41:3a5f]:55239\u001b[0m\n"
          ]
        },
        {
          "output_type": "stream",
          "name": "stderr",
          "text": [
            "INFO:pyngrok.process.ngrok:t=2025-01-13T16:35:37+0000 lvl=info msg=\"join connections\" obj=join id=1ad17280b5f0 l=127.0.0.1:8237 r=[2c0f:fc88:5:8feb:102d:5ea6:7e41:3a5f]:55239\n"
          ]
        },
        {
          "output_type": "stream",
          "name": "stdout",
          "text": [
            "\u001b[1;35mt=2025-01-13T16:35:37+0000 lvl=info msg=\"join connections\" obj=join id=1ad17280b5f0 l=127.0.0.1:8237 r=[2c0f:fc88:5:8feb:102d:5ea6:7e41:3a5f]:55239\u001b[0m\n"
          ]
        },
        {
          "output_type": "stream",
          "name": "stderr",
          "text": [
            "INFO:pyngrok.process.ngrok:t=2025-01-13T16:35:37+0000 lvl=info msg=\"join connections\" obj=join id=10eba7a6bc82 l=127.0.0.1:8237 r=[2c0f:fc88:5:8feb:102d:5ea6:7e41:3a5f]:55239\n"
          ]
        },
        {
          "output_type": "stream",
          "name": "stdout",
          "text": [
            "\u001b[1;35mt=2025-01-13T16:35:37+0000 lvl=info msg=\"join connections\" obj=join id=10eba7a6bc82 l=127.0.0.1:8237 r=[2c0f:fc88:5:8feb:102d:5ea6:7e41:3a5f]:55239\u001b[0m\n"
          ]
        },
        {
          "output_type": "stream",
          "name": "stderr",
          "text": [
            "INFO:pyngrok.process.ngrok:t=2025-01-13T16:35:37+0000 lvl=info msg=\"join connections\" obj=join id=1984cda11a6b l=127.0.0.1:8237 r=[2c0f:fc88:5:8feb:102d:5ea6:7e41:3a5f]:55239\n"
          ]
        },
        {
          "output_type": "stream",
          "name": "stdout",
          "text": [
            "\u001b[1;35mt=2025-01-13T16:35:37+0000 lvl=info msg=\"join connections\" obj=join id=1984cda11a6b l=127.0.0.1:8237 r=[2c0f:fc88:5:8feb:102d:5ea6:7e41:3a5f]:55239\u001b[0m\n"
          ]
        },
        {
          "output_type": "stream",
          "name": "stderr",
          "text": [
            "INFO:pyngrok.process.ngrok:t=2025-01-13T16:35:37+0000 lvl=info msg=\"join connections\" obj=join id=bbd1519aeedf l=127.0.0.1:8237 r=[2c0f:fc88:5:8feb:102d:5ea6:7e41:3a5f]:55239\n"
          ]
        },
        {
          "output_type": "stream",
          "name": "stdout",
          "text": [
            "\u001b[1;35mt=2025-01-13T16:35:37+0000 lvl=info msg=\"join connections\" obj=join id=bbd1519aeedf l=127.0.0.1:8237 r=[2c0f:fc88:5:8feb:102d:5ea6:7e41:3a5f]:55239\u001b[0m\n"
          ]
        },
        {
          "output_type": "stream",
          "name": "stderr",
          "text": [
            "INFO:pyngrok.process.ngrok:t=2025-01-13T16:35:37+0000 lvl=info msg=\"join connections\" obj=join id=e2e1befc43a5 l=127.0.0.1:8237 r=[2c0f:fc88:5:8feb:102d:5ea6:7e41:3a5f]:55239\n"
          ]
        },
        {
          "output_type": "stream",
          "name": "stdout",
          "text": [
            "\u001b[32mINFO\u001b[0m:     2c0f:fc88:5:8feb:102d:5ea6:7e41:3a5f:0 - \"\u001b[1mGET /assets/inter-latin-ext-400-normal-hnt3BR84.woff2 HTTP/1.1\u001b[0m\" \u001b[32m200 OK\u001b[0m\n",
            "\u001b[32mINFO\u001b[0m:     2c0f:fc88:5:8feb:102d:5ea6:7e41:3a5f:0 - \"\u001b[1mGET /assets/inter-cyrillic-ext-600-normal-CaqZN2hq.woff2 HTTP/1.1\u001b[0m\" \u001b[32m200 OK\u001b[0m\n",
            "\u001b[1;35mt=2025-01-13T16:35:37+0000 lvl=info msg=\"join connections\" obj=join id=e2e1befc43a5 l=127.0.0.1:8237 r=[2c0f:fc88:5:8feb:102d:5ea6:7e41:3a5f]:55239\u001b[0m\n"
          ]
        },
        {
          "output_type": "stream",
          "name": "stderr",
          "text": [
            "INFO:pyngrok.process.ngrok:t=2025-01-13T16:35:37+0000 lvl=info msg=\"join connections\" obj=join id=e06ca43da430 l=127.0.0.1:8237 r=[2c0f:fc88:5:8feb:102d:5ea6:7e41:3a5f]:55239\n"
          ]
        },
        {
          "output_type": "stream",
          "name": "stdout",
          "text": [
            "\u001b[1;35mt=2025-01-13T16:35:37+0000 lvl=info msg=\"join connections\" obj=join id=e06ca43da430 l=127.0.0.1:8237 r=[2c0f:fc88:5:8feb:102d:5ea6:7e41:3a5f]:55239\u001b[0m\n"
          ]
        },
        {
          "output_type": "stream",
          "name": "stderr",
          "text": [
            "INFO:pyngrok.process.ngrok:t=2025-01-13T16:35:37+0000 lvl=info msg=\"join connections\" obj=join id=b8dd964fc702 l=127.0.0.1:8237 r=[2c0f:fc88:5:8feb:102d:5ea6:7e41:3a5f]:55239\n"
          ]
        },
        {
          "output_type": "stream",
          "name": "stdout",
          "text": [
            "\u001b[1;35mt=2025-01-13T16:35:37+0000 lvl=info msg=\"join connections\" obj=join id=b8dd964fc702 l=127.0.0.1:8237 r=[2c0f:fc88:5:8feb:102d:5ea6:7e41:3a5f]:55239\u001b[0m\n"
          ]
        },
        {
          "output_type": "stream",
          "name": "stderr",
          "text": [
            "INFO:pyngrok.process.ngrok:t=2025-01-13T16:35:37+0000 lvl=info msg=\"join connections\" obj=join id=a957053e4859 l=127.0.0.1:8237 r=[2c0f:fc88:5:8feb:102d:5ea6:7e41:3a5f]:55239\n"
          ]
        },
        {
          "output_type": "stream",
          "name": "stdout",
          "text": [
            "\u001b[1;35mt=2025-01-13T16:35:37+0000 lvl=info msg=\"join connections\" obj=join id=a957053e4859 l=127.0.0.1:8237 r=[2c0f:fc88:5:8feb:102d:5ea6:7e41:3a5f]:55239\u001b[0m\n"
          ]
        },
        {
          "output_type": "stream",
          "name": "stderr",
          "text": [
            "INFO:pyngrok.process.ngrok:t=2025-01-13T16:35:37+0000 lvl=info msg=\"join connections\" obj=join id=f38719c15ced l=127.0.0.1:8237 r=[2c0f:fc88:5:8feb:102d:5ea6:7e41:3a5f]:55239\n"
          ]
        },
        {
          "output_type": "stream",
          "name": "stdout",
          "text": [
            "\u001b[1;35mt=2025-01-13T16:35:37+0000 lvl=info msg=\"join connections\" obj=join id=f38719c15ced l=127.0.0.1:8237 r=[2c0f:fc88:5:8feb:102d:5ea6:7e41:3a5f]:55239\u001b[0m\n"
          ]
        },
        {
          "output_type": "stream",
          "name": "stderr",
          "text": [
            "INFO:pyngrok.process.ngrok:t=2025-01-13T16:35:37+0000 lvl=info msg=\"join connections\" obj=join id=ea1131685dc8 l=127.0.0.1:8237 r=[2c0f:fc88:5:8feb:102d:5ea6:7e41:3a5f]:55239\n"
          ]
        },
        {
          "output_type": "stream",
          "name": "stdout",
          "text": [
            "\u001b[1;35mt=2025-01-13T16:35:37+0000 lvl=info msg=\"join connections\" obj=join id=ea1131685dc8 l=127.0.0.1:8237 r=[2c0f:fc88:5:8feb:102d:5ea6:7e41:3a5f]:55239\u001b[0m\n"
          ]
        },
        {
          "output_type": "stream",
          "name": "stderr",
          "text": [
            "INFO:pyngrok.process.ngrok:t=2025-01-13T16:35:37+0000 lvl=info msg=\"join connections\" obj=join id=175910e14048 l=127.0.0.1:8237 r=[2c0f:fc88:5:8feb:102d:5ea6:7e41:3a5f]:55239\n"
          ]
        },
        {
          "output_type": "stream",
          "name": "stdout",
          "text": [
            "\u001b[1;35mt=2025-01-13T16:35:37+0000 lvl=info msg=\"join connections\" obj=join id=175910e14048 l=127.0.0.1:8237 r=[2c0f:fc88:5:8feb:102d:5ea6:7e41:3a5f]:55239\u001b[0m\n"
          ]
        },
        {
          "output_type": "stream",
          "name": "stderr",
          "text": [
            "INFO:pyngrok.process.ngrok:t=2025-01-13T16:35:37+0000 lvl=info msg=\"join connections\" obj=join id=ff94dc6bcc88 l=127.0.0.1:8237 r=[2c0f:fc88:5:8feb:102d:5ea6:7e41:3a5f]:55239\n"
          ]
        },
        {
          "output_type": "stream",
          "name": "stdout",
          "text": [
            "\u001b[1;35mt=2025-01-13T16:35:37+0000 lvl=info msg=\"join connections\" obj=join id=ff94dc6bcc88 l=127.0.0.1:8237 r=[2c0f:fc88:5:8feb:102d:5ea6:7e41:3a5f]:55239\u001b[0m\n"
          ]
        },
        {
          "output_type": "stream",
          "name": "stderr",
          "text": [
            "INFO:pyngrok.process.ngrok:t=2025-01-13T16:35:37+0000 lvl=info msg=\"join connections\" obj=join id=5158b0340465 l=127.0.0.1:8237 r=[2c0f:fc88:5:8feb:102d:5ea6:7e41:3a5f]:55239\n"
          ]
        },
        {
          "output_type": "stream",
          "name": "stdout",
          "text": [
            "\u001b[1;35mt=2025-01-13T16:35:37+0000 lvl=info msg=\"join connections\" obj=join id=5158b0340465 l=127.0.0.1:8237 r=[2c0f:fc88:5:8feb:102d:5ea6:7e41:3a5f]:55239\u001b[0m\n"
          ]
        },
        {
          "output_type": "stream",
          "name": "stderr",
          "text": [
            "INFO:pyngrok.process.ngrok:t=2025-01-13T16:35:37+0000 lvl=info msg=\"join connections\" obj=join id=2eb637b20244 l=127.0.0.1:8237 r=[2c0f:fc88:5:8feb:102d:5ea6:7e41:3a5f]:55239\n"
          ]
        },
        {
          "output_type": "stream",
          "name": "stdout",
          "text": [
            "\u001b[1;35mt=2025-01-13T16:35:37+0000 lvl=info msg=\"join connections\" obj=join id=2eb637b20244 l=127.0.0.1:8237 r=[2c0f:fc88:5:8feb:102d:5ea6:7e41:3a5f]:55239\u001b[0m\n"
          ]
        },
        {
          "output_type": "stream",
          "name": "stderr",
          "text": [
            "INFO:pyngrok.process.ngrok:t=2025-01-13T16:35:37+0000 lvl=info msg=\"join connections\" obj=join id=ec9edc1bdc70 l=127.0.0.1:8237 r=[2c0f:fc88:5:8feb:102d:5ea6:7e41:3a5f]:55239\n"
          ]
        },
        {
          "output_type": "stream",
          "name": "stdout",
          "text": [
            "\u001b[1;35mt=2025-01-13T16:35:37+0000 lvl=info msg=\"join connections\" obj=join id=ec9edc1bdc70 l=127.0.0.1:8237 r=[2c0f:fc88:5:8feb:102d:5ea6:7e41:3a5f]:55239\u001b[0m\n"
          ]
        },
        {
          "output_type": "stream",
          "name": "stderr",
          "text": [
            "INFO:pyngrok.process.ngrok:t=2025-01-13T16:35:37+0000 lvl=info msg=\"join connections\" obj=join id=930003d5fc2b l=127.0.0.1:8237 r=[2c0f:fc88:5:8feb:102d:5ea6:7e41:3a5f]:55239\n"
          ]
        },
        {
          "output_type": "stream",
          "name": "stdout",
          "text": [
            "\u001b[32mINFO\u001b[0m:     2c0f:fc88:5:8feb:102d:5ea6:7e41:3a5f:0 - \"\u001b[1mGET /assets/inter-cyrillic-ext-400-normal-BPnxn4xp.woff HTTP/1.1\u001b[0m\" \u001b[32m200 OK\u001b[0m\n",
            "\u001b[1;35mt=2025-01-13T16:35:37+0000 lvl=info msg=\"join connections\" obj=join id=930003d5fc2b l=127.0.0.1:8237 r=[2c0f:fc88:5:8feb:102d:5ea6:7e41:3a5f]:55239\u001b[0m\n"
          ]
        },
        {
          "output_type": "stream",
          "name": "stderr",
          "text": [
            "INFO:pyngrok.process.ngrok:t=2025-01-13T16:35:37+0000 lvl=info msg=\"join connections\" obj=join id=8e633e6cbbb7 l=127.0.0.1:8237 r=[2c0f:fc88:5:8feb:102d:5ea6:7e41:3a5f]:55239\n"
          ]
        },
        {
          "output_type": "stream",
          "name": "stdout",
          "text": [
            "\u001b[1;35mt=2025-01-13T16:35:37+0000 lvl=info msg=\"join connections\" obj=join id=8e633e6cbbb7 l=127.0.0.1:8237 r=[2c0f:fc88:5:8feb:102d:5ea6:7e41:3a5f]:55239\u001b[0m\n"
          ]
        },
        {
          "output_type": "stream",
          "name": "stderr",
          "text": [
            "INFO:pyngrok.process.ngrok:t=2025-01-13T16:35:37+0000 lvl=info msg=\"join connections\" obj=join id=cee5971ce9b0 l=127.0.0.1:8237 r=[2c0f:fc88:5:8feb:102d:5ea6:7e41:3a5f]:55239\n"
          ]
        },
        {
          "output_type": "stream",
          "name": "stdout",
          "text": [
            "\u001b[1;35mt=2025-01-13T16:35:37+0000 lvl=info msg=\"join connections\" obj=join id=cee5971ce9b0 l=127.0.0.1:8237 r=[2c0f:fc88:5:8feb:102d:5ea6:7e41:3a5f]:55239\u001b[0m\n"
          ]
        },
        {
          "output_type": "stream",
          "name": "stderr",
          "text": [
            "INFO:pyngrok.process.ngrok:t=2025-01-13T16:35:37+0000 lvl=info msg=\"join connections\" obj=join id=0926583e0901 l=127.0.0.1:8237 r=[2c0f:fc88:5:8feb:102d:5ea6:7e41:3a5f]:55239\n"
          ]
        },
        {
          "output_type": "stream",
          "name": "stdout",
          "text": [
            "\u001b[1;35mt=2025-01-13T16:35:37+0000 lvl=info msg=\"join connections\" obj=join id=0926583e0901 l=127.0.0.1:8237 r=[2c0f:fc88:5:8feb:102d:5ea6:7e41:3a5f]:55239\u001b[0m\n"
          ]
        },
        {
          "output_type": "stream",
          "name": "stderr",
          "text": [
            "INFO:pyngrok.process.ngrok:t=2025-01-13T16:35:37+0000 lvl=info msg=\"join connections\" obj=join id=ef2b95745888 l=127.0.0.1:8237 r=[2c0f:fc88:5:8feb:102d:5ea6:7e41:3a5f]:55239\n"
          ]
        },
        {
          "output_type": "stream",
          "name": "stdout",
          "text": [
            "\u001b[1;35mt=2025-01-13T16:35:37+0000 lvl=info msg=\"join connections\" obj=join id=ef2b95745888 l=127.0.0.1:8237 r=[2c0f:fc88:5:8feb:102d:5ea6:7e41:3a5f]:55239\u001b[0m\n"
          ]
        },
        {
          "output_type": "stream",
          "name": "stderr",
          "text": [
            "INFO:pyngrok.process.ngrok:t=2025-01-13T16:35:37+0000 lvl=info msg=\"join connections\" obj=join id=1a12eae636d6 l=127.0.0.1:8237 r=[2c0f:fc88:5:8feb:102d:5ea6:7e41:3a5f]:55239\n"
          ]
        },
        {
          "output_type": "stream",
          "name": "stdout",
          "text": [
            "\u001b[1;35mt=2025-01-13T16:35:37+0000 lvl=info msg=\"join connections\" obj=join id=1a12eae636d6 l=127.0.0.1:8237 r=[2c0f:fc88:5:8feb:102d:5ea6:7e41:3a5f]:55239\u001b[0m\n"
          ]
        },
        {
          "output_type": "stream",
          "name": "stderr",
          "text": [
            "INFO:pyngrok.process.ngrok:t=2025-01-13T16:35:37+0000 lvl=info msg=\"join connections\" obj=join id=775c4ee66c68 l=127.0.0.1:8237 r=[2c0f:fc88:5:8feb:102d:5ea6:7e41:3a5f]:55239\n"
          ]
        },
        {
          "output_type": "stream",
          "name": "stdout",
          "text": [
            "\u001b[1;35mt=2025-01-13T16:35:37+0000 lvl=info msg=\"join connections\" obj=join id=775c4ee66c68 l=127.0.0.1:8237 r=[2c0f:fc88:5:8feb:102d:5ea6:7e41:3a5f]:55239\u001b[0m\n"
          ]
        },
        {
          "output_type": "stream",
          "name": "stderr",
          "text": [
            "INFO:pyngrok.process.ngrok:t=2025-01-13T16:35:37+0000 lvl=info msg=\"join connections\" obj=join id=af13d7f46f0c l=127.0.0.1:8237 r=[2c0f:fc88:5:8feb:102d:5ea6:7e41:3a5f]:55239\n"
          ]
        },
        {
          "output_type": "stream",
          "name": "stdout",
          "text": [
            "\u001b[1;35mt=2025-01-13T16:35:37+0000 lvl=info msg=\"join connections\" obj=join id=af13d7f46f0c l=127.0.0.1:8237 r=[2c0f:fc88:5:8feb:102d:5ea6:7e41:3a5f]:55239\u001b[0m\n"
          ]
        },
        {
          "output_type": "stream",
          "name": "stderr",
          "text": [
            "INFO:pyngrok.process.ngrok:t=2025-01-13T16:35:37+0000 lvl=info msg=\"join connections\" obj=join id=5a99766de873 l=127.0.0.1:8237 r=[2c0f:fc88:5:8feb:102d:5ea6:7e41:3a5f]:55239\n"
          ]
        },
        {
          "output_type": "stream",
          "name": "stdout",
          "text": [
            "\u001b[1;35mt=2025-01-13T16:35:37+0000 lvl=info msg=\"join connections\" obj=join id=5a99766de873 l=127.0.0.1:8237 r=[2c0f:fc88:5:8feb:102d:5ea6:7e41:3a5f]:55239\u001b[0m\n"
          ]
        },
        {
          "output_type": "stream",
          "name": "stderr",
          "text": [
            "INFO:pyngrok.process.ngrok:t=2025-01-13T16:35:37+0000 lvl=info msg=\"join connections\" obj=join id=1aa1c786711d l=127.0.0.1:8237 r=[2c0f:fc88:5:8feb:102d:5ea6:7e41:3a5f]:55239\n"
          ]
        },
        {
          "output_type": "stream",
          "name": "stdout",
          "text": [
            "\u001b[1;35mt=2025-01-13T16:35:37+0000 lvl=info msg=\"join connections\" obj=join id=1aa1c786711d l=127.0.0.1:8237 r=[2c0f:fc88:5:8feb:102d:5ea6:7e41:3a5f]:55239\u001b[0m\n"
          ]
        },
        {
          "output_type": "stream",
          "name": "stderr",
          "text": [
            "INFO:pyngrok.process.ngrok:t=2025-01-13T16:35:37+0000 lvl=info msg=\"join connections\" obj=join id=ea4b8b844339 l=127.0.0.1:8237 r=[2c0f:fc88:5:8feb:102d:5ea6:7e41:3a5f]:55239\n"
          ]
        },
        {
          "output_type": "stream",
          "name": "stdout",
          "text": [
            "\u001b[32mINFO\u001b[0m:     2c0f:fc88:5:8feb:102d:5ea6:7e41:3a5f:0 - \"\u001b[1mGET /assets/inter-greek-ext-500-normal-B6guLgqG.woff2 HTTP/1.1\u001b[0m\" \u001b[32m200 OK\u001b[0m\n",
            "\u001b[32mINFO\u001b[0m:     2c0f:fc88:5:8feb:102d:5ea6:7e41:3a5f:0 - \"\u001b[1mGET /assets/inter-latin-600-normal-D273HNI0.woff2 HTTP/1.1\u001b[0m\" \u001b[32m200 OK\u001b[0m\n",
            "\u001b[1;35mt=2025-01-13T16:35:37+0000 lvl=info msg=\"join connections\" obj=join id=ea4b8b844339 l=127.0.0.1:8237 r=[2c0f:fc88:5:8feb:102d:5ea6:7e41:3a5f]:55239\u001b[0m\n"
          ]
        },
        {
          "output_type": "stream",
          "name": "stderr",
          "text": [
            "INFO:pyngrok.process.ngrok:t=2025-01-13T16:35:37+0000 lvl=info msg=\"join connections\" obj=join id=92dfb21823d4 l=127.0.0.1:8237 r=[2c0f:fc88:5:8feb:102d:5ea6:7e41:3a5f]:55239\n"
          ]
        },
        {
          "output_type": "stream",
          "name": "stdout",
          "text": [
            "\u001b[1;35mt=2025-01-13T16:35:37+0000 lvl=info msg=\"join connections\" obj=join id=92dfb21823d4 l=127.0.0.1:8237 r=[2c0f:fc88:5:8feb:102d:5ea6:7e41:3a5f]:55239\u001b[0m\n"
          ]
        },
        {
          "output_type": "stream",
          "name": "stderr",
          "text": [
            "INFO:pyngrok.process.ngrok:t=2025-01-13T16:35:37+0000 lvl=info msg=\"join connections\" obj=join id=0ee70bf89ce5 l=127.0.0.1:8237 r=[2c0f:fc88:5:8feb:102d:5ea6:7e41:3a5f]:55239\n"
          ]
        },
        {
          "output_type": "stream",
          "name": "stdout",
          "text": [
            "\u001b[1;35mt=2025-01-13T16:35:37+0000 lvl=info msg=\"join connections\" obj=join id=0ee70bf89ce5 l=127.0.0.1:8237 r=[2c0f:fc88:5:8feb:102d:5ea6:7e41:3a5f]:55239\u001b[0m\n"
          ]
        },
        {
          "output_type": "stream",
          "name": "stderr",
          "text": [
            "INFO:pyngrok.process.ngrok:t=2025-01-13T16:35:37+0000 lvl=info msg=\"join connections\" obj=join id=0a8bd0845c6a l=127.0.0.1:8237 r=[2c0f:fc88:5:8feb:102d:5ea6:7e41:3a5f]:55239\n"
          ]
        },
        {
          "output_type": "stream",
          "name": "stdout",
          "text": [
            "\u001b[1;35mt=2025-01-13T16:35:37+0000 lvl=info msg=\"join connections\" obj=join id=0a8bd0845c6a l=127.0.0.1:8237 r=[2c0f:fc88:5:8feb:102d:5ea6:7e41:3a5f]:55239\u001b[0m\n"
          ]
        },
        {
          "output_type": "stream",
          "name": "stderr",
          "text": [
            "INFO:pyngrok.process.ngrok:t=2025-01-13T16:35:37+0000 lvl=info msg=\"join connections\" obj=join id=4e7cdd3a1c84 l=127.0.0.1:8237 r=[2c0f:fc88:5:8feb:102d:5ea6:7e41:3a5f]:55239\n"
          ]
        },
        {
          "output_type": "stream",
          "name": "stdout",
          "text": [
            "\u001b[1;35mt=2025-01-13T16:35:37+0000 lvl=info msg=\"join connections\" obj=join id=4e7cdd3a1c84 l=127.0.0.1:8237 r=[2c0f:fc88:5:8feb:102d:5ea6:7e41:3a5f]:55239\u001b[0m\n"
          ]
        },
        {
          "output_type": "stream",
          "name": "stderr",
          "text": [
            "INFO:pyngrok.process.ngrok:t=2025-01-13T16:35:37+0000 lvl=info msg=\"join connections\" obj=join id=a30495422559 l=127.0.0.1:8237 r=[2c0f:fc88:5:8feb:102d:5ea6:7e41:3a5f]:55239\n"
          ]
        },
        {
          "output_type": "stream",
          "name": "stdout",
          "text": [
            "\u001b[1;35mt=2025-01-13T16:35:37+0000 lvl=info msg=\"join connections\" obj=join id=a30495422559 l=127.0.0.1:8237 r=[2c0f:fc88:5:8feb:102d:5ea6:7e41:3a5f]:55239\u001b[0m\n"
          ]
        },
        {
          "output_type": "stream",
          "name": "stderr",
          "text": [
            "INFO:pyngrok.process.ngrok:t=2025-01-13T16:35:37+0000 lvl=info msg=\"join connections\" obj=join id=ad574276b524 l=127.0.0.1:8237 r=[2c0f:fc88:5:8feb:102d:5ea6:7e41:3a5f]:55239\n"
          ]
        },
        {
          "output_type": "stream",
          "name": "stdout",
          "text": [
            "\u001b[1;35mt=2025-01-13T16:35:37+0000 lvl=info msg=\"join connections\" obj=join id=ad574276b524 l=127.0.0.1:8237 r=[2c0f:fc88:5:8feb:102d:5ea6:7e41:3a5f]:55239\u001b[0m\n"
          ]
        },
        {
          "output_type": "stream",
          "name": "stderr",
          "text": [
            "INFO:pyngrok.process.ngrok:t=2025-01-13T16:35:37+0000 lvl=info msg=\"join connections\" obj=join id=46cb6bf4b627 l=127.0.0.1:8237 r=[2c0f:fc88:5:8feb:102d:5ea6:7e41:3a5f]:55239\n"
          ]
        },
        {
          "output_type": "stream",
          "name": "stdout",
          "text": [
            "\u001b[1;35mt=2025-01-13T16:35:37+0000 lvl=info msg=\"join connections\" obj=join id=46cb6bf4b627 l=127.0.0.1:8237 r=[2c0f:fc88:5:8feb:102d:5ea6:7e41:3a5f]:55239\u001b[0m\n"
          ]
        },
        {
          "output_type": "stream",
          "name": "stderr",
          "text": [
            "INFO:pyngrok.process.ngrok:t=2025-01-13T16:35:37+0000 lvl=info msg=\"join connections\" obj=join id=36885022e7df l=127.0.0.1:8237 r=[2c0f:fc88:5:8feb:102d:5ea6:7e41:3a5f]:55239\n"
          ]
        },
        {
          "output_type": "stream",
          "name": "stdout",
          "text": [
            "\u001b[1;35mt=2025-01-13T16:35:37+0000 lvl=info msg=\"join connections\" obj=join id=36885022e7df l=127.0.0.1:8237 r=[2c0f:fc88:5:8feb:102d:5ea6:7e41:3a5f]:55239\u001b[0m\n"
          ]
        },
        {
          "output_type": "stream",
          "name": "stderr",
          "text": [
            "INFO:pyngrok.process.ngrok:t=2025-01-13T16:35:37+0000 lvl=info msg=\"join connections\" obj=join id=8d597c2c85dc l=127.0.0.1:8237 r=[2c0f:fc88:5:8feb:102d:5ea6:7e41:3a5f]:55239\n"
          ]
        },
        {
          "output_type": "stream",
          "name": "stdout",
          "text": [
            "\u001b[1;35mt=2025-01-13T16:35:37+0000 lvl=info msg=\"join connections\" obj=join id=8d597c2c85dc l=127.0.0.1:8237 r=[2c0f:fc88:5:8feb:102d:5ea6:7e41:3a5f]:55239\u001b[0m\n",
            "\u001b[32mINFO\u001b[0m:     2c0f:fc88:5:8feb:102d:5ea6:7e41:3a5f:0 - \"\u001b[1mGET /assets/inter-cyrillic-ext-500-normal-CUiC4oBV.woff HTTP/1.1\u001b[0m\" \u001b[32m200 OK\u001b[0m\n",
            "\u001b[32mINFO\u001b[0m:     2c0f:fc88:5:8feb:102d:5ea6:7e41:3a5f:0 - \"\u001b[1mGET /assets/inter-cyrillic-ext-600-normal-Bt9VVOA-.woff HTTP/1.1\u001b[0m\" \u001b[32m200 OK\u001b[0m\n",
            "\u001b[32mINFO\u001b[0m:     2c0f:fc88:5:8feb:102d:5ea6:7e41:3a5f:0 - \"\u001b[1mGET /assets/inter-cyrillic-500-normal-DH2hs3aW.woff HTTP/1.1\u001b[0m\" \u001b[32m200 OK\u001b[0m\n",
            "\u001b[32mINFO\u001b[0m:     2c0f:fc88:5:8feb:102d:5ea6:7e41:3a5f:0 - \"\u001b[1mGET /assets/inter-vietnamese-400-normal-BUNmGMP1.woff HTTP/1.1\u001b[0m\" \u001b[32m200 OK\u001b[0m\n",
            "\u001b[32mINFO\u001b[0m:     2c0f:fc88:5:8feb:102d:5ea6:7e41:3a5f:0 - \"\u001b[1mGET /assets/acp-DOsXjFc7.webp HTTP/1.1\u001b[0m\" \u001b[32m200 OK\u001b[0m\n",
            "\u001b[32mINFO\u001b[0m:     2c0f:fc88:5:8feb:102d:5ea6:7e41:3a5f:0 - \"\u001b[1mGET /assets/inter-greek-ext-600-normal-Cnui8OiR.woff2 HTTP/1.1\u001b[0m\" \u001b[32m200 OK\u001b[0m\n",
            "\u001b[32mINFO\u001b[0m:     2c0f:fc88:5:8feb:102d:5ea6:7e41:3a5f:0 - \"\u001b[1mGET /assets/inter-greek-ext-400-normal-DCpCPQOf.woff HTTP/1.1\u001b[0m\" \u001b[32m200 OK\u001b[0m\n",
            "\u001b[32mINFO\u001b[0m:     2c0f:fc88:5:8feb:102d:5ea6:7e41:3a5f:0 - \"\u001b[1mGET /assets/inter-latin-600-normal-B5cFAncS.woff HTTP/1.1\u001b[0m\" \u001b[32m200 OK\u001b[0m\n",
            "\u001b[32mINFO\u001b[0m:     2c0f:fc88:5:8feb:102d:5ea6:7e41:3a5f:0 - \"\u001b[1mGET /assets/inter-cyrillic-400-normal-ZzOtrSSW.woff HTTP/1.1\u001b[0m\" \u001b[32m200 OK\u001b[0m\n",
            "\u001b[32mINFO\u001b[0m:     2c0f:fc88:5:8feb:102d:5ea6:7e41:3a5f:0 - \"\u001b[1mGET /assets/inter-vietnamese-500-normal-DQPw2Hwd.woff HTTP/1.1\u001b[0m\" \u001b[32m200 OK\u001b[0m\n",
            "\u001b[32mINFO\u001b[0m:     2c0f:fc88:5:8feb:102d:5ea6:7e41:3a5f:0 - \"\u001b[1mGET /assets/inter-greek-ext-500-normal-M2hEX8vc.woff HTTP/1.1\u001b[0m\" \u001b[32m200 OK\u001b[0m\n",
            "\u001b[32mINFO\u001b[0m:     2c0f:fc88:5:8feb:102d:5ea6:7e41:3a5f:0 - \"\u001b[1mGET /assets/inter-greek-400-normal-BZzXV7-1.woff HTTP/1.1\u001b[0m\" \u001b[32m200 OK\u001b[0m\n",
            "\u001b[32mINFO\u001b[0m:     2c0f:fc88:5:8feb:102d:5ea6:7e41:3a5f:0 - \"\u001b[1mGET /assets/inter-latin-ext-400-normal-C1t-h-pH.woff HTTP/1.1\u001b[0m\" \u001b[32m200 OK\u001b[0m\n",
            "\u001b[32mINFO\u001b[0m:     2c0f:fc88:5:8feb:102d:5ea6:7e41:3a5f:0 - \"\u001b[1mGET /assets/inter-greek-600-normal-CwicyhtI.woff HTTP/1.1\u001b[0m\" \u001b[32m200 OK\u001b[0m\n",
            "\u001b[32mINFO\u001b[0m:     2c0f:fc88:5:8feb:102d:5ea6:7e41:3a5f:0 - \"\u001b[1mGET /assets/cloud-squares-DeRLMopf.svg HTTP/1.1\u001b[0m\" \u001b[32m200 OK\u001b[0m\n",
            "\u001b[32mINFO\u001b[0m:     2c0f:fc88:5:8feb:102d:5ea6:7e41:3a5f:0 - \"\u001b[1mGET /assets/page-h_Stveon.js HTTP/1.1\u001b[0m\" \u001b[32m200 OK\u001b[0m\n",
            "\u001b[32mINFO\u001b[0m:     2c0f:fc88:5:8feb:102d:5ea6:7e41:3a5f:0 - \"\u001b[1mGET /assets/inter-cyrillic-600-normal-BuzJQFbW.woff HTTP/1.1\u001b[0m\" \u001b[32m200 OK\u001b[0m\n",
            "\u001b[32mINFO\u001b[0m:     2c0f:fc88:5:8feb:102d:5ea6:7e41:3a5f:0 - \"\u001b[1mGET /assets/hamza-NKKOZz1I.webp HTTP/1.1\u001b[0m\" \u001b[32m200 OK\u001b[0m\n",
            "\u001b[32mINFO\u001b[0m:     2c0f:fc88:5:8feb:102d:5ea6:7e41:3a5f:0 - \"\u001b[1mGET /assets/stefan-B08Ftbba.webp HTTP/1.1\u001b[0m\" \u001b[32m200 OK\u001b[0m\n",
            "\u001b[32mINFO\u001b[0m:     2c0f:fc88:5:8feb:102d:5ea6:7e41:3a5f:0 - \"\u001b[1mGET /assets/page-bT5pOvcB.js HTTP/1.1\u001b[0m\" \u001b[32m200 OK\u001b[0m\n",
            "\u001b[32mINFO\u001b[0m:     2c0f:fc88:5:8feb:102d:5ea6:7e41:3a5f:0 - \"\u001b[1mGET /assets/inter-greek-600-normal-Dhlb-90d.woff2 HTTP/1.1\u001b[0m\" \u001b[32m200 OK\u001b[0m\n",
            "\u001b[32mINFO\u001b[0m:     2c0f:fc88:5:8feb:102d:5ea6:7e41:3a5f:0 - \"\u001b[1mGET /assets/metaflow-weOkWNyT.svg HTTP/1.1\u001b[0m\" \u001b[32m200 OK\u001b[0m\n",
            "\u001b[32mINFO\u001b[0m:     2c0f:fc88:5:8feb:102d:5ea6:7e41:3a5f:0 - \"\u001b[1mGET /assets/inter-greek-500-normal-d_eO-yCQ.woff HTTP/1.1\u001b[0m\" \u001b[32m200 OK\u001b[0m\n",
            "\u001b[32mINFO\u001b[0m:     2c0f:fc88:5:8feb:102d:5ea6:7e41:3a5f:0 - \"\u001b[1mGET /assets/inter-latin-ext-600-normal-BnYJhD27.woff2 HTTP/1.1\u001b[0m\" \u001b[32m200 OK\u001b[0m\n",
            "\u001b[32mINFO\u001b[0m:     2c0f:fc88:5:8feb:102d:5ea6:7e41:3a5f:0 - \"\u001b[1mGET /assets/mcp-Cb1aMeoq.webp HTTP/1.1\u001b[0m\" \u001b[32m200 OK\u001b[0m\n",
            "\u001b[32mINFO\u001b[0m:     2c0f:fc88:5:8feb:102d:5ea6:7e41:3a5f:0 - \"\u001b[1mGET /assets/inter-latin-ext-500-normal-UMdmhHu2.woff HTTP/1.1\u001b[0m\" \u001b[32m200 OK\u001b[0m\n",
            "\u001b[32mINFO\u001b[0m:     2c0f:fc88:5:8feb:102d:5ea6:7e41:3a5f:0 - \"\u001b[1mGET /assets/flyte-Cj-xy_8I.svg HTTP/1.1\u001b[0m\" \u001b[32m200 OK\u001b[0m\n",
            "\u001b[32mINFO\u001b[0m:     2c0f:fc88:5:8feb:102d:5ea6:7e41:3a5f:0 - \"\u001b[1mGET /assets/baris-C0ZrZ10g.webp HTTP/1.1\u001b[0m\" \u001b[32m200 OK\u001b[0m\n",
            "\u001b[32mINFO\u001b[0m:     2c0f:fc88:5:8feb:102d:5ea6:7e41:3a5f:0 - \"\u001b[1mGET /assets/SetPassword-B_IVq_wg.js HTTP/1.1\u001b[0m\" \u001b[32m200 OK\u001b[0m\n",
            "\u001b[32mINFO\u001b[0m:     2c0f:fc88:5:8feb:102d:5ea6:7e41:3a5f:0 - \"\u001b[1mGET /assets/inter-latin-500-normal-deR1Tlfd.woff HTTP/1.1\u001b[0m\" \u001b[32m200 OK\u001b[0m\n",
            "\u001b[32mINFO\u001b[0m:     2c0f:fc88:5:8feb:102d:5ea6:7e41:3a5f:0 - \"\u001b[1mGET /assets/CodeSnippet-Bbx6fIb6.css HTTP/1.1\u001b[0m\" \u001b[32m200 OK\u001b[0m\n",
            "\u001b[32mINFO\u001b[0m:     2c0f:fc88:5:8feb:102d:5ea6:7e41:3a5f:0 - \"\u001b[1mGET /assets/inter-vietnamese-600-normal-Cm6aH8_k.woff HTTP/1.1\u001b[0m\" \u001b[32m200 OK\u001b[0m\n",
            "\u001b[32mINFO\u001b[0m:     2c0f:fc88:5:8feb:102d:5ea6:7e41:3a5f:0 - \"\u001b[1mGET /assets/inter-latin-ext-600-normal-CAF0vJDd.woff HTTP/1.1\u001b[0m\" \u001b[32m200 OK\u001b[0m\n",
            "\u001b[32mINFO\u001b[0m:     2c0f:fc88:5:8feb:102d:5ea6:7e41:3a5f:0 - \"\u001b[1mGET /assets/inter-latin-400-normal-gitzw0hO.woff HTTP/1.1\u001b[0m\" \u001b[32m200 OK\u001b[0m\n",
            "\u001b[32mINFO\u001b[0m:     2c0f:fc88:5:8feb:102d:5ea6:7e41:3a5f:0 - \"\u001b[1mGET /assets/page-CcQr8CPP.js HTTP/1.1\u001b[0m\" \u001b[32m200 OK\u001b[0m\n",
            "\u001b[32mINFO\u001b[0m:     2c0f:fc88:5:8feb:102d:5ea6:7e41:3a5f:0 - \"\u001b[1mGET /assets/inter-vietnamese-600-normal-Cc8MFFhd.woff2 HTTP/1.1\u001b[0m\" \u001b[32m200 OK\u001b[0m\n",
            "\u001b[32mINFO\u001b[0m:     2c0f:fc88:5:8feb:102d:5ea6:7e41:3a5f:0 - \"\u001b[1mGET /assets/inter-greek-ext-600-normal-C9WLioJ8.woff HTTP/1.1\u001b[0m\" \u001b[32m200 OK\u001b[0m\n",
            "\u001b[32mINFO\u001b[0m:     2c0f:fc88:5:8feb:102d:5ea6:7e41:3a5f:0 - \"\u001b[1mGET /assets/templates-1S_8WeSK.webp HTTP/1.1\u001b[0m\" \u001b[32m200 OK\u001b[0m\n",
            "\u001b[32mINFO\u001b[0m:     2c0f:fc88:5:8feb:102d:5ea6:7e41:3a5f:0 - \"\u001b[1mGET /assets/page-BU9FG4sR.js HTTP/1.1\u001b[0m\" \u001b[32m200 OK\u001b[0m\n",
            "\u001b[32mINFO\u001b[0m:     2c0f:fc88:5:8feb:102d:5ea6:7e41:3a5f:0 - \"\u001b[1mGET /assets/page-u_-ZXBKb.js HTTP/1.1\u001b[0m\" \u001b[32m200 OK\u001b[0m\n",
            "\u001b[32mINFO\u001b[0m:     2c0f:fc88:5:8feb:102d:5ea6:7e41:3a5f:0 - \"\u001b[1mGET /assets/PasswordChecker-B0nadgh6.js HTTP/1.1\u001b[0m\" \u001b[32m200 OK\u001b[0m\n",
            "\u001b[32mINFO\u001b[0m:     2c0f:fc88:5:8feb:102d:5ea6:7e41:3a5f:0 - \"\u001b[1mGET /favicon.ico HTTP/1.1\u001b[0m\" \u001b[32m200 OK\u001b[0m\n",
            "\u001b[32mINFO\u001b[0m:     2c0f:fc88:5:8feb:102d:5ea6:7e41:3a5f:0 - \"\u001b[1mGET /assets/page-BdowiCbr.js HTTP/1.1\u001b[0m\" \u001b[32m200 OK\u001b[0m\n",
            "\u001b[32mINFO\u001b[0m:     2c0f:fc88:5:8feb:102d:5ea6:7e41:3a5f:0 - \"\u001b[1mGET /assets/page-BxL4qD4_.js HTTP/1.1\u001b[0m\" \u001b[32m200 OK\u001b[0m\n",
            "\u001b[32mINFO\u001b[0m:     2c0f:fc88:5:8feb:102d:5ea6:7e41:3a5f:0 - \"\u001b[1mGET /assets/page-hUqK889I.js HTTP/1.1\u001b[0m\" \u001b[32m200 OK\u001b[0m\n",
            "\u001b[32mINFO\u001b[0m:     2c0f:fc88:5:8feb:102d:5ea6:7e41:3a5f:0 - \"\u001b[1mGET /assets/SecretTooltip-B8MrX5yu.js HTTP/1.1\u001b[0m\" \u001b[32m200 OK\u001b[0m\n",
            "\u001b[32mINFO\u001b[0m:     2c0f:fc88:5:8feb:102d:5ea6:7e41:3a5f:0 - \"\u001b[1mGET /api/v1/info HTTP/1.1\u001b[0m\" \u001b[32m200 OK\u001b[0m\n",
            "\u001b[32mINFO\u001b[0m:     2c0f:fc88:5:8feb:102d:5ea6:7e41:3a5f:0 - \"\u001b[1mGET /assets/page-Cldq1mpe.js HTTP/1.1\u001b[0m\" \u001b[32m200 OK\u001b[0m\n",
            "\u001b[32mINFO\u001b[0m:     2c0f:fc88:5:8feb:102d:5ea6:7e41:3a5f:0 - \"\u001b[1mGET /assets/all-pipeline-runs-query-DMXkDrV2.js HTTP/1.1\u001b[0m\" \u001b[32m200 OK\u001b[0m\n",
            "\u001b[32mINFO\u001b[0m:     2c0f:fc88:5:8feb:102d:5ea6:7e41:3a5f:0 - \"\u001b[1mGET /assets/service-BqqeXLEe.js HTTP/1.1\u001b[0m\" \u001b[32m200 OK\u001b[0m\n",
            "\u001b[32mINFO\u001b[0m:     2c0f:fc88:5:8feb:102d:5ea6:7e41:3a5f:0 - \"\u001b[1mGET /assets/not-found-gAJ5aDdR.js HTTP/1.1\u001b[0m\" \u001b[32m200 OK\u001b[0m\n",
            "\u001b[32mINFO\u001b[0m:     2c0f:fc88:5:8feb:102d:5ea6:7e41:3a5f:0 - \"\u001b[1mGET /assets/page-Dk32IeZm.js HTTP/1.1\u001b[0m\" \u001b[32m200 OK\u001b[0m\n",
            "\u001b[32mINFO\u001b[0m:     2c0f:fc88:5:8feb:102d:5ea6:7e41:3a5f:0 - \"\u001b[1mGET /assets/inter-latin-400-normal-BOOGhInR.woff2 HTTP/1.1\u001b[0m\" \u001b[32m200 OK\u001b[0m\n",
            "\u001b[32mINFO\u001b[0m:     2c0f:fc88:5:8feb:102d:5ea6:7e41:3a5f:0 - \"\u001b[1mGET /assets/key-icon-aH-QIa5R.js HTTP/1.1\u001b[0m\" \u001b[32m200 OK\u001b[0m\n",
            "\u001b[32mINFO\u001b[0m:     2c0f:fc88:5:8feb:102d:5ea6:7e41:3a5f:0 - \"\u001b[1mGET /assets/connectors-video-C9qY4syJ.svg HTTP/1.1\u001b[0m\" \u001b[32m200 OK\u001b[0m\n",
            "\u001b[32mINFO\u001b[0m:     2c0f:fc88:5:8feb:102d:5ea6:7e41:3a5f:0 - \"\u001b[1mGET /assets/adam-e-y0WnB_.webp HTTP/1.1\u001b[0m\" \u001b[32m200 OK\u001b[0m\n",
            "\u001b[32mINFO\u001b[0m:     2c0f:fc88:5:8feb:102d:5ea6:7e41:3a5f:0 - \"\u001b[1mGET /assets/page-B6XU7yYT.js HTTP/1.1\u001b[0m\" \u001b[32m200 OK\u001b[0m\n",
            "\u001b[32mINFO\u001b[0m:     2c0f:fc88:5:8feb:102d:5ea6:7e41:3a5f:0 - \"\u001b[1mGET /assets/settings_preview-0JLrRgHP.webp HTTP/1.1\u001b[0m\" \u001b[32m200 OK\u001b[0m\n",
            "\u001b[32mINFO\u001b[0m:     2c0f:fc88:5:8feb:102d:5ea6:7e41:3a5f:0 - \"\u001b[1mGET /assets/alex-DcCuDHPg.webp HTTP/1.1\u001b[0m\" \u001b[32m200 OK\u001b[0m\n",
            "\u001b[32mINFO\u001b[0m:     2c0f:fc88:5:8feb:102d:5ea6:7e41:3a5f:0 - \"\u001b[1mGET /assets/upgrade-form-CwRHBuXB.webp HTTP/1.1\u001b[0m\" \u001b[32m200 OK\u001b[0m\n",
            "\u001b[32mINFO\u001b[0m:     2c0f:fc88:5:8feb:102d:5ea6:7e41:3a5f:0 - \"\u001b[1mGET /assets/tour-cover-BYfeen6M.webp HTTP/1.1\u001b[0m\" \u001b[32m200 OK\u001b[0m\n",
            "\u001b[32mINFO\u001b[0m:     2c0f:fc88:5:8feb:102d:5ea6:7e41:3a5f:0 - \"\u001b[1mGET /assets/page-zaMqB_ao.js HTTP/1.1\u001b[0m\" \u001b[32m200 OK\u001b[0m\n",
            "\u001b[32mINFO\u001b[0m:     2c0f:fc88:5:8feb:102d:5ea6:7e41:3a5f:0 - \"\u001b[1mGET /assets/repos-video-D8kpu60k.svg HTTP/1.1\u001b[0m\" \u001b[32m200 OK\u001b[0m\n",
            "\u001b[32mINFO\u001b[0m:     2c0f:fc88:5:8feb:102d:5ea6:7e41:3a5f:0 - \"\u001b[1mGET /assets/page-DYEquBC2.js HTTP/1.1\u001b[0m\" \u001b[32m200 OK\u001b[0m\n",
            "\u001b[32mINFO\u001b[0m:     2c0f:fc88:5:8feb:102d:5ea6:7e41:3a5f:0 - \"\u001b[1mGET /assets/page-CiYxgZP_.js HTTP/1.1\u001b[0m\" \u001b[32m200 OK\u001b[0m\n",
            "\u001b[32mINFO\u001b[0m:     2c0f:fc88:5:8feb:102d:5ea6:7e41:3a5f:0 - \"\u001b[1mGET /assets/login-mutation-BQeo4wTY.js HTTP/1.1\u001b[0m\" \u001b[32m200 OK\u001b[0m\n",
            "\u001b[32mINFO\u001b[0m:     2c0f:fc88:5:8feb:102d:5ea6:7e41:3a5f:0 - \"\u001b[1mGET /assets/page-D8ObrbH8.js HTTP/1.1\u001b[0m\" \u001b[32m200 OK\u001b[0m\n",
            "\u001b[32mINFO\u001b[0m:     2c0f:fc88:5:8feb:102d:5ea6:7e41:3a5f:0 - \"\u001b[1mGET /assets/page-R5dx3xGF.js HTTP/1.1\u001b[0m\" \u001b[32m200 OK\u001b[0m\n",
            "\u001b[32mINFO\u001b[0m:     2c0f:fc88:5:8feb:102d:5ea6:7e41:3a5f:0 - \"\u001b[1mGET /assets/tick-circle-BEX_Tp4v.js HTTP/1.1\u001b[0m\" \u001b[32m200 OK\u001b[0m\n",
            "\u001b[32mINFO\u001b[0m:     2c0f:fc88:5:8feb:102d:5ea6:7e41:3a5f:0 - \"\u001b[1mGET /assets/Commands-BVEXKAOj.js HTTP/1.1\u001b[0m\" \u001b[32m200 OK\u001b[0m\n",
            "\u001b[32mINFO\u001b[0m:     2c0f:fc88:5:8feb:102d:5ea6:7e41:3a5f:0 - \"\u001b[1mGET /assets/update-server-settings-mutation-BWmgVJwA.js HTTP/1.1\u001b[0m\" \u001b[32m200 OK\u001b[0m\n",
            "\u001b[32mINFO\u001b[0m:     2c0f:fc88:5:8feb:102d:5ea6:7e41:3a5f:0 - \"\u001b[1mGET /assets/DeleteAlertDialog-D2ELtM2W.js HTTP/1.1\u001b[0m\" \u001b[32m200 OK\u001b[0m\n",
            "\u001b[32mINFO\u001b[0m:     2c0f:fc88:5:8feb:102d:5ea6:7e41:3a5f:0 - \"\u001b[1mGET /assets/code-snippets-CqONne41.js HTTP/1.1\u001b[0m\" \u001b[32m200 OK\u001b[0m\n",
            "\u001b[32mINFO\u001b[0m:     2c0f:fc88:5:8feb:102d:5ea6:7e41:3a5f:0 - \"\u001b[1mGET /assets/RunsBody-KecfSkjY.js HTTP/1.1\u001b[0m\" \u001b[32m200 OK\u001b[0m\n",
            "\u001b[32mINFO\u001b[0m:     2c0f:fc88:5:8feb:102d:5ea6:7e41:3a5f:0 - \"\u001b[1mGET /assets/WizardFooter-BCAj69Vj.js HTTP/1.1\u001b[0m\" \u001b[32m200 OK\u001b[0m\n",
            "\u001b[32mINFO\u001b[0m:     2c0f:fc88:5:8feb:102d:5ea6:7e41:3a5f:0 - \"\u001b[1mGET /assets/link-external-b9AXw_sW.js HTTP/1.1\u001b[0m\" \u001b[32m200 OK\u001b[0m\n",
            "\u001b[32mINFO\u001b[0m:     2c0f:fc88:5:8feb:102d:5ea6:7e41:3a5f:0 - \"\u001b[1mGET /assets/Error-B8uUfTpL.js HTTP/1.1\u001b[0m\" \u001b[32m200 OK\u001b[0m\n",
            "\u001b[32mINFO\u001b[0m:     2c0f:fc88:5:8feb:102d:5ea6:7e41:3a5f:0 - \"\u001b[1mGET /assets/page-9Y9-gig0.js HTTP/1.1\u001b[0m\" \u001b[32m200 OK\u001b[0m\n",
            "\u001b[32mINFO\u001b[0m:     2c0f:fc88:5:8feb:102d:5ea6:7e41:3a5f:0 - \"\u001b[1mGET /assets/RunSelector-DgRGaAc6.js HTTP/1.1\u001b[0m\" \u001b[32m200 OK\u001b[0m\n",
            "\u001b[32mINFO\u001b[0m:     2c0f:fc88:5:8feb:102d:5ea6:7e41:3a5f:0 - \"\u001b[1mGET /assets/page-CXuQufSe.js HTTP/1.1\u001b[0m\" \u001b[32m200 OK\u001b[0m\n",
            "\u001b[32mINFO\u001b[0m:     2c0f:fc88:5:8feb:102d:5ea6:7e41:3a5f:0 - \"\u001b[1mGET /assets/ExecutionStatus-ibAdY-dG.js HTTP/1.1\u001b[0m\" \u001b[32m200 OK\u001b[0m\n",
            "\u001b[32mINFO\u001b[0m:     2c0f:fc88:5:8feb:102d:5ea6:7e41:3a5f:0 - \"\u001b[1mGET /assets/DialogItem-DXIMhBgU.js HTTP/1.1\u001b[0m\" \u001b[32m200 OK\u001b[0m\n",
            "\u001b[32mINFO\u001b[0m:     2c0f:fc88:5:8feb:102d:5ea6:7e41:3a5f:0 - \"\u001b[1mGET /assets/delete-run-DZ4hIXff.js HTTP/1.1\u001b[0m\" \u001b[32m200 OK\u001b[0m\n",
            "\u001b[32mINFO\u001b[0m:     2c0f:fc88:5:8feb:102d:5ea6:7e41:3a5f:0 - \"\u001b[1mGET /assets/page-M0w-n6vn.js HTTP/1.1\u001b[0m\" \u001b[32m200 OK\u001b[0m\n",
            "\u001b[32mINFO\u001b[0m:     2c0f:fc88:5:8feb:102d:5ea6:7e41:3a5f:0 - \"\u001b[1mGET /assets/page-r8XK5vR7.js HTTP/1.1\u001b[0m\" \u001b[32m200 OK\u001b[0m\n",
            "\u001b[32mINFO\u001b[0m:     2c0f:fc88:5:8feb:102d:5ea6:7e41:3a5f:0 - \"\u001b[1mGET /assets/page-B_Apk3xg.js HTTP/1.1\u001b[0m\" \u001b[32m200 OK\u001b[0m\n",
            "\u001b[32mINFO\u001b[0m:     2c0f:fc88:5:8feb:102d:5ea6:7e41:3a5f:0 - \"\u001b[1mGET /assets/page-Bg8OjTRe.js HTTP/1.1\u001b[0m\" \u001b[32m200 OK\u001b[0m\n",
            "\u001b[32mINFO\u001b[0m:     2c0f:fc88:5:8feb:102d:5ea6:7e41:3a5f:0 - \"\u001b[1mGET /assets/Tabs-Rg857zmd.js HTTP/1.1\u001b[0m\" \u001b[32m200 OK\u001b[0m\n",
            "\u001b[32mINFO\u001b[0m:     2c0f:fc88:5:8feb:102d:5ea6:7e41:3a5f:0 - \"\u001b[1mGET /assets/refresh-BjOeWlEq.js HTTP/1.1\u001b[0m\" \u001b[32m200 OK\u001b[0m\n",
            "\u001b[32mINFO\u001b[0m:     2c0f:fc88:5:8feb:102d:5ea6:7e41:3a5f:0 - \"\u001b[1mGET /assets/AlertDialogDropdownItem-BHd71pVS.js HTTP/1.1\u001b[0m\" \u001b[32m200 OK\u001b[0m\n",
            "\u001b[32mINFO\u001b[0m:     2c0f:fc88:5:8feb:102d:5ea6:7e41:3a5f:0 - \"\u001b[1mGET /assets/StackList-TWPBYnkF.js HTTP/1.1\u001b[0m\" \u001b[32m200 OK\u001b[0m\n",
            "\u001b[32mINFO\u001b[0m:     2c0f:fc88:5:8feb:102d:5ea6:7e41:3a5f:0 - \"\u001b[1mGET /assets/page-Ce4Hrjnr.js HTTP/1.1\u001b[0m\" \u001b[32m200 OK\u001b[0m\n",
            "\u001b[32mINFO\u001b[0m:     2c0f:fc88:5:8feb:102d:5ea6:7e41:3a5f:0 - \"\u001b[1mGET /assets/CollapsibleCard-CDnC97pB.js HTTP/1.1\u001b[0m\" \u001b[32m200 OK\u001b[0m\n",
            "\u001b[32mINFO\u001b[0m:     2c0f:fc88:5:8feb:102d:5ea6:7e41:3a5f:0 - \"\u001b[1mGET /assets/CopyButton-B6wGAhQv.js HTTP/1.1\u001b[0m\" \u001b[32m200 OK\u001b[0m\n",
            "\u001b[32mINFO\u001b[0m:     2c0f:fc88:5:8feb:102d:5ea6:7e41:3a5f:0 - \"\u001b[1mGET /assets/Infobox-M_SMOu96.js HTTP/1.1\u001b[0m\" \u001b[32m200 OK\u001b[0m\n",
            "\u001b[32mINFO\u001b[0m:     2c0f:fc88:5:8feb:102d:5ea6:7e41:3a5f:0 - \"\u001b[1mGET /assets/page-D4wdonLm.js HTTP/1.1\u001b[0m\" \u001b[32m200 OK\u001b[0m\n",
            "\u001b[32mINFO\u001b[0m:     2c0f:fc88:5:8feb:102d:5ea6:7e41:3a5f:0 - \"\u001b[1mGET /assets/CodeSnippet-Bbx6fIb6.css HTTP/1.1\u001b[0m\" \u001b[32m200 OK\u001b[0m\n",
            "\u001b[32mINFO\u001b[0m:     2c0f:fc88:5:8feb:102d:5ea6:7e41:3a5f:0 - \"\u001b[1mGET /assets/logs-WMSM52RF.js HTTP/1.1\u001b[0m\" \u001b[32m200 OK\u001b[0m\n",
            "\u001b[32mINFO\u001b[0m:     2c0f:fc88:5:8feb:102d:5ea6:7e41:3a5f:0 - \"\u001b[1mGET /assets/components-Br2ezRib.js HTTP/1.1\u001b[0m\" \u001b[32m200 OK\u001b[0m\n",
            "\u001b[32mINFO\u001b[0m:     2c0f:fc88:5:8feb:102d:5ea6:7e41:3a5f:0 - \"\u001b[1mGET /assets/InlineAvatar-DBA0a0-a.js HTTP/1.1\u001b[0m\" \u001b[32m200 OK\u001b[0m\n",
            "\u001b[32mINFO\u001b[0m:     2c0f:fc88:5:8feb:102d:5ea6:7e41:3a5f:0 - \"\u001b[1mGET /assets/page-CWxT5K5J.js HTTP/1.1\u001b[0m\" \u001b[32m200 OK\u001b[0m\n",
            "\u001b[32mINFO\u001b[0m:     2c0f:fc88:5:8feb:102d:5ea6:7e41:3a5f:0 - \"\u001b[1mGET /assets/code-browser-CUFUIHfp.js HTTP/1.1\u001b[0m\" \u001b[32m200 OK\u001b[0m\n",
            "\u001b[32mINFO\u001b[0m:     2c0f:fc88:5:8feb:102d:5ea6:7e41:3a5f:0 - \"\u001b[1mGET /assets/Lock-CYYy18Mm.js HTTP/1.1\u001b[0m\" \u001b[32m200 OK\u001b[0m\n",
            "\u001b[32mINFO\u001b[0m:     2c0f:fc88:5:8feb:102d:5ea6:7e41:3a5f:0 - \"\u001b[1mGET /assets/create-stack-HfdbhLs4.js HTTP/1.1\u001b[0m\" \u001b[32m200 OK\u001b[0m\n",
            "\u001b[32mINFO\u001b[0m:     2c0f:fc88:5:8feb:102d:5ea6:7e41:3a5f:0 - \"\u001b[1mGET /assets/ProviderRadio-DWPnMuQ1.js HTTP/1.1\u001b[0m\" \u001b[32m200 OK\u001b[0m\n",
            "\u001b[32mINFO\u001b[0m:     2c0f:fc88:5:8feb:102d:5ea6:7e41:3a5f:0 - \"\u001b[1mGET /assets/page-DO1UcqPX.js HTTP/1.1\u001b[0m\" \u001b[32m200 OK\u001b[0m\n",
            "\u001b[32mINFO\u001b[0m:     2c0f:fc88:5:8feb:102d:5ea6:7e41:3a5f:0 - \"\u001b[1mGET /assets/persist-DAUi_3za.js HTTP/1.1\u001b[0m\" \u001b[32m200 OK\u001b[0m\n",
            "\u001b[32mINFO\u001b[0m:     2c0f:fc88:5:8feb:102d:5ea6:7e41:3a5f:0 - \"\u001b[1mGET /assets/ProBadge-DQbfFotM.js HTTP/1.1\u001b[0m\" \u001b[32m200 OK\u001b[0m\n",
            "\u001b[32mINFO\u001b[0m:     2c0f:fc88:5:8feb:102d:5ea6:7e41:3a5f:0 - \"\u001b[1mGET /assets/layout-BtHBmE4w.js HTTP/1.1\u001b[0m\" \u001b[32m200 OK\u001b[0m\n",
            "\u001b[32mINFO\u001b[0m:     2c0f:fc88:5:8feb:102d:5ea6:7e41:3a5f:0 - \"\u001b[1mGET /assets/Partials-D_ldD9if.js HTTP/1.1\u001b[0m\" \u001b[32m200 OK\u001b[0m\n",
            "\u001b[32mINFO\u001b[0m:     2c0f:fc88:5:8feb:102d:5ea6:7e41:3a5f:0 - \"\u001b[1mGET /assets/chevron-down-6JyMkfjR.js HTTP/1.1\u001b[0m\" \u001b[32m200 OK\u001b[0m\n",
            "\u001b[32mINFO\u001b[0m:     2c0f:fc88:5:8feb:102d:5ea6:7e41:3a5f:0 - \"\u001b[1mGET /assets/persist-AppN1B0J.js HTTP/1.1\u001b[0m\" \u001b[32m200 OK\u001b[0m\n",
            "\u001b[32mINFO\u001b[0m:     2c0f:fc88:5:8feb:102d:5ea6:7e41:3a5f:0 - \"\u001b[1mGET /assets/SearchField-n-ILHnaP.js HTTP/1.1\u001b[0m\" \u001b[32m200 OK\u001b[0m\n",
            "\u001b[32mINFO\u001b[0m:     2c0f:fc88:5:8feb:102d:5ea6:7e41:3a5f:0 - \"\u001b[1mGET /assets/index-Uu49AX48.js HTTP/1.1\u001b[0m\" \u001b[32m200 OK\u001b[0m\n",
            "\u001b[32mINFO\u001b[0m:     2c0f:fc88:5:8feb:102d:5ea6:7e41:3a5f:0 - \"\u001b[1mGET /assets/sharedSchema-uXN9FLLk.js HTTP/1.1\u001b[0m\" \u001b[32m200 OK\u001b[0m\n",
            "\u001b[32mINFO\u001b[0m:     2c0f:fc88:5:8feb:102d:5ea6:7e41:3a5f:0 - \"\u001b[1mGET /assets/NestedCollapsible-DpgmEFKw.js HTTP/1.1\u001b[0m\" \u001b[32m200 OK\u001b[0m\n",
            "\u001b[32mINFO\u001b[0m:     2c0f:fc88:5:8feb:102d:5ea6:7e41:3a5f:0 - \"\u001b[1mGET /assets/docker-BdA9vrnW.js HTTP/1.1\u001b[0m\" \u001b[32m200 OK\u001b[0m\n",
            "\u001b[32mINFO\u001b[0m:     2c0f:fc88:5:8feb:102d:5ea6:7e41:3a5f:0 - \"\u001b[1mGET /assets/dates-3pMLCNrD.js HTTP/1.1\u001b[0m\" \u001b[32m200 OK\u001b[0m\n",
            "\u001b[32mINFO\u001b[0m:     2c0f:fc88:5:8feb:102d:5ea6:7e41:3a5f:0 - \"\u001b[1mGET /assets/DisplayDate-CDMUcQHS.js HTTP/1.1\u001b[0m\" \u001b[32m200 OK\u001b[0m\n",
            "\u001b[32mINFO\u001b[0m:     2c0f:fc88:5:8feb:102d:5ea6:7e41:3a5f:0 - \"\u001b[1mGET /assets/page-AUwiQ14W.js HTTP/1.1\u001b[0m\" \u001b[32m200 OK\u001b[0m\n",
            "\u001b[32mINFO\u001b[0m:     2c0f:fc88:5:8feb:102d:5ea6:7e41:3a5f:0 - \"\u001b[1mGET /assets/page-I3nKFGie.js HTTP/1.1\u001b[0m\" \u001b[32m200 OK\u001b[0m\n",
            "\u001b[32mINFO\u001b[0m:     2c0f:fc88:5:8feb:102d:5ea6:7e41:3a5f:0 - \"\u001b[1mGET /assets/dots-horizontal-otGBOSDJ.js HTTP/1.1\u001b[0m\" \u001b[32m200 OK\u001b[0m\n",
            "\u001b[32mINFO\u001b[0m:     2c0f:fc88:5:8feb:102d:5ea6:7e41:3a5f:0 - \"\u001b[1mGET /assets/ComponentBadge-CrRvovox.js HTTP/1.1\u001b[0m\" \u001b[32m200 OK\u001b[0m\n",
            "\u001b[32mINFO\u001b[0m:     2c0f:fc88:5:8feb:102d:5ea6:7e41:3a5f:0 - \"\u001b[1mGET /assets/trash-arLUMWMS.js HTTP/1.1\u001b[0m\" \u001b[32m200 OK\u001b[0m\n",
            "\u001b[32mINFO\u001b[0m:     2c0f:fc88:5:8feb:102d:5ea6:7e41:3a5f:0 - \"\u001b[1mGET /assets/ProviderIcon-BZpgPigN.js HTTP/1.1\u001b[0m\" \u001b[32m200 OK\u001b[0m\n",
            "\u001b[32mINFO\u001b[0m:     2c0f:fc88:5:8feb:102d:5ea6:7e41:3a5f:0 - \"\u001b[1mGET /assets/package-C6uypY4h.js HTTP/1.1\u001b[0m\" \u001b[32m200 OK\u001b[0m\n",
            "\u001b[32mINFO\u001b[0m:     2c0f:fc88:5:8feb:102d:5ea6:7e41:3a5f:0 - \"\u001b[1mGET /assets/form-schemas-B0AVEd9b.js HTTP/1.1\u001b[0m\" \u001b[32m200 OK\u001b[0m\n",
            "\u001b[32mINFO\u001b[0m:     2c0f:fc88:5:8feb:102d:5ea6:7e41:3a5f:0 - \"\u001b[1mGET /assets/check-circle-jNbX5-sR.js HTTP/1.1\u001b[0m\" \u001b[32m200 OK\u001b[0m\n",
            "\u001b[32mINFO\u001b[0m:     2c0f:fc88:5:8feb:102d:5ea6:7e41:3a5f:0 - \"\u001b[1mGET /assets/index.esm-Dy6Z9Ung.js HTTP/1.1\u001b[0m\" \u001b[32m200 OK\u001b[0m\n",
            "\u001b[32mINFO\u001b[0m:     2c0f:fc88:5:8feb:102d:5ea6:7e41:3a5f:0 - \"\u001b[1mGET /assets/chevron-right-double-D7ojK9Co.js HTTP/1.1\u001b[0m\" \u001b[32m200 OK\u001b[0m\n",
            "\u001b[32mINFO\u001b[0m:     2c0f:fc88:5:8feb:102d:5ea6:7e41:3a5f:0 - \"\u001b[1mGET /assets/ProCta-Bcpb4rcY.js HTTP/1.1\u001b[0m\" \u001b[32m200 OK\u001b[0m\n",
            "\u001b[32mINFO\u001b[0m:     2c0f:fc88:5:8feb:102d:5ea6:7e41:3a5f:0 - \"\u001b[1mGET /assets/rocket-DjT2cDvG.js HTTP/1.1\u001b[0m\" \u001b[32m200 OK\u001b[0m\n",
            "\u001b[32mINFO\u001b[0m:     2c0f:fc88:5:8feb:102d:5ea6:7e41:3a5f:0 - \"\u001b[1mGET /assets/MarkdownVisualization-ylXaAxev.js HTTP/1.1\u001b[0m\" \u001b[32m200 OK\u001b[0m\n",
            "\u001b[32mINFO\u001b[0m:     2c0f:fc88:5:8feb:102d:5ea6:7e41:3a5f:0 - \"\u001b[1mGET /assets/page-DRYXdL5o.js HTTP/1.1\u001b[0m\" \u001b[32m200 OK\u001b[0m\n",
            "\u001b[32mINFO\u001b[0m:     2c0f:fc88:5:8feb:102d:5ea6:7e41:3a5f:0 - \"\u001b[1mGET /assets/CodeSnippet-DIonwetW.js HTTP/1.1\u001b[0m\" \u001b[32m200 OK\u001b[0m\n",
            "\u001b[32mINFO\u001b[0m:     2c0f:fc88:5:8feb:102d:5ea6:7e41:3a5f:0 - \"\u001b[1mGET /assets/check-DloQpStc.js HTTP/1.1\u001b[0m\" \u001b[32m200 OK\u001b[0m\n",
            "\u001b[32mINFO\u001b[0m:     2c0f:fc88:5:8feb:102d:5ea6:7e41:3a5f:0 - \"\u001b[1mGET /assets/CsvVizualization-CjcT7LMm.js HTTP/1.1\u001b[0m\" \u001b[32m200 OK\u001b[0m\n",
            "\u001b[32mINFO\u001b[0m:     2c0f:fc88:5:8feb:102d:5ea6:7e41:3a5f:0 - \"\u001b[1mGET /assets/UpdatePasswordSchemas-C6Aj3hm6.js HTTP/1.1\u001b[0m\" \u001b[32m200 OK\u001b[0m\n",
            "\u001b[32mINFO\u001b[0m:     2c0f:fc88:5:8feb:102d:5ea6:7e41:3a5f:0 - \"\u001b[1mGET /assets/index-DScjfBRb.js HTTP/1.1\u001b[0m\" \u001b[32m200 OK\u001b[0m\n",
            "\u001b[32mINFO\u001b[0m:     2c0f:fc88:5:8feb:102d:5ea6:7e41:3a5f:0 - \"\u001b[1mGET /assets/gcp-CFtm4BA7.js HTTP/1.1\u001b[0m\" \u001b[32m200 OK\u001b[0m\n",
            "\u001b[32mINFO\u001b[0m:     2c0f:fc88:5:8feb:102d:5ea6:7e41:3a5f:0 - \"\u001b[1mGET /assets/login-command-CkqxPtV3.js HTTP/1.1\u001b[0m\" \u001b[32m200 OK\u001b[0m\n",
            "\u001b[32mINFO\u001b[0m:     2c0f:fc88:5:8feb:102d:5ea6:7e41:3a5f:0 - \"\u001b[1mGET /assets/page-DFuAUGt4.js HTTP/1.1\u001b[0m\" \u001b[32m200 OK\u001b[0m\n",
            "\u001b[32mINFO\u001b[0m:     2c0f:fc88:5:8feb:102d:5ea6:7e41:3a5f:0 - \"\u001b[1mGET /assets/copy-C8XQA2Ug.js HTTP/1.1\u001b[0m\" \u001b[32m200 OK\u001b[0m\n",
            "\u001b[32mINFO\u001b[0m:     2c0f:fc88:5:8feb:102d:5ea6:7e41:3a5f:0 - \"\u001b[1mGET /assets/EmptyState-BzdlCwp3.js HTTP/1.1\u001b[0m\" \u001b[32m200 OK\u001b[0m\n",
            "\u001b[32mINFO\u001b[0m:     2c0f:fc88:5:8feb:102d:5ea6:7e41:3a5f:0 - \"\u001b[1mGET /assets/url-BLwMbzES.js HTTP/1.1\u001b[0m\" \u001b[32m200 OK\u001b[0m\n",
            "\u001b[32mINFO\u001b[0m:     2c0f:fc88:5:8feb:102d:5ea6:7e41:3a5f:0 - \"\u001b[1mGET /assets/kubernetes-B2wmAJ1d.js HTTP/1.1\u001b[0m\" \u001b[32m200 OK\u001b[0m\n",
            "\u001b[32mINFO\u001b[0m:     2c0f:fc88:5:8feb:102d:5ea6:7e41:3a5f:0 - \"\u001b[1mGET /assets/zod-BwEbpOxH.js HTTP/1.1\u001b[0m\" \u001b[32m200 OK\u001b[0m\n",
            "\u001b[32mINFO\u001b[0m:     2c0f:fc88:5:8feb:102d:5ea6:7e41:3a5f:0 - \"\u001b[1mGET /assets/page-CiYxgZP_.js HTTP/1.1\u001b[0m\" \u001b[32m200 OK\u001b[0m\n",
            "\u001b[32mINFO\u001b[0m:     2c0f:fc88:5:8feb:102d:5ea6:7e41:3a5f:0 - \"\u001b[1mGET /assets/Helpbox-BfAfhKHw.js HTTP/1.1\u001b[0m\" \u001b[32m200 OK\u001b[0m\n",
            "\u001b[32mINFO\u001b[0m:     2c0f:fc88:5:8feb:102d:5ea6:7e41:3a5f:0 - \"\u001b[1mGET /assets/UsageReason-BTLbx7w4.js HTTP/1.1\u001b[0m\" \u001b[32m200 OK\u001b[0m\n",
            "\u001b[32mINFO\u001b[0m:     2c0f:fc88:5:8feb:102d:5ea6:7e41:3a5f:0 - \"\u001b[1mGET /assets/help-Cc9bBIJH.js HTTP/1.1\u001b[0m\" \u001b[32m200 OK\u001b[0m\n",
            "\u001b[32mINFO\u001b[0m:     2c0f:fc88:5:8feb:102d:5ea6:7e41:3a5f:0 - \"\u001b[1mGET /assets/Tick-COg4A-xo.js HTTP/1.1\u001b[0m\" \u001b[32m200 OK\u001b[0m\n",
            "\u001b[32mINFO\u001b[0m:     2c0f:fc88:5:8feb:102d:5ea6:7e41:3a5f:0 - \"\u001b[1mGET /assets/plus-tf1V2hTJ.js HTTP/1.1\u001b[0m\" \u001b[32m200 OK\u001b[0m\n",
            "\u001b[32mINFO\u001b[0m:     2c0f:fc88:5:8feb:102d:5ea6:7e41:3a5f:0 - \"\u001b[1mGET /assets/404-Cqu3EDCm.js HTTP/1.1\u001b[0m\" \u001b[32m200 OK\u001b[0m\n",
            "\u001b[32mINFO\u001b[0m:     2c0f:fc88:5:8feb:102d:5ea6:7e41:3a5f:0 - \"\u001b[1mGET /assets/page-DGazBpuP.js HTTP/1.1\u001b[0m\" \u001b[32m200 OK\u001b[0m\n",
            "\u001b[32mINFO\u001b[0m:     2c0f:fc88:5:8feb:102d:5ea6:7e41:3a5f:0 - \"\u001b[1mGET /assets/index-DPqSWjug.js HTTP/1.1\u001b[0m\" \u001b[32m200 OK\u001b[0m\n",
            "\u001b[32mINFO\u001b[0m:     2c0f:fc88:5:8feb:102d:5ea6:7e41:3a5f:0 - \"\u001b[1mGET /assets/NumberBox-Dtp3J6g5.js HTTP/1.1\u001b[0m\" \u001b[32m200 OK\u001b[0m\n",
            "\u001b[32mINFO\u001b[0m:     2c0f:fc88:5:8feb:102d:5ea6:7e41:3a5f:0 - \"\u001b[1mGET /assets/page-BKZYc2Zv.js HTTP/1.1\u001b[0m\" \u001b[32m200 OK\u001b[0m\n",
            "\u001b[32mINFO\u001b[0m:     2c0f:fc88:5:8feb:102d:5ea6:7e41:3a5f:0 - \"\u001b[1mGET /assets/index-I3bKUGUj.js HTTP/1.1\u001b[0m\" \u001b[32m200 OK\u001b[0m\n",
            "\u001b[32mINFO\u001b[0m:     2c0f:fc88:5:8feb:102d:5ea6:7e41:3a5f:0 - \"\u001b[1mGET /assets/stack-detail-query-XfZBiBP2.js HTTP/1.1\u001b[0m\" \u001b[32m200 OK\u001b[0m\n"
          ]
        },
        {
          "output_type": "stream",
          "name": "stderr",
          "text": [
            "INFO:pyngrok.process.ngrok:t=2025-01-13T16:35:42+0000 lvl=info msg=\"join connections\" obj=join id=1639481dd92e l=127.0.0.1:8237 r=[2c0f:fc88:5:8feb:102d:5ea6:7e41:3a5f]:55239\n"
          ]
        },
        {
          "output_type": "stream",
          "name": "stdout",
          "text": [
            "\u001b[32mINFO\u001b[0m:     2c0f:fc88:5:8feb:102d:5ea6:7e41:3a5f:0 - \"\u001b[1mGET /assets/link-external-b9AXw_sW.js HTTP/1.1\u001b[0m\" \u001b[32m200 OK\u001b[0m\n",
            "\u001b[32mINFO\u001b[0m:     2c0f:fc88:5:8feb:102d:5ea6:7e41:3a5f:0 - \"\u001b[1mGET /assets/login-command-CkqxPtV3.js HTTP/1.1\u001b[0m\" \u001b[32m200 OK\u001b[0m\n",
            "\u001b[32mINFO\u001b[0m:     2c0f:fc88:5:8feb:102d:5ea6:7e41:3a5f:0 - \"\u001b[1mGET /assets/CodeSnippet-DIonwetW.js HTTP/1.1\u001b[0m\" \u001b[32m200 OK\u001b[0m\n",
            "\u001b[32mINFO\u001b[0m:     2c0f:fc88:5:8feb:102d:5ea6:7e41:3a5f:0 - \"\u001b[1mGET /assets/copy-C8XQA2Ug.js HTTP/1.1\u001b[0m\" \u001b[32m200 OK\u001b[0m\n",
            "\u001b[1;35mt=2025-01-13T16:35:42+0000 lvl=info msg=\"join connections\" obj=join id=1639481dd92e l=127.0.0.1:8237 r=[2c0f:fc88:5:8feb:102d:5ea6:7e41:3a5f]:55239\u001b[0m\n"
          ]
        },
        {
          "output_type": "stream",
          "name": "stderr",
          "text": [
            "INFO:pyngrok.process.ngrok:t=2025-01-13T16:35:42+0000 lvl=info msg=\"join connections\" obj=join id=d4a0fe1a75e7 l=127.0.0.1:8237 r=[2c0f:fc88:5:8feb:102d:5ea6:7e41:3a5f]:55239\n"
          ]
        },
        {
          "output_type": "stream",
          "name": "stdout",
          "text": [
            "\u001b[1;35mt=2025-01-13T16:35:42+0000 lvl=info msg=\"join connections\" obj=join id=d4a0fe1a75e7 l=127.0.0.1:8237 r=[2c0f:fc88:5:8feb:102d:5ea6:7e41:3a5f]:55239\u001b[0m\n"
          ]
        },
        {
          "output_type": "stream",
          "name": "stderr",
          "text": [
            "INFO:pyngrok.process.ngrok:t=2025-01-13T16:35:42+0000 lvl=info msg=\"join connections\" obj=join id=521febc340a1 l=127.0.0.1:8237 r=[2c0f:fc88:5:8feb:102d:5ea6:7e41:3a5f]:55239\n"
          ]
        },
        {
          "output_type": "stream",
          "name": "stdout",
          "text": [
            "\u001b[1;35mt=2025-01-13T16:35:42+0000 lvl=info msg=\"join connections\" obj=join id=521febc340a1 l=127.0.0.1:8237 r=[2c0f:fc88:5:8feb:102d:5ea6:7e41:3a5f]:55239\u001b[0m\n"
          ]
        },
        {
          "output_type": "stream",
          "name": "stderr",
          "text": [
            "INFO:pyngrok.process.ngrok:t=2025-01-13T16:35:42+0000 lvl=info msg=\"join connections\" obj=join id=db2ff999fc5c l=127.0.0.1:8237 r=[2c0f:fc88:5:8feb:102d:5ea6:7e41:3a5f]:55239\n"
          ]
        },
        {
          "output_type": "stream",
          "name": "stdout",
          "text": [
            "\u001b[32mINFO\u001b[0m:     2c0f:fc88:5:8feb:102d:5ea6:7e41:3a5f:0 - \"\u001b[1mGET /api/v1/info HTTP/1.1\u001b[0m\" \u001b[32m200 OK\u001b[0m\n",
            "\u001b[32mINFO\u001b[0m:     2c0f:fc88:5:8feb:102d:5ea6:7e41:3a5f:0 - \"\u001b[1mGET /api/v1/settings HTTP/1.1\u001b[0m\" \u001b[32m200 OK\u001b[0m\n",
            "\u001b[1;35mt=2025-01-13T16:35:42+0000 lvl=info msg=\"join connections\" obj=join id=db2ff999fc5c l=127.0.0.1:8237 r=[2c0f:fc88:5:8feb:102d:5ea6:7e41:3a5f]:55239\u001b[0m\n"
          ]
        },
        {
          "output_type": "stream",
          "name": "stderr",
          "text": [
            "INFO:pyngrok.process.ngrok:t=2025-01-13T16:35:42+0000 lvl=info msg=\"join connections\" obj=join id=5175e198cef0 l=127.0.0.1:8237 r=[2c0f:fc88:5:8feb:102d:5ea6:7e41:3a5f]:55239\n"
          ]
        },
        {
          "output_type": "stream",
          "name": "stdout",
          "text": [
            "\u001b[1;35mt=2025-01-13T16:35:42+0000 lvl=info msg=\"join connections\" obj=join id=5175e198cef0 l=127.0.0.1:8237 r=[2c0f:fc88:5:8feb:102d:5ea6:7e41:3a5f]:55239\u001b[0m\n"
          ]
        },
        {
          "output_type": "stream",
          "name": "stderr",
          "text": [
            "INFO:pyngrok.process.ngrok:t=2025-01-13T16:35:42+0000 lvl=info msg=\"join connections\" obj=join id=3c107d6a9c8e l=127.0.0.1:8237 r=[2c0f:fc88:5:8feb:102d:5ea6:7e41:3a5f]:55239\n"
          ]
        },
        {
          "output_type": "stream",
          "name": "stdout",
          "text": [
            "\u001b[1;35mt=2025-01-13T16:35:42+0000 lvl=info msg=\"join connections\" obj=join id=3c107d6a9c8e l=127.0.0.1:8237 r=[2c0f:fc88:5:8feb:102d:5ea6:7e41:3a5f]:55239\u001b[0m\n"
          ]
        },
        {
          "output_type": "stream",
          "name": "stderr",
          "text": [
            "INFO:pyngrok.process.ngrok:t=2025-01-13T16:35:42+0000 lvl=info msg=\"join connections\" obj=join id=a603b26a3c29 l=127.0.0.1:8237 r=[2c0f:fc88:5:8feb:102d:5ea6:7e41:3a5f]:55239\n"
          ]
        },
        {
          "output_type": "stream",
          "name": "stdout",
          "text": [
            "\u001b[1;35mt=2025-01-13T16:35:42+0000 lvl=info msg=\"join connections\" obj=join id=a603b26a3c29 l=127.0.0.1:8237 r=[2c0f:fc88:5:8feb:102d:5ea6:7e41:3a5f]:55239\u001b[0m\n"
          ]
        },
        {
          "output_type": "stream",
          "name": "stderr",
          "text": [
            "INFO:pyngrok.process.ngrok:t=2025-01-13T16:35:42+0000 lvl=info msg=\"join connections\" obj=join id=02cda735d191 l=127.0.0.1:8237 r=[2c0f:fc88:5:8feb:102d:5ea6:7e41:3a5f]:55239\n"
          ]
        },
        {
          "output_type": "stream",
          "name": "stdout",
          "text": [
            "\u001b[1;35mt=2025-01-13T16:35:42+0000 lvl=info msg=\"join connections\" obj=join id=02cda735d191 l=127.0.0.1:8237 r=[2c0f:fc88:5:8feb:102d:5ea6:7e41:3a5f]:55239\u001b[0m\n",
            "\u001b[32mINFO\u001b[0m:     2c0f:fc88:5:8feb:102d:5ea6:7e41:3a5f:0 - \"\u001b[1mGET /assets/cloud-squares-DeRLMopf.svg HTTP/1.1\u001b[0m\" \u001b[32m200 OK\u001b[0m\n",
            "\u001b[32mINFO\u001b[0m:     2c0f:fc88:5:8feb:102d:5ea6:7e41:3a5f:0 - \"\u001b[1mGET /api/v1/current-user HTTP/1.1\u001b[0m\" \u001b[32m200 OK\u001b[0m\n",
            "\u001b[32mINFO\u001b[0m:     2c0f:fc88:5:8feb:102d:5ea6:7e41:3a5f:0 - \"\u001b[1mGET /assets/inter-latin-500-normal-D2bGa7uu.woff2 HTTP/1.1\u001b[0m\" \u001b[32m200 OK\u001b[0m\n",
            "\u001b[32mINFO\u001b[0m:     2c0f:fc88:5:8feb:102d:5ea6:7e41:3a5f:0 - \"\u001b[1mGET /assets/inter-latin-600-normal-D273HNI0.woff2 HTTP/1.1\u001b[0m\" \u001b[32m200 OK\u001b[0m\n",
            "\u001b[32mINFO\u001b[0m:     2c0f:fc88:5:8feb:102d:5ea6:7e41:3a5f:0 - \"\u001b[1mGET /api/v1/onboarding_state HTTP/1.1\u001b[0m\" \u001b[32m200 OK\u001b[0m\n"
          ]
        },
        {
          "output_type": "stream",
          "name": "stderr",
          "text": [
            "INFO:pyngrok.process.ngrok:t=2025-01-13T16:36:07+0000 lvl=info msg=\"join connections\" obj=join id=e1290f318108 l=127.0.0.1:8237 r=[2c0f:fc88:5:8feb:102d:5ea6:7e41:3a5f]:55239\n"
          ]
        },
        {
          "output_type": "stream",
          "name": "stdout",
          "text": [
            "\u001b[1;35mt=2025-01-13T16:36:07+0000 lvl=info msg=\"join connections\" obj=join id=e1290f318108 l=127.0.0.1:8237 r=[2c0f:fc88:5:8feb:102d:5ea6:7e41:3a5f]:55239\u001b[0m\n",
            "\u001b[32mINFO\u001b[0m:     2c0f:fc88:5:8feb:102d:5ea6:7e41:3a5f:0 - \"\u001b[1mGET /assets/page-DRYXdL5o.js HTTP/1.1\u001b[0m\" \u001b[32m200 OK\u001b[0m\n"
          ]
        },
        {
          "output_type": "stream",
          "name": "stderr",
          "text": [
            "INFO:pyngrok.process.ngrok:t=2025-01-13T16:36:07+0000 lvl=info msg=\"join connections\" obj=join id=ebe690194b4a l=127.0.0.1:8237 r=[2c0f:fc88:5:8feb:102d:5ea6:7e41:3a5f]:55239\n"
          ]
        },
        {
          "output_type": "stream",
          "name": "stdout",
          "text": [
            "\u001b[32mINFO\u001b[0m:     2c0f:fc88:5:8feb:102d:5ea6:7e41:3a5f:0 - \"\u001b[1mGET /assets/package-C6uypY4h.js HTTP/1.1\u001b[0m\" \u001b[32m200 OK\u001b[0m\n",
            "\u001b[1;35mt=2025-01-13T16:36:07+0000 lvl=info msg=\"join connections\" obj=join id=ebe690194b4a l=127.0.0.1:8237 r=[2c0f:fc88:5:8feb:102d:5ea6:7e41:3a5f]:55239\u001b[0m\n"
          ]
        },
        {
          "output_type": "stream",
          "name": "stderr",
          "text": [
            "INFO:pyngrok.process.ngrok:t=2025-01-13T16:36:07+0000 lvl=info msg=\"join connections\" obj=join id=ee447b07ad5e l=127.0.0.1:8237 r=[2c0f:fc88:5:8feb:102d:5ea6:7e41:3a5f]:55239\n"
          ]
        },
        {
          "output_type": "stream",
          "name": "stdout",
          "text": [
            "\u001b[32mINFO\u001b[0m:     2c0f:fc88:5:8feb:102d:5ea6:7e41:3a5f:0 - \"\u001b[1mGET /assets/help-Cc9bBIJH.js HTTP/1.1\u001b[0m\" \u001b[32m200 OK\u001b[0m\n",
            "\u001b[1;35mt=2025-01-13T16:36:07+0000 lvl=info msg=\"join connections\" obj=join id=ee447b07ad5e l=127.0.0.1:8237 r=[2c0f:fc88:5:8feb:102d:5ea6:7e41:3a5f]:55239\u001b[0m\n"
          ]
        },
        {
          "output_type": "stream",
          "name": "stderr",
          "text": [
            "INFO:pyngrok.process.ngrok:t=2025-01-13T16:36:07+0000 lvl=info msg=\"join connections\" obj=join id=45d08664962a l=127.0.0.1:8237 r=[2c0f:fc88:5:8feb:102d:5ea6:7e41:3a5f]:55239\n"
          ]
        },
        {
          "output_type": "stream",
          "name": "stdout",
          "text": [
            "\u001b[1;35mt=2025-01-13T16:36:07+0000 lvl=info msg=\"join connections\" obj=join id=45d08664962a l=127.0.0.1:8237 r=[2c0f:fc88:5:8feb:102d:5ea6:7e41:3a5f]:55239\u001b[0m\n"
          ]
        },
        {
          "output_type": "stream",
          "name": "stderr",
          "text": [
            "INFO:pyngrok.process.ngrok:t=2025-01-13T16:36:07+0000 lvl=info msg=\"join connections\" obj=join id=cdb095f7dea3 l=127.0.0.1:8237 r=[2c0f:fc88:5:8feb:102d:5ea6:7e41:3a5f]:55239\n"
          ]
        },
        {
          "output_type": "stream",
          "name": "stdout",
          "text": [
            "\u001b[1;35mt=2025-01-13T16:36:07+0000 lvl=info msg=\"join connections\" obj=join id=cdb095f7dea3 l=127.0.0.1:8237 r=[2c0f:fc88:5:8feb:102d:5ea6:7e41:3a5f]:55239\u001b[0m\n"
          ]
        },
        {
          "output_type": "stream",
          "name": "stderr",
          "text": [
            "INFO:pyngrok.process.ngrok:t=2025-01-13T16:36:07+0000 lvl=info msg=\"join connections\" obj=join id=66b1ca7c1842 l=127.0.0.1:8237 r=[2c0f:fc88:5:8feb:102d:5ea6:7e41:3a5f]:55239\n"
          ]
        },
        {
          "output_type": "stream",
          "name": "stdout",
          "text": [
            "\u001b[1;35mt=2025-01-13T16:36:07+0000 lvl=info msg=\"join connections\" obj=join id=66b1ca7c1842 l=127.0.0.1:8237 r=[2c0f:fc88:5:8feb:102d:5ea6:7e41:3a5f]:55239\u001b[0m\n"
          ]
        },
        {
          "output_type": "stream",
          "name": "stderr",
          "text": [
            "INFO:pyngrok.process.ngrok:t=2025-01-13T16:36:07+0000 lvl=info msg=\"join connections\" obj=join id=a2143abea6c6 l=127.0.0.1:8237 r=[2c0f:fc88:5:8feb:102d:5ea6:7e41:3a5f]:55239\n"
          ]
        },
        {
          "output_type": "stream",
          "name": "stdout",
          "text": [
            "\u001b[1;35mt=2025-01-13T16:36:07+0000 lvl=info msg=\"join connections\" obj=join id=a2143abea6c6 l=127.0.0.1:8237 r=[2c0f:fc88:5:8feb:102d:5ea6:7e41:3a5f]:55239\u001b[0m\n"
          ]
        },
        {
          "output_type": "stream",
          "name": "stderr",
          "text": [
            "INFO:pyngrok.process.ngrok:t=2025-01-13T16:36:07+0000 lvl=info msg=\"join connections\" obj=join id=01bfa4d47750 l=127.0.0.1:8237 r=[2c0f:fc88:5:8feb:102d:5ea6:7e41:3a5f]:55239\n"
          ]
        },
        {
          "output_type": "stream",
          "name": "stdout",
          "text": [
            "\u001b[1;35mt=2025-01-13T16:36:07+0000 lvl=info msg=\"join connections\" obj=join id=01bfa4d47750 l=127.0.0.1:8237 r=[2c0f:fc88:5:8feb:102d:5ea6:7e41:3a5f]:55239\u001b[0m\n",
            "\u001b[32mINFO\u001b[0m:     2c0f:fc88:5:8feb:102d:5ea6:7e41:3a5f:0 - \"\u001b[1mGET /assets/Tick-COg4A-xo.js HTTP/1.1\u001b[0m\" \u001b[32m200 OK\u001b[0m\n",
            "\u001b[32mINFO\u001b[0m:     2c0f:fc88:5:8feb:102d:5ea6:7e41:3a5f:0 - \"\u001b[1mGET /assets/plus-tf1V2hTJ.js HTTP/1.1\u001b[0m\" \u001b[32m200 OK\u001b[0m\n",
            "\u001b[32mINFO\u001b[0m:     2c0f:fc88:5:8feb:102d:5ea6:7e41:3a5f:0 - \"\u001b[1mGET /assets/Helpbox-BfAfhKHw.js HTTP/1.1\u001b[0m\" \u001b[32m200 OK\u001b[0m\n",
            "\u001b[32mINFO\u001b[0m:     2c0f:fc88:5:8feb:102d:5ea6:7e41:3a5f:0 - \"\u001b[1mGET /assets/check-DloQpStc.js HTTP/1.1\u001b[0m\" \u001b[32m200 OK\u001b[0m\n",
            "\u001b[32mINFO\u001b[0m:     2c0f:fc88:5:8feb:102d:5ea6:7e41:3a5f:0 - \"\u001b[1mGET /assets/chevron-right-double-D7ojK9Co.js HTTP/1.1\u001b[0m\" \u001b[32m200 OK\u001b[0m\n",
            "\u001b[32mINFO\u001b[0m:     2c0f:fc88:5:8feb:102d:5ea6:7e41:3a5f:0 - \"\u001b[1mGET /assets/chevron-down-6JyMkfjR.js HTTP/1.1\u001b[0m\" \u001b[32m200 OK\u001b[0m\n",
            "\u001b[32mINFO\u001b[0m:     2c0f:fc88:5:8feb:102d:5ea6:7e41:3a5f:0 - \"\u001b[1mGET /api/v1/onboarding_state HTTP/1.1\u001b[0m\" \u001b[32m200 OK\u001b[0m\n",
            "\u001b[32mINFO\u001b[0m:     2c0f:fc88:5:8feb:102d:5ea6:7e41:3a5f:0 - \"\u001b[1mGET /api/v1/current-user HTTP/1.1\u001b[0m\" \u001b[32m200 OK\u001b[0m\n"
          ]
        },
        {
          "output_type": "stream",
          "name": "stderr",
          "text": [
            "INFO:pyngrok.process.ngrok:t=2025-01-13T16:36:08+0000 lvl=info msg=\"join connections\" obj=join id=20857c2b378e l=127.0.0.1:8237 r=[2c0f:fc88:5:8feb:102d:5ea6:7e41:3a5f]:55239\n"
          ]
        },
        {
          "output_type": "stream",
          "name": "stdout",
          "text": [
            "\u001b[1;35mt=2025-01-13T16:36:08+0000 lvl=info msg=\"join connections\" obj=join id=20857c2b378e l=127.0.0.1:8237 r=[2c0f:fc88:5:8feb:102d:5ea6:7e41:3a5f]:55239\u001b[0m\n",
            "\u001b[32mINFO\u001b[0m:     2c0f:fc88:5:8feb:102d:5ea6:7e41:3a5f:0 - \"\u001b[1mGET /api/v1/info HTTP/1.1\u001b[0m\" \u001b[32m200 OK\u001b[0m\n"
          ]
        },
        {
          "output_type": "stream",
          "name": "stderr",
          "text": [
            "INFO:pyngrok.process.ngrok:t=2025-01-13T16:36:13+0000 lvl=info msg=\"join connections\" obj=join id=f95f022fee3e l=127.0.0.1:8237 r=[2c0f:fc88:5:8feb:102d:5ea6:7e41:3a5f]:55239\n"
          ]
        },
        {
          "output_type": "stream",
          "name": "stdout",
          "text": [
            "\u001b[1;35mt=2025-01-13T16:36:13+0000 lvl=info msg=\"join connections\" obj=join id=f95f022fee3e l=127.0.0.1:8237 r=[2c0f:fc88:5:8feb:102d:5ea6:7e41:3a5f]:55239\u001b[0m\n",
            "\u001b[32mINFO\u001b[0m:     2c0f:fc88:5:8feb:102d:5ea6:7e41:3a5f:0 - \"\u001b[1mGET /api/v1/onboarding_state HTTP/1.1\u001b[0m\" \u001b[32m200 OK\u001b[0m\n"
          ]
        },
        {
          "output_type": "stream",
          "name": "stderr",
          "text": [
            "INFO:pyngrok.process.ngrok:t=2025-01-13T16:36:18+0000 lvl=info msg=\"join connections\" obj=join id=7c0561b0ab97 l=127.0.0.1:8237 r=[2c0f:fc88:5:8feb:102d:5ea6:7e41:3a5f]:55239\n"
          ]
        },
        {
          "output_type": "stream",
          "name": "stdout",
          "text": [
            "\u001b[1;35mt=2025-01-13T16:36:18+0000 lvl=info msg=\"join connections\" obj=join id=7c0561b0ab97 l=127.0.0.1:8237 r=[2c0f:fc88:5:8feb:102d:5ea6:7e41:3a5f]:55239\u001b[0m\n"
          ]
        },
        {
          "output_type": "stream",
          "name": "stderr",
          "text": [
            "INFO:pyngrok.process.ngrok:t=2025-01-13T16:36:18+0000 lvl=info msg=\"join connections\" obj=join id=92c3d795921d l=127.0.0.1:8237 r=[2c0f:fc88:5:8feb:102d:5ea6:7e41:3a5f]:55239\n"
          ]
        },
        {
          "output_type": "stream",
          "name": "stdout",
          "text": [
            "\u001b[1;35mt=2025-01-13T16:36:18+0000 lvl=info msg=\"join connections\" obj=join id=92c3d795921d l=127.0.0.1:8237 r=[2c0f:fc88:5:8feb:102d:5ea6:7e41:3a5f]:55239\u001b[0m\n",
            "\u001b[32mINFO\u001b[0m:     2c0f:fc88:5:8feb:102d:5ea6:7e41:3a5f:0 - \"\u001b[1mGET /assets/page-Ce4Hrjnr.js HTTP/1.1\u001b[0m\" \u001b[32m200 OK\u001b[0m\n",
            "\u001b[32mINFO\u001b[0m:     2c0f:fc88:5:8feb:102d:5ea6:7e41:3a5f:0 - \"\u001b[1mGET /api/v1/onboarding_state HTTP/1.1\u001b[0m\" \u001b[32m200 OK\u001b[0m\n"
          ]
        },
        {
          "output_type": "stream",
          "name": "stderr",
          "text": [
            "INFO:pyngrok.process.ngrok:t=2025-01-13T16:36:19+0000 lvl=info msg=\"join connections\" obj=join id=9dd426ebed8d l=127.0.0.1:8237 r=[2c0f:fc88:5:8feb:102d:5ea6:7e41:3a5f]:55239\n"
          ]
        },
        {
          "output_type": "stream",
          "name": "stdout",
          "text": [
            "\u001b[32mINFO\u001b[0m:     2c0f:fc88:5:8feb:102d:5ea6:7e41:3a5f:0 - \"\u001b[1mGET /assets/code-browser-CUFUIHfp.js HTTP/1.1\u001b[0m\" \u001b[32m200 OK\u001b[0m\n",
            "\u001b[32mINFO\u001b[0m:     2c0f:fc88:5:8feb:102d:5ea6:7e41:3a5f:0 - \"\u001b[1mGET /assets/ProviderIcon-BZpgPigN.js HTTP/1.1\u001b[0m\" \u001b[32m200 OK\u001b[0m\n",
            "\u001b[1;35mt=2025-01-13T16:36:19+0000 lvl=info msg=\"join connections\" obj=join id=9dd426ebed8d l=127.0.0.1:8237 r=[2c0f:fc88:5:8feb:102d:5ea6:7e41:3a5f]:55239\u001b[0m\n"
          ]
        },
        {
          "output_type": "stream",
          "name": "stderr",
          "text": [
            "INFO:pyngrok.process.ngrok:t=2025-01-13T16:36:19+0000 lvl=info msg=\"join connections\" obj=join id=8b5a3c8b61f7 l=127.0.0.1:8237 r=[2c0f:fc88:5:8feb:102d:5ea6:7e41:3a5f]:55239\n"
          ]
        },
        {
          "output_type": "stream",
          "name": "stdout",
          "text": [
            "\u001b[1;35mt=2025-01-13T16:36:19+0000 lvl=info msg=\"join connections\" obj=join id=8b5a3c8b61f7 l=127.0.0.1:8237 r=[2c0f:fc88:5:8feb:102d:5ea6:7e41:3a5f]:55239\u001b[0m\n",
            "\u001b[32mINFO\u001b[0m:     2c0f:fc88:5:8feb:102d:5ea6:7e41:3a5f:0 - \"\u001b[1mGET /assets/layout-BtHBmE4w.js HTTP/1.1\u001b[0m\" \u001b[32m200 OK\u001b[0m\n",
            "\u001b[32mINFO\u001b[0m:     2c0f:fc88:5:8feb:102d:5ea6:7e41:3a5f:0 - \"\u001b[1mGET /assets/gcp-CFtm4BA7.js HTTP/1.1\u001b[0m\" \u001b[32m200 OK\u001b[0m\n",
            "\u001b[32mINFO\u001b[0m:     2c0f:fc88:5:8feb:102d:5ea6:7e41:3a5f:0 - \"\u001b[1mGET /api/v1/info HTTP/1.1\u001b[0m\" \u001b[32m200 OK\u001b[0m\n"
          ]
        },
        {
          "output_type": "stream",
          "name": "stderr",
          "text": [
            "INFO:pyngrok.process.ngrok:t=2025-01-13T16:36:22+0000 lvl=info msg=\"join connections\" obj=join id=f4bde1c68471 l=127.0.0.1:8237 r=[2c0f:fc88:5:8feb:102d:5ea6:7e41:3a5f]:55239\n"
          ]
        },
        {
          "output_type": "stream",
          "name": "stdout",
          "text": [
            "\u001b[32mINFO\u001b[0m:     2c0f:fc88:5:8feb:102d:5ea6:7e41:3a5f:0 - \"\u001b[1mGET /api/v1/current-user HTTP/1.1\u001b[0m\" \u001b[32m200 OK\u001b[0m\n",
            "\u001b[32mINFO\u001b[0m:     2c0f:fc88:5:8feb:102d:5ea6:7e41:3a5f:0 - \"\u001b[1mGET /api/v1/onboarding_state HTTP/1.1\u001b[0m\" \u001b[32m200 OK\u001b[0m\n",
            "\u001b[1;35mt=2025-01-13T16:36:22+0000 lvl=info msg=\"join connections\" obj=join id=f4bde1c68471 l=127.0.0.1:8237 r=[2c0f:fc88:5:8feb:102d:5ea6:7e41:3a5f]:55239\u001b[0m\n",
            "\u001b[32mINFO\u001b[0m:     2c0f:fc88:5:8feb:102d:5ea6:7e41:3a5f:0 - \"\u001b[1mGET /api/v1/info HTTP/1.1\u001b[0m\" \u001b[32m200 OK\u001b[0m\n"
          ]
        },
        {
          "output_type": "stream",
          "name": "stderr",
          "text": [
            "INFO:pyngrok.process.ngrok:t=2025-01-13T16:36:28+0000 lvl=info msg=\"join connections\" obj=join id=7a142b627af0 l=127.0.0.1:8237 r=[2c0f:fc88:5:8feb:102d:5ea6:7e41:3a5f]:55239\n"
          ]
        },
        {
          "output_type": "stream",
          "name": "stdout",
          "text": [
            "\u001b[1;35mt=2025-01-13T16:36:28+0000 lvl=info msg=\"join connections\" obj=join id=7a142b627af0 l=127.0.0.1:8237 r=[2c0f:fc88:5:8feb:102d:5ea6:7e41:3a5f]:55239\u001b[0m\n",
            "\u001b[32mINFO\u001b[0m:     2c0f:fc88:5:8feb:102d:5ea6:7e41:3a5f:0 - \"\u001b[1mGET /api/v1/onboarding_state HTTP/1.1\u001b[0m\" \u001b[32m200 OK\u001b[0m\n"
          ]
        },
        {
          "output_type": "stream",
          "name": "stderr",
          "text": [
            "INFO:pyngrok.process.ngrok:t=2025-01-13T16:36:32+0000 lvl=info msg=\"join connections\" obj=join id=a8c166cb9792 l=127.0.0.1:8237 r=[2c0f:fc88:5:8feb:102d:5ea6:7e41:3a5f]:55239\n"
          ]
        },
        {
          "output_type": "stream",
          "name": "stdout",
          "text": [
            "\u001b[32mINFO\u001b[0m:     2c0f:fc88:5:8feb:102d:5ea6:7e41:3a5f:0 - \"\u001b[1mGET /api/v1/info HTTP/1.1\u001b[0m\" \u001b[32m200 OK\u001b[0m\n",
            "\u001b[1;35mt=2025-01-13T16:36:32+0000 lvl=info msg=\"join connections\" obj=join id=a8c166cb9792 l=127.0.0.1:8237 r=[2c0f:fc88:5:8feb:102d:5ea6:7e41:3a5f]:55239\u001b[0m\n"
          ]
        },
        {
          "output_type": "stream",
          "name": "stderr",
          "text": [
            "INFO:pyngrok.process.ngrok:t=2025-01-13T16:36:32+0000 lvl=info msg=\"join connections\" obj=join id=c81e3a45bef8 l=127.0.0.1:8237 r=[2c0f:fc88:5:8feb:102d:5ea6:7e41:3a5f]:55239\n"
          ]
        },
        {
          "output_type": "stream",
          "name": "stdout",
          "text": [
            "\u001b[32mINFO\u001b[0m:     2c0f:fc88:5:8feb:102d:5ea6:7e41:3a5f:0 - \"\u001b[1mGET /assets/cloud-squares-DeRLMopf.svg HTTP/1.1\u001b[0m\" \u001b[32m200 OK\u001b[0m\n",
            "\u001b[1;35mt=2025-01-13T16:36:32+0000 lvl=info msg=\"join connections\" obj=join id=c81e3a45bef8 l=127.0.0.1:8237 r=[2c0f:fc88:5:8feb:102d:5ea6:7e41:3a5f]:55239\u001b[0m\n",
            "\u001b[32mINFO\u001b[0m:     2c0f:fc88:5:8feb:102d:5ea6:7e41:3a5f:0 - \"\u001b[1mGET /api/v1/settings HTTP/1.1\u001b[0m\" \u001b[32m200 OK\u001b[0m\n",
            "\u001b[32mINFO\u001b[0m:     2c0f:fc88:5:8feb:102d:5ea6:7e41:3a5f:0 - \"\u001b[1mGET /assets/page-Dk32IeZm.js HTTP/1.1\u001b[0m\" \u001b[32m200 OK\u001b[0m\n"
          ]
        },
        {
          "output_type": "stream",
          "name": "stderr",
          "text": [
            "INFO:pyngrok.process.ngrok:t=2025-01-13T16:36:35+0000 lvl=info msg=\"join connections\" obj=join id=84c66440100b l=127.0.0.1:8237 r=[2c0f:fc88:5:8feb:102d:5ea6:7e41:3a5f]:55239\n"
          ]
        },
        {
          "output_type": "stream",
          "name": "stdout",
          "text": [
            "\u001b[1;35mt=2025-01-13T16:36:35+0000 lvl=info msg=\"join connections\" obj=join id=84c66440100b l=127.0.0.1:8237 r=[2c0f:fc88:5:8feb:102d:5ea6:7e41:3a5f]:55239\u001b[0m\n"
          ]
        },
        {
          "output_type": "stream",
          "name": "stderr",
          "text": [
            "INFO:pyngrok.process.ngrok:t=2025-01-13T16:36:35+0000 lvl=info msg=\"join connections\" obj=join id=992afbe2a110 l=127.0.0.1:8237 r=[2c0f:fc88:5:8feb:102d:5ea6:7e41:3a5f]:55239\n"
          ]
        },
        {
          "output_type": "stream",
          "name": "stdout",
          "text": [
            "\u001b[1;35mt=2025-01-13T16:36:35+0000 lvl=info msg=\"join connections\" obj=join id=992afbe2a110 l=127.0.0.1:8237 r=[2c0f:fc88:5:8feb:102d:5ea6:7e41:3a5f]:55239\u001b[0m\n"
          ]
        },
        {
          "output_type": "stream",
          "name": "stderr",
          "text": [
            "INFO:pyngrok.process.ngrok:t=2025-01-13T16:36:35+0000 lvl=info msg=\"join connections\" obj=join id=d830ca0bac98 l=127.0.0.1:8237 r=[2c0f:fc88:5:8feb:102d:5ea6:7e41:3a5f]:55239\n"
          ]
        },
        {
          "output_type": "stream",
          "name": "stdout",
          "text": [
            "\u001b[1;35mt=2025-01-13T16:36:35+0000 lvl=info msg=\"join connections\" obj=join id=d830ca0bac98 l=127.0.0.1:8237 r=[2c0f:fc88:5:8feb:102d:5ea6:7e41:3a5f]:55239\u001b[0m\n"
          ]
        },
        {
          "output_type": "stream",
          "name": "stderr",
          "text": [
            "INFO:pyngrok.process.ngrok:t=2025-01-13T16:36:35+0000 lvl=info msg=\"join connections\" obj=join id=d354b4dd7694 l=127.0.0.1:8237 r=[2c0f:fc88:5:8feb:102d:5ea6:7e41:3a5f]:55239\n"
          ]
        },
        {
          "output_type": "stream",
          "name": "stdout",
          "text": [
            "\u001b[1;35mt=2025-01-13T16:36:35+0000 lvl=info msg=\"join connections\" obj=join id=d354b4dd7694 l=127.0.0.1:8237 r=[2c0f:fc88:5:8feb:102d:5ea6:7e41:3a5f]:55239\u001b[0m\n"
          ]
        },
        {
          "output_type": "stream",
          "name": "stderr",
          "text": [
            "INFO:pyngrok.process.ngrok:t=2025-01-13T16:36:35+0000 lvl=info msg=\"join connections\" obj=join id=ea714cf80e46 l=127.0.0.1:8237 r=[2c0f:fc88:5:8feb:102d:5ea6:7e41:3a5f]:55239\n"
          ]
        },
        {
          "output_type": "stream",
          "name": "stdout",
          "text": [
            "\u001b[32mINFO\u001b[0m:     2c0f:fc88:5:8feb:102d:5ea6:7e41:3a5f:0 - \"\u001b[1mGET /assets/refresh-BjOeWlEq.js HTTP/1.1\u001b[0m\" \u001b[32m200 OK\u001b[0m\n",
            "\u001b[32mINFO\u001b[0m:     2c0f:fc88:5:8feb:102d:5ea6:7e41:3a5f:0 - \"\u001b[1mGET /assets/SearchField-n-ILHnaP.js HTTP/1.1\u001b[0m\" \u001b[32m200 OK\u001b[0m\n",
            "\u001b[1;35mt=2025-01-13T16:36:35+0000 lvl=info msg=\"join connections\" obj=join id=ea714cf80e46 l=127.0.0.1:8237 r=[2c0f:fc88:5:8feb:102d:5ea6:7e41:3a5f]:55239\u001b[0m\n"
          ]
        },
        {
          "output_type": "stream",
          "name": "stderr",
          "text": [
            "INFO:pyngrok.process.ngrok:t=2025-01-13T16:36:35+0000 lvl=info msg=\"join connections\" obj=join id=c56cb17e72e0 l=127.0.0.1:8237 r=[2c0f:fc88:5:8feb:102d:5ea6:7e41:3a5f]:55239\n"
          ]
        },
        {
          "output_type": "stream",
          "name": "stdout",
          "text": [
            "\u001b[1;35mt=2025-01-13T16:36:35+0000 lvl=info msg=\"join connections\" obj=join id=c56cb17e72e0 l=127.0.0.1:8237 r=[2c0f:fc88:5:8feb:102d:5ea6:7e41:3a5f]:55239\u001b[0m\n"
          ]
        },
        {
          "output_type": "stream",
          "name": "stderr",
          "text": [
            "INFO:pyngrok.process.ngrok:t=2025-01-13T16:36:35+0000 lvl=info msg=\"join connections\" obj=join id=6bd09db90c6c l=127.0.0.1:8237 r=[2c0f:fc88:5:8feb:102d:5ea6:7e41:3a5f]:55239\n"
          ]
        },
        {
          "output_type": "stream",
          "name": "stdout",
          "text": [
            "\u001b[1;35mt=2025-01-13T16:36:35+0000 lvl=info msg=\"join connections\" obj=join id=6bd09db90c6c l=127.0.0.1:8237 r=[2c0f:fc88:5:8feb:102d:5ea6:7e41:3a5f]:55239\u001b[0m\n"
          ]
        },
        {
          "output_type": "stream",
          "name": "stderr",
          "text": [
            "INFO:pyngrok.process.ngrok:t=2025-01-13T16:36:35+0000 lvl=info msg=\"join connections\" obj=join id=1665a26cb123 l=127.0.0.1:8237 r=[2c0f:fc88:5:8feb:102d:5ea6:7e41:3a5f]:55239\n"
          ]
        },
        {
          "output_type": "stream",
          "name": "stdout",
          "text": [
            "\u001b[1;35mt=2025-01-13T16:36:35+0000 lvl=info msg=\"join connections\" obj=join id=1665a26cb123 l=127.0.0.1:8237 r=[2c0f:fc88:5:8feb:102d:5ea6:7e41:3a5f]:55239\u001b[0m\n"
          ]
        },
        {
          "output_type": "stream",
          "name": "stderr",
          "text": [
            "INFO:pyngrok.process.ngrok:t=2025-01-13T16:36:35+0000 lvl=info msg=\"join connections\" obj=join id=a16869da2620 l=127.0.0.1:8237 r=[2c0f:fc88:5:8feb:102d:5ea6:7e41:3a5f]:55239\n"
          ]
        },
        {
          "output_type": "stream",
          "name": "stdout",
          "text": [
            "\u001b[1;35mt=2025-01-13T16:36:35+0000 lvl=info msg=\"join connections\" obj=join id=a16869da2620 l=127.0.0.1:8237 r=[2c0f:fc88:5:8feb:102d:5ea6:7e41:3a5f]:55239\u001b[0m\n"
          ]
        },
        {
          "output_type": "stream",
          "name": "stderr",
          "text": [
            "INFO:pyngrok.process.ngrok:t=2025-01-13T16:36:35+0000 lvl=info msg=\"join connections\" obj=join id=f3a769890df8 l=127.0.0.1:8237 r=[2c0f:fc88:5:8feb:102d:5ea6:7e41:3a5f]:55239\n"
          ]
        },
        {
          "output_type": "stream",
          "name": "stdout",
          "text": [
            "\u001b[1;35mt=2025-01-13T16:36:35+0000 lvl=info msg=\"join connections\" obj=join id=f3a769890df8 l=127.0.0.1:8237 r=[2c0f:fc88:5:8feb:102d:5ea6:7e41:3a5f]:55239\u001b[0m\n"
          ]
        },
        {
          "output_type": "stream",
          "name": "stderr",
          "text": [
            "INFO:pyngrok.process.ngrok:t=2025-01-13T16:36:35+0000 lvl=info msg=\"join connections\" obj=join id=4181759c969e l=127.0.0.1:8237 r=[2c0f:fc88:5:8feb:102d:5ea6:7e41:3a5f]:55239\n"
          ]
        },
        {
          "output_type": "stream",
          "name": "stdout",
          "text": [
            "\u001b[1;35mt=2025-01-13T16:36:35+0000 lvl=info msg=\"join connections\" obj=join id=4181759c969e l=127.0.0.1:8237 r=[2c0f:fc88:5:8feb:102d:5ea6:7e41:3a5f]:55239\u001b[0m\n"
          ]
        },
        {
          "output_type": "stream",
          "name": "stderr",
          "text": [
            "INFO:pyngrok.process.ngrok:t=2025-01-13T16:36:35+0000 lvl=info msg=\"join connections\" obj=join id=a68f7d0bb0aa l=127.0.0.1:8237 r=[2c0f:fc88:5:8feb:102d:5ea6:7e41:3a5f]:55239\n"
          ]
        },
        {
          "output_type": "stream",
          "name": "stdout",
          "text": [
            "\u001b[1;35mt=2025-01-13T16:36:35+0000 lvl=info msg=\"join connections\" obj=join id=a68f7d0bb0aa l=127.0.0.1:8237 r=[2c0f:fc88:5:8feb:102d:5ea6:7e41:3a5f]:55239\u001b[0m\n"
          ]
        },
        {
          "output_type": "stream",
          "name": "stderr",
          "text": [
            "INFO:pyngrok.process.ngrok:t=2025-01-13T16:36:35+0000 lvl=info msg=\"join connections\" obj=join id=8de7cfb764b4 l=127.0.0.1:8237 r=[2c0f:fc88:5:8feb:102d:5ea6:7e41:3a5f]:55239\n"
          ]
        },
        {
          "output_type": "stream",
          "name": "stdout",
          "text": [
            "\u001b[1;35mt=2025-01-13T16:36:35+0000 lvl=info msg=\"join connections\" obj=join id=8de7cfb764b4 l=127.0.0.1:8237 r=[2c0f:fc88:5:8feb:102d:5ea6:7e41:3a5f]:55239\u001b[0m\n"
          ]
        },
        {
          "output_type": "stream",
          "name": "stderr",
          "text": [
            "INFO:pyngrok.process.ngrok:t=2025-01-13T16:36:35+0000 lvl=info msg=\"join connections\" obj=join id=3ca570a2e0a8 l=127.0.0.1:8237 r=[2c0f:fc88:5:8feb:102d:5ea6:7e41:3a5f]:55239\n"
          ]
        },
        {
          "output_type": "stream",
          "name": "stdout",
          "text": [
            "\u001b[1;35mt=2025-01-13T16:36:35+0000 lvl=info msg=\"join connections\" obj=join id=3ca570a2e0a8 l=127.0.0.1:8237 r=[2c0f:fc88:5:8feb:102d:5ea6:7e41:3a5f]:55239\u001b[0m\n"
          ]
        },
        {
          "output_type": "stream",
          "name": "stderr",
          "text": [
            "INFO:pyngrok.process.ngrok:t=2025-01-13T16:36:35+0000 lvl=info msg=\"join connections\" obj=join id=94182d3fb068 l=127.0.0.1:8237 r=[2c0f:fc88:5:8feb:102d:5ea6:7e41:3a5f]:55239\n"
          ]
        },
        {
          "output_type": "stream",
          "name": "stdout",
          "text": [
            "\u001b[1;35mt=2025-01-13T16:36:35+0000 lvl=info msg=\"join connections\" obj=join id=94182d3fb068 l=127.0.0.1:8237 r=[2c0f:fc88:5:8feb:102d:5ea6:7e41:3a5f]:55239\u001b[0m\n"
          ]
        },
        {
          "output_type": "stream",
          "name": "stderr",
          "text": [
            "INFO:pyngrok.process.ngrok:t=2025-01-13T16:36:35+0000 lvl=info msg=\"join connections\" obj=join id=1da0fbbc55ba l=127.0.0.1:8237 r=[2c0f:fc88:5:8feb:102d:5ea6:7e41:3a5f]:55239\n"
          ]
        },
        {
          "output_type": "stream",
          "name": "stdout",
          "text": [
            "\u001b[1;35mt=2025-01-13T16:36:35+0000 lvl=info msg=\"join connections\" obj=join id=1da0fbbc55ba l=127.0.0.1:8237 r=[2c0f:fc88:5:8feb:102d:5ea6:7e41:3a5f]:55239\u001b[0m\n"
          ]
        },
        {
          "output_type": "stream",
          "name": "stderr",
          "text": [
            "INFO:pyngrok.process.ngrok:t=2025-01-13T16:36:35+0000 lvl=info msg=\"join connections\" obj=join id=436432b713c7 l=127.0.0.1:8237 r=[2c0f:fc88:5:8feb:102d:5ea6:7e41:3a5f]:55239\n"
          ]
        },
        {
          "output_type": "stream",
          "name": "stdout",
          "text": [
            "\u001b[1;35mt=2025-01-13T16:36:35+0000 lvl=info msg=\"join connections\" obj=join id=436432b713c7 l=127.0.0.1:8237 r=[2c0f:fc88:5:8feb:102d:5ea6:7e41:3a5f]:55239\u001b[0m\n"
          ]
        },
        {
          "output_type": "stream",
          "name": "stderr",
          "text": [
            "INFO:pyngrok.process.ngrok:t=2025-01-13T16:36:35+0000 lvl=info msg=\"join connections\" obj=join id=0a875ce3da96 l=127.0.0.1:8237 r=[2c0f:fc88:5:8feb:102d:5ea6:7e41:3a5f]:55239\n"
          ]
        },
        {
          "output_type": "stream",
          "name": "stdout",
          "text": [
            "\u001b[1;35mt=2025-01-13T16:36:35+0000 lvl=info msg=\"join connections\" obj=join id=0a875ce3da96 l=127.0.0.1:8237 r=[2c0f:fc88:5:8feb:102d:5ea6:7e41:3a5f]:55239\u001b[0m\n",
            "\u001b[32mINFO\u001b[0m:     2c0f:fc88:5:8feb:102d:5ea6:7e41:3a5f:0 - \"\u001b[1mGET /assets/CopyButton-B6wGAhQv.js HTTP/1.1\u001b[0m\" \u001b[32m200 OK\u001b[0m\n",
            "\u001b[32mINFO\u001b[0m:     2c0f:fc88:5:8feb:102d:5ea6:7e41:3a5f:0 - \"\u001b[1mGET /assets/url-BLwMbzES.js HTTP/1.1\u001b[0m\" \u001b[32m200 OK\u001b[0m\n",
            "\u001b[32mINFO\u001b[0m:     2c0f:fc88:5:8feb:102d:5ea6:7e41:3a5f:0 - \"\u001b[1mGET /assets/dots-horizontal-otGBOSDJ.js HTTP/1.1\u001b[0m\" \u001b[32m200 OK\u001b[0m\n",
            "\u001b[32mINFO\u001b[0m:     2c0f:fc88:5:8feb:102d:5ea6:7e41:3a5f:0 - \"\u001b[1mGET /assets/ExecutionStatus-ibAdY-dG.js HTTP/1.1\u001b[0m\" \u001b[32m200 OK\u001b[0m\n",
            "\u001b[32mINFO\u001b[0m:     2c0f:fc88:5:8feb:102d:5ea6:7e41:3a5f:0 - \"\u001b[1mGET /assets/trash-arLUMWMS.js HTTP/1.1\u001b[0m\" \u001b[32m200 OK\u001b[0m\n",
            "\u001b[32mINFO\u001b[0m:     2c0f:fc88:5:8feb:102d:5ea6:7e41:3a5f:0 - \"\u001b[1mGET /assets/RunSelector-DgRGaAc6.js HTTP/1.1\u001b[0m\" \u001b[32m200 OK\u001b[0m\n",
            "\u001b[32mINFO\u001b[0m:     2c0f:fc88:5:8feb:102d:5ea6:7e41:3a5f:0 - \"\u001b[1mGET /assets/DeleteAlertDialog-D2ELtM2W.js HTTP/1.1\u001b[0m\" \u001b[32m200 OK\u001b[0m\n",
            "\u001b[32mINFO\u001b[0m:     2c0f:fc88:5:8feb:102d:5ea6:7e41:3a5f:0 - \"\u001b[1mGET /assets/AlertDialogDropdownItem-BHd71pVS.js HTTP/1.1\u001b[0m\" \u001b[32m200 OK\u001b[0m\n",
            "\u001b[32mINFO\u001b[0m:     2c0f:fc88:5:8feb:102d:5ea6:7e41:3a5f:0 - \"\u001b[1mGET /assets/all-pipeline-runs-query-DMXkDrV2.js HTTP/1.1\u001b[0m\" \u001b[32m200 OK\u001b[0m\n",
            "\u001b[32mINFO\u001b[0m:     2c0f:fc88:5:8feb:102d:5ea6:7e41:3a5f:0 - \"\u001b[1mGET /assets/RunsBody-KecfSkjY.js HTTP/1.1\u001b[0m\" \u001b[32m200 OK\u001b[0m\n",
            "\u001b[32mINFO\u001b[0m:     2c0f:fc88:5:8feb:102d:5ea6:7e41:3a5f:0 - \"\u001b[1mGET /assets/InlineAvatar-DBA0a0-a.js HTTP/1.1\u001b[0m\" \u001b[32m200 OK\u001b[0m\n",
            "\u001b[32mINFO\u001b[0m:     2c0f:fc88:5:8feb:102d:5ea6:7e41:3a5f:0 - \"\u001b[1mGET /assets/index-Uu49AX48.js HTTP/1.1\u001b[0m\" \u001b[32m200 OK\u001b[0m\n",
            "\u001b[32mINFO\u001b[0m:     2c0f:fc88:5:8feb:102d:5ea6:7e41:3a5f:0 - \"\u001b[1mGET /assets/delete-run-DZ4hIXff.js HTTP/1.1\u001b[0m\" \u001b[32m200 OK\u001b[0m\n",
            "\u001b[32mINFO\u001b[0m:     2c0f:fc88:5:8feb:102d:5ea6:7e41:3a5f:0 - \"\u001b[1mGET /assets/Infobox-M_SMOu96.js HTTP/1.1\u001b[0m\" \u001b[32m200 OK\u001b[0m\n",
            "\u001b[32mINFO\u001b[0m:     2c0f:fc88:5:8feb:102d:5ea6:7e41:3a5f:0 - \"\u001b[1mGET /assets/zod-BwEbpOxH.js HTTP/1.1\u001b[0m\" \u001b[32m200 OK\u001b[0m\n",
            "\u001b[32mINFO\u001b[0m:     2c0f:fc88:5:8feb:102d:5ea6:7e41:3a5f:0 - \"\u001b[1mGET /assets/index.esm-Dy6Z9Ung.js HTTP/1.1\u001b[0m\" \u001b[32m200 OK\u001b[0m\n",
            "\u001b[32mINFO\u001b[0m:     2c0f:fc88:5:8feb:102d:5ea6:7e41:3a5f:0 - \"\u001b[1mGET /assets/check-circle-jNbX5-sR.js HTTP/1.1\u001b[0m\" \u001b[32m200 OK\u001b[0m\n",
            "\u001b[32mINFO\u001b[0m:     2c0f:fc88:5:8feb:102d:5ea6:7e41:3a5f:0 - \"\u001b[1mGET /assets/DisplayDate-CDMUcQHS.js HTTP/1.1\u001b[0m\" \u001b[32m200 OK\u001b[0m\n",
            "\u001b[32mINFO\u001b[0m:     2c0f:fc88:5:8feb:102d:5ea6:7e41:3a5f:0 - \"\u001b[1mGET /api/v1/pipelines?page=1&sort_by=desc%3Alatest_run HTTP/1.1\u001b[0m\" \u001b[32m200 OK\u001b[0m\n"
          ]
        },
        {
          "output_type": "stream",
          "name": "stderr",
          "text": [
            "INFO:pyngrok.process.ngrok:t=2025-01-13T16:36:47+0000 lvl=info msg=\"join connections\" obj=join id=8b3e14c4f9c1 l=127.0.0.1:8237 r=[2c0f:fc88:5:8feb:102d:5ea6:7e41:3a5f]:55239\n"
          ]
        },
        {
          "output_type": "stream",
          "name": "stdout",
          "text": [
            "\u001b[1;35mt=2025-01-13T16:36:47+0000 lvl=info msg=\"join connections\" obj=join id=8b3e14c4f9c1 l=127.0.0.1:8237 r=[2c0f:fc88:5:8feb:102d:5ea6:7e41:3a5f]:55239\u001b[0m\n",
            "\u001b[32mINFO\u001b[0m:     2c0f:fc88:5:8feb:102d:5ea6:7e41:3a5f:0 - \"\u001b[1mGET /api/v1/runs?page=1&sort_by=desc%3Aupdated HTTP/1.1\u001b[0m\" \u001b[32m200 OK\u001b[0m\n"
          ]
        },
        {
          "output_type": "stream",
          "name": "stderr",
          "text": [
            "INFO:pyngrok.process.ngrok:t=2025-01-13T16:39:03+0000 lvl=info msg=\"join connections\" obj=join id=08362c23589c l=127.0.0.1:8237 r=[2c0f:fc88:5:8feb:102d:5ea6:7e41:3a5f]:55239\n"
          ]
        },
        {
          "output_type": "stream",
          "name": "stdout",
          "text": [
            "\u001b[1;35mt=2025-01-13T16:39:03+0000 lvl=info msg=\"join connections\" obj=join id=08362c23589c l=127.0.0.1:8237 r=[2c0f:fc88:5:8feb:102d:5ea6:7e41:3a5f]:55239\u001b[0m\n"
          ]
        },
        {
          "output_type": "stream",
          "name": "stderr",
          "text": [
            "INFO:pyngrok.process.ngrok:t=2025-01-13T16:39:03+0000 lvl=info msg=\"join connections\" obj=join id=17c422eedb76 l=127.0.0.1:8237 r=[2c0f:fc88:5:8feb:102d:5ea6:7e41:3a5f]:55239\n"
          ]
        },
        {
          "output_type": "stream",
          "name": "stdout",
          "text": [
            "\u001b[1;35mt=2025-01-13T16:39:03+0000 lvl=info msg=\"join connections\" obj=join id=17c422eedb76 l=127.0.0.1:8237 r=[2c0f:fc88:5:8feb:102d:5ea6:7e41:3a5f]:55239\u001b[0m\n"
          ]
        },
        {
          "output_type": "stream",
          "name": "stderr",
          "text": [
            "INFO:pyngrok.process.ngrok:t=2025-01-13T16:39:03+0000 lvl=info msg=\"join connections\" obj=join id=33f36943f803 l=127.0.0.1:8237 r=[2c0f:fc88:5:8feb:102d:5ea6:7e41:3a5f]:55239\n"
          ]
        },
        {
          "output_type": "stream",
          "name": "stdout",
          "text": [
            "\u001b[1;35mt=2025-01-13T16:39:03+0000 lvl=info msg=\"join connections\" obj=join id=33f36943f803 l=127.0.0.1:8237 r=[2c0f:fc88:5:8feb:102d:5ea6:7e41:3a5f]:55239\u001b[0m\n"
          ]
        },
        {
          "output_type": "stream",
          "name": "stderr",
          "text": [
            "INFO:pyngrok.process.ngrok:t=2025-01-13T16:39:03+0000 lvl=info msg=\"join connections\" obj=join id=139abe208941 l=127.0.0.1:8237 r=[2c0f:fc88:5:8feb:102d:5ea6:7e41:3a5f]:55239\n"
          ]
        },
        {
          "output_type": "stream",
          "name": "stdout",
          "text": [
            "\u001b[1;35mt=2025-01-13T16:39:03+0000 lvl=info msg=\"join connections\" obj=join id=139abe208941 l=127.0.0.1:8237 r=[2c0f:fc88:5:8feb:102d:5ea6:7e41:3a5f]:55239\u001b[0m\n"
          ]
        },
        {
          "output_type": "stream",
          "name": "stderr",
          "text": [
            "INFO:pyngrok.process.ngrok:t=2025-01-13T16:39:03+0000 lvl=info msg=\"join connections\" obj=join id=9a79f6249272 l=127.0.0.1:8237 r=[2c0f:fc88:5:8feb:102d:5ea6:7e41:3a5f]:55239\n"
          ]
        },
        {
          "output_type": "stream",
          "name": "stdout",
          "text": [
            "\u001b[1;35mt=2025-01-13T16:39:03+0000 lvl=info msg=\"join connections\" obj=join id=9a79f6249272 l=127.0.0.1:8237 r=[2c0f:fc88:5:8feb:102d:5ea6:7e41:3a5f]:55239\u001b[0m\n",
            "\u001b[32mINFO\u001b[0m:     2c0f:fc88:5:8feb:102d:5ea6:7e41:3a5f:0 - \"\u001b[1mGET /api/v1/info HTTP/1.1\u001b[0m\" \u001b[32m200 OK\u001b[0m\n",
            "\u001b[32mINFO\u001b[0m:     2c0f:fc88:5:8feb:102d:5ea6:7e41:3a5f:0 - \"\u001b[1mGET /api/v1/current-user HTTP/1.1\u001b[0m\" \u001b[32m200 OK\u001b[0m\n",
            "\u001b[32mINFO\u001b[0m:     2c0f:fc88:5:8feb:102d:5ea6:7e41:3a5f:0 - \"\u001b[1mGET /api/v1/onboarding_state HTTP/1.1\u001b[0m\" \u001b[32m200 OK\u001b[0m\n",
            "\u001b[32mINFO\u001b[0m:     2c0f:fc88:5:8feb:102d:5ea6:7e41:3a5f:0 - \"\u001b[1mGET /api/v1/settings HTTP/1.1\u001b[0m\" \u001b[32m200 OK\u001b[0m\n",
            "\u001b[32mINFO\u001b[0m:     2c0f:fc88:5:8feb:102d:5ea6:7e41:3a5f:0 - \"\u001b[1mGET /api/v1/runs?page=1&sort_by=desc%3Aupdated HTTP/1.1\u001b[0m\" \u001b[32m200 OK\u001b[0m\n"
          ]
        },
        {
          "output_type": "stream",
          "name": "stderr",
          "text": [
            "INFO:pyngrok.process.ngrok:t=2025-01-13T16:43:54+0000 lvl=info msg=\"join connections\" obj=join id=ab2688462530 l=127.0.0.1:8237 r=[2c0f:fc88:5:8feb:102d:5ea6:7e41:3a5f]:56563\n"
          ]
        },
        {
          "output_type": "stream",
          "name": "stdout",
          "text": [
            "\u001b[1;35mt=2025-01-13T16:43:54+0000 lvl=info msg=\"join connections\" obj=join id=ab2688462530 l=127.0.0.1:8237 r=[2c0f:fc88:5:8feb:102d:5ea6:7e41:3a5f]:56563\u001b[0m\n"
          ]
        },
        {
          "output_type": "stream",
          "name": "stderr",
          "text": [
            "INFO:pyngrok.process.ngrok:t=2025-01-13T16:43:54+0000 lvl=info msg=\"join connections\" obj=join id=c766db51fdc3 l=127.0.0.1:8237 r=[2c0f:fc88:5:8feb:102d:5ea6:7e41:3a5f]:56563\n"
          ]
        },
        {
          "output_type": "stream",
          "name": "stdout",
          "text": [
            "\u001b[1;35mt=2025-01-13T16:43:54+0000 lvl=info msg=\"join connections\" obj=join id=c766db51fdc3 l=127.0.0.1:8237 r=[2c0f:fc88:5:8feb:102d:5ea6:7e41:3a5f]:56563\u001b[0m\n"
          ]
        },
        {
          "output_type": "stream",
          "name": "stderr",
          "text": [
            "INFO:pyngrok.process.ngrok:t=2025-01-13T16:43:54+0000 lvl=info msg=\"join connections\" obj=join id=ee99dc67554d l=127.0.0.1:8237 r=[2c0f:fc88:5:8feb:102d:5ea6:7e41:3a5f]:56563\n"
          ]
        },
        {
          "output_type": "stream",
          "name": "stdout",
          "text": [
            "\u001b[1;35mt=2025-01-13T16:43:54+0000 lvl=info msg=\"join connections\" obj=join id=ee99dc67554d l=127.0.0.1:8237 r=[2c0f:fc88:5:8feb:102d:5ea6:7e41:3a5f]:56563\u001b[0m\n"
          ]
        },
        {
          "output_type": "stream",
          "name": "stderr",
          "text": [
            "INFO:pyngrok.process.ngrok:t=2025-01-13T16:43:54+0000 lvl=info msg=\"join connections\" obj=join id=4da466a9501f l=127.0.0.1:8237 r=[2c0f:fc88:5:8feb:102d:5ea6:7e41:3a5f]:56563\n"
          ]
        },
        {
          "output_type": "stream",
          "name": "stdout",
          "text": [
            "\u001b[1;35mt=2025-01-13T16:43:54+0000 lvl=info msg=\"join connections\" obj=join id=4da466a9501f l=127.0.0.1:8237 r=[2c0f:fc88:5:8feb:102d:5ea6:7e41:3a5f]:56563\u001b[0m\n"
          ]
        },
        {
          "output_type": "stream",
          "name": "stderr",
          "text": [
            "INFO:pyngrok.process.ngrok:t=2025-01-13T16:43:54+0000 lvl=info msg=\"join connections\" obj=join id=6f9e42bd671f l=127.0.0.1:8237 r=[2c0f:fc88:5:8feb:102d:5ea6:7e41:3a5f]:56563\n"
          ]
        },
        {
          "output_type": "stream",
          "name": "stdout",
          "text": [
            "\u001b[1;35mt=2025-01-13T16:43:54+0000 lvl=info msg=\"join connections\" obj=join id=6f9e42bd671f l=127.0.0.1:8237 r=[2c0f:fc88:5:8feb:102d:5ea6:7e41:3a5f]:56563\u001b[0m\n",
            "\u001b[32mINFO\u001b[0m:     2c0f:fc88:5:8feb:102d:5ea6:7e41:3a5f:0 - \"\u001b[1mGET /api/v1/onboarding_state HTTP/1.1\u001b[0m\" \u001b[32m200 OK\u001b[0m\n",
            "\u001b[32mINFO\u001b[0m:     2c0f:fc88:5:8feb:102d:5ea6:7e41:3a5f:0 - \"\u001b[1mGET /api/v1/settings HTTP/1.1\u001b[0m\" \u001b[32m200 OK\u001b[0m\n",
            "\u001b[32mINFO\u001b[0m:     2c0f:fc88:5:8feb:102d:5ea6:7e41:3a5f:0 - \"\u001b[1mGET /api/v1/info HTTP/1.1\u001b[0m\" \u001b[32m200 OK\u001b[0m\n",
            "\u001b[32mINFO\u001b[0m:     2c0f:fc88:5:8feb:102d:5ea6:7e41:3a5f:0 - \"\u001b[1mGET /api/v1/current-user HTTP/1.1\u001b[0m\" \u001b[32m200 OK\u001b[0m\n",
            "\u001b[32mINFO\u001b[0m:     2c0f:fc88:5:8feb:102d:5ea6:7e41:3a5f:0 - \"\u001b[1mGET /api/v1/runs?page=1&sort_by=desc%3Aupdated HTTP/1.1\u001b[0m\" \u001b[32m200 OK\u001b[0m\n"
          ]
        },
        {
          "output_type": "stream",
          "name": "stderr",
          "text": [
            "INFO:pyngrok.process.ngrok:t=2025-01-13T16:45:44+0000 lvl=info msg=\"join connections\" obj=join id=ea626230b93d l=127.0.0.1:8237 r=[2c0f:fc88:5:8feb:102d:5ea6:7e41:3a5f]:57026\n"
          ]
        },
        {
          "output_type": "stream",
          "name": "stdout",
          "text": [
            "\u001b[1;35mt=2025-01-13T16:45:44+0000 lvl=info msg=\"join connections\" obj=join id=ea626230b93d l=127.0.0.1:8237 r=[2c0f:fc88:5:8feb:102d:5ea6:7e41:3a5f]:57026\u001b[0m\n"
          ]
        },
        {
          "output_type": "stream",
          "name": "stderr",
          "text": [
            "INFO:pyngrok.process.ngrok:t=2025-01-13T16:45:44+0000 lvl=info msg=\"join connections\" obj=join id=28aaf0db6b34 l=127.0.0.1:8237 r=[2c0f:fc88:5:8feb:102d:5ea6:7e41:3a5f]:57026\n"
          ]
        },
        {
          "output_type": "stream",
          "name": "stdout",
          "text": [
            "\u001b[1;35mt=2025-01-13T16:45:44+0000 lvl=info msg=\"join connections\" obj=join id=28aaf0db6b34 l=127.0.0.1:8237 r=[2c0f:fc88:5:8feb:102d:5ea6:7e41:3a5f]:57026\u001b[0m\n"
          ]
        },
        {
          "output_type": "stream",
          "name": "stderr",
          "text": [
            "INFO:pyngrok.process.ngrok:t=2025-01-13T16:45:44+0000 lvl=info msg=\"join connections\" obj=join id=a0446f970523 l=127.0.0.1:8237 r=[2c0f:fc88:5:8feb:102d:5ea6:7e41:3a5f]:57026\n"
          ]
        },
        {
          "output_type": "stream",
          "name": "stdout",
          "text": [
            "\u001b[1;35mt=2025-01-13T16:45:44+0000 lvl=info msg=\"join connections\" obj=join id=a0446f970523 l=127.0.0.1:8237 r=[2c0f:fc88:5:8feb:102d:5ea6:7e41:3a5f]:57026\u001b[0m\n"
          ]
        },
        {
          "output_type": "stream",
          "name": "stderr",
          "text": [
            "INFO:pyngrok.process.ngrok:t=2025-01-13T16:45:44+0000 lvl=info msg=\"join connections\" obj=join id=7aff9f3495f0 l=127.0.0.1:8237 r=[2c0f:fc88:5:8feb:102d:5ea6:7e41:3a5f]:57026\n"
          ]
        },
        {
          "output_type": "stream",
          "name": "stdout",
          "text": [
            "\u001b[1;35mt=2025-01-13T16:45:44+0000 lvl=info msg=\"join connections\" obj=join id=7aff9f3495f0 l=127.0.0.1:8237 r=[2c0f:fc88:5:8feb:102d:5ea6:7e41:3a5f]:57026\u001b[0m\n"
          ]
        },
        {
          "output_type": "stream",
          "name": "stderr",
          "text": [
            "INFO:pyngrok.process.ngrok:t=2025-01-13T16:45:44+0000 lvl=info msg=\"join connections\" obj=join id=52a8b8645118 l=127.0.0.1:8237 r=[2c0f:fc88:5:8feb:102d:5ea6:7e41:3a5f]:57026\n"
          ]
        },
        {
          "output_type": "stream",
          "name": "stdout",
          "text": [
            "\u001b[1;35mt=2025-01-13T16:45:44+0000 lvl=info msg=\"join connections\" obj=join id=52a8b8645118 l=127.0.0.1:8237 r=[2c0f:fc88:5:8feb:102d:5ea6:7e41:3a5f]:57026\u001b[0m\n",
            "\u001b[32mINFO\u001b[0m:     2c0f:fc88:5:8feb:102d:5ea6:7e41:3a5f:0 - \"\u001b[1mGET /api/v1/settings HTTP/1.1\u001b[0m\" \u001b[32m200 OK\u001b[0m\n",
            "\u001b[32mINFO\u001b[0m:     2c0f:fc88:5:8feb:102d:5ea6:7e41:3a5f:0 - \"\u001b[1mGET /api/v1/info HTTP/1.1\u001b[0m\" \u001b[32m200 OK\u001b[0m\n",
            "\u001b[32mINFO\u001b[0m:     2c0f:fc88:5:8feb:102d:5ea6:7e41:3a5f:0 - \"\u001b[1mGET /api/v1/onboarding_state HTTP/1.1\u001b[0m\" \u001b[32m200 OK\u001b[0m\n",
            "\u001b[32mINFO\u001b[0m:     2c0f:fc88:5:8feb:102d:5ea6:7e41:3a5f:0 - \"\u001b[1mGET /api/v1/current-user HTTP/1.1\u001b[0m\" \u001b[32m200 OK\u001b[0m\n",
            "\u001b[32mINFO\u001b[0m:     2c0f:fc88:5:8feb:102d:5ea6:7e41:3a5f:0 - \"\u001b[1mGET /api/v1/runs?page=1&sort_by=desc%3Aupdated HTTP/1.1\u001b[0m\" \u001b[32m200 OK\u001b[0m\n",
            "\u001b[32mINFO\u001b[0m:     2c0f:fc88:5:8feb:102d:5ea6:7e41:3a5f:0 - \"\u001b[1mGET /api/v1/pipelines?page=1&sort_by=desc%3Alatest_run HTTP/1.1\u001b[0m\" \u001b[32m200 OK\u001b[0m\n"
          ]
        },
        {
          "output_type": "stream",
          "name": "stderr",
          "text": [
            "INFO:pyngrok.process.ngrok:t=2025-01-13T16:46:14+0000 lvl=info msg=\"join connections\" obj=join id=370cc1c0b880 l=127.0.0.1:8237 r=[2c0f:fc88:5:8feb:102d:5ea6:7e41:3a5f]:57026\n"
          ]
        },
        {
          "output_type": "stream",
          "name": "stdout",
          "text": [
            "\u001b[1;35mt=2025-01-13T16:46:14+0000 lvl=info msg=\"join connections\" obj=join id=370cc1c0b880 l=127.0.0.1:8237 r=[2c0f:fc88:5:8feb:102d:5ea6:7e41:3a5f]:57026\u001b[0m\n",
            "\u001b[32mINFO\u001b[0m:     2c0f:fc88:5:8feb:102d:5ea6:7e41:3a5f:0 - \"\u001b[1mGET /assets/templates-1S_8WeSK.webp HTTP/1.1\u001b[0m\" \u001b[32m200 OK\u001b[0m\n",
            "\u001b[32mINFO\u001b[0m:     2c0f:fc88:5:8feb:102d:5ea6:7e41:3a5f:0 - \"\u001b[1mGET /api/v1/pipelines?page=1&sort_by=desc%3Alatest_run HTTP/1.1\u001b[0m\" \u001b[32m200 OK\u001b[0m\n",
            "\u001b[32mINFO\u001b[0m:     2c0f:fc88:5:8feb:102d:5ea6:7e41:3a5f:0 - \"\u001b[1mGET /api/v1/runs?page=1&sort_by=desc%3Aupdated HTTP/1.1\u001b[0m\" \u001b[32m200 OK\u001b[0m\n",
            "\u001b[32mINFO\u001b[0m:     2c0f:fc88:5:8feb:102d:5ea6:7e41:3a5f:0 - \"\u001b[1mGET /assets/page-zaMqB_ao.js HTTP/1.1\u001b[0m\" \u001b[32m200 OK\u001b[0m\n",
            "\u001b[32mINFO\u001b[0m:     2c0f:fc88:5:8feb:102d:5ea6:7e41:3a5f:0 - \"\u001b[1mGET /api/v1/runs?pipeline_name=digits_pipeline&page=1&sort_by=desc%3Aupdated HTTP/1.1\u001b[0m\" \u001b[32m200 OK\u001b[0m\n",
            "\u001b[32mINFO\u001b[0m:     2c0f:fc88:5:8feb:102d:5ea6:7e41:3a5f:0 - \"\u001b[1mGET /assets/page-B6XU7yYT.js HTTP/1.1\u001b[0m\" \u001b[32m200 OK\u001b[0m\n"
          ]
        },
        {
          "output_type": "stream",
          "name": "stderr",
          "text": [
            "INFO:pyngrok.process.ngrok:t=2025-01-13T16:46:26+0000 lvl=info msg=\"join connections\" obj=join id=7d41c71812b3 l=127.0.0.1:8237 r=[2c0f:fc88:5:8feb:102d:5ea6:7e41:3a5f]:57026\n"
          ]
        },
        {
          "output_type": "stream",
          "name": "stdout",
          "text": [
            "\u001b[32mINFO\u001b[0m:     2c0f:fc88:5:8feb:102d:5ea6:7e41:3a5f:0 - \"\u001b[1mGET /assets/NestedCollapsible-DpgmEFKw.js HTTP/1.1\u001b[0m\" \u001b[32m200 OK\u001b[0m\n",
            "\u001b[1;35mt=2025-01-13T16:46:26+0000 lvl=info msg=\"join connections\" obj=join id=7d41c71812b3 l=127.0.0.1:8237 r=[2c0f:fc88:5:8feb:102d:5ea6:7e41:3a5f]:57026\u001b[0m\n"
          ]
        },
        {
          "output_type": "stream",
          "name": "stderr",
          "text": [
            "INFO:pyngrok.process.ngrok:t=2025-01-13T16:46:26+0000 lvl=info msg=\"join connections\" obj=join id=e1573eef0841 l=127.0.0.1:8237 r=[2c0f:fc88:5:8feb:102d:5ea6:7e41:3a5f]:57026\n"
          ]
        },
        {
          "output_type": "stream",
          "name": "stdout",
          "text": [
            "\u001b[1;35mt=2025-01-13T16:46:26+0000 lvl=info msg=\"join connections\" obj=join id=e1573eef0841 l=127.0.0.1:8237 r=[2c0f:fc88:5:8feb:102d:5ea6:7e41:3a5f]:57026\u001b[0m\n"
          ]
        },
        {
          "output_type": "stream",
          "name": "stderr",
          "text": [
            "INFO:pyngrok.process.ngrok:t=2025-01-13T16:46:26+0000 lvl=info msg=\"join connections\" obj=join id=2341ab195850 l=127.0.0.1:8237 r=[2c0f:fc88:5:8feb:102d:5ea6:7e41:3a5f]:57026\n"
          ]
        },
        {
          "output_type": "stream",
          "name": "stdout",
          "text": [
            "\u001b[1;35mt=2025-01-13T16:46:26+0000 lvl=info msg=\"join connections\" obj=join id=2341ab195850 l=127.0.0.1:8237 r=[2c0f:fc88:5:8feb:102d:5ea6:7e41:3a5f]:57026\u001b[0m\n"
          ]
        },
        {
          "output_type": "stream",
          "name": "stderr",
          "text": [
            "INFO:pyngrok.process.ngrok:t=2025-01-13T16:46:26+0000 lvl=info msg=\"join connections\" obj=join id=2276dff92ccd l=127.0.0.1:8237 r=[2c0f:fc88:5:8feb:102d:5ea6:7e41:3a5f]:57026\n"
          ]
        },
        {
          "output_type": "stream",
          "name": "stdout",
          "text": [
            "\u001b[1;35mt=2025-01-13T16:46:26+0000 lvl=info msg=\"join connections\" obj=join id=2276dff92ccd l=127.0.0.1:8237 r=[2c0f:fc88:5:8feb:102d:5ea6:7e41:3a5f]:57026\u001b[0m\n"
          ]
        },
        {
          "output_type": "stream",
          "name": "stderr",
          "text": [
            "INFO:pyngrok.process.ngrok:t=2025-01-13T16:46:26+0000 lvl=info msg=\"join connections\" obj=join id=d9d7e4f3d0ce l=127.0.0.1:8237 r=[2c0f:fc88:5:8feb:102d:5ea6:7e41:3a5f]:57026\n"
          ]
        },
        {
          "output_type": "stream",
          "name": "stdout",
          "text": [
            "\u001b[1;35mt=2025-01-13T16:46:26+0000 lvl=info msg=\"join connections\" obj=join id=d9d7e4f3d0ce l=127.0.0.1:8237 r=[2c0f:fc88:5:8feb:102d:5ea6:7e41:3a5f]:57026\u001b[0m\n"
          ]
        },
        {
          "output_type": "stream",
          "name": "stderr",
          "text": [
            "INFO:pyngrok.process.ngrok:t=2025-01-13T16:46:26+0000 lvl=info msg=\"join connections\" obj=join id=ddf8b699ed30 l=127.0.0.1:8237 r=[2c0f:fc88:5:8feb:102d:5ea6:7e41:3a5f]:57026\n"
          ]
        },
        {
          "output_type": "stream",
          "name": "stdout",
          "text": [
            "\u001b[1;35mt=2025-01-13T16:46:26+0000 lvl=info msg=\"join connections\" obj=join id=ddf8b699ed30 l=127.0.0.1:8237 r=[2c0f:fc88:5:8feb:102d:5ea6:7e41:3a5f]:57026\u001b[0m\n"
          ]
        },
        {
          "output_type": "stream",
          "name": "stderr",
          "text": [
            "INFO:pyngrok.process.ngrok:t=2025-01-13T16:46:26+0000 lvl=info msg=\"join connections\" obj=join id=72fabc3d8f8f l=127.0.0.1:8237 r=[2c0f:fc88:5:8feb:102d:5ea6:7e41:3a5f]:57026\n"
          ]
        },
        {
          "output_type": "stream",
          "name": "stdout",
          "text": [
            "\u001b[1;35mt=2025-01-13T16:46:26+0000 lvl=info msg=\"join connections\" obj=join id=72fabc3d8f8f l=127.0.0.1:8237 r=[2c0f:fc88:5:8feb:102d:5ea6:7e41:3a5f]:57026\u001b[0m\n"
          ]
        },
        {
          "output_type": "stream",
          "name": "stderr",
          "text": [
            "INFO:pyngrok.process.ngrok:t=2025-01-13T16:46:26+0000 lvl=info msg=\"join connections\" obj=join id=c0d497fabba0 l=127.0.0.1:8237 r=[2c0f:fc88:5:8feb:102d:5ea6:7e41:3a5f]:57026\n"
          ]
        },
        {
          "output_type": "stream",
          "name": "stdout",
          "text": [
            "\u001b[1;35mt=2025-01-13T16:46:26+0000 lvl=info msg=\"join connections\" obj=join id=c0d497fabba0 l=127.0.0.1:8237 r=[2c0f:fc88:5:8feb:102d:5ea6:7e41:3a5f]:57026\u001b[0m\n"
          ]
        },
        {
          "output_type": "stream",
          "name": "stderr",
          "text": [
            "INFO:pyngrok.process.ngrok:t=2025-01-13T16:46:26+0000 lvl=info msg=\"join connections\" obj=join id=c37e72b61bfd l=127.0.0.1:8237 r=[2c0f:fc88:5:8feb:102d:5ea6:7e41:3a5f]:57026\n"
          ]
        },
        {
          "output_type": "stream",
          "name": "stdout",
          "text": [
            "\u001b[1;35mt=2025-01-13T16:46:26+0000 lvl=info msg=\"join connections\" obj=join id=c37e72b61bfd l=127.0.0.1:8237 r=[2c0f:fc88:5:8feb:102d:5ea6:7e41:3a5f]:57026\u001b[0m\n"
          ]
        },
        {
          "output_type": "stream",
          "name": "stderr",
          "text": [
            "INFO:pyngrok.process.ngrok:t=2025-01-13T16:46:26+0000 lvl=info msg=\"join connections\" obj=join id=8bf06b4c2e80 l=127.0.0.1:8237 r=[2c0f:fc88:5:8feb:102d:5ea6:7e41:3a5f]:57026\n"
          ]
        },
        {
          "output_type": "stream",
          "name": "stdout",
          "text": [
            "\u001b[1;35mt=2025-01-13T16:46:26+0000 lvl=info msg=\"join connections\" obj=join id=8bf06b4c2e80 l=127.0.0.1:8237 r=[2c0f:fc88:5:8feb:102d:5ea6:7e41:3a5f]:57026\u001b[0m\n"
          ]
        },
        {
          "output_type": "stream",
          "name": "stderr",
          "text": [
            "INFO:pyngrok.process.ngrok:t=2025-01-13T16:46:26+0000 lvl=info msg=\"join connections\" obj=join id=fcc9599af0b4 l=127.0.0.1:8237 r=[2c0f:fc88:5:8feb:102d:5ea6:7e41:3a5f]:57026\n"
          ]
        },
        {
          "output_type": "stream",
          "name": "stdout",
          "text": [
            "\u001b[32mINFO\u001b[0m:     2c0f:fc88:5:8feb:102d:5ea6:7e41:3a5f:0 - \"\u001b[1mGET /assets/code-snippets-CqONne41.js HTTP/1.1\u001b[0m\" \u001b[32m200 OK\u001b[0m\n",
            "\u001b[1;35mt=2025-01-13T16:46:26+0000 lvl=info msg=\"join connections\" obj=join id=fcc9599af0b4 l=127.0.0.1:8237 r=[2c0f:fc88:5:8feb:102d:5ea6:7e41:3a5f]:57026\u001b[0m\n"
          ]
        },
        {
          "output_type": "stream",
          "name": "stderr",
          "text": [
            "INFO:pyngrok.process.ngrok:t=2025-01-13T16:46:26+0000 lvl=info msg=\"join connections\" obj=join id=e6f32fdaa965 l=127.0.0.1:8237 r=[2c0f:fc88:5:8feb:102d:5ea6:7e41:3a5f]:57026\n"
          ]
        },
        {
          "output_type": "stream",
          "name": "stdout",
          "text": [
            "\u001b[1;35mt=2025-01-13T16:46:26+0000 lvl=info msg=\"join connections\" obj=join id=e6f32fdaa965 l=127.0.0.1:8237 r=[2c0f:fc88:5:8feb:102d:5ea6:7e41:3a5f]:57026\u001b[0m\n",
            "\u001b[32mINFO\u001b[0m:     2c0f:fc88:5:8feb:102d:5ea6:7e41:3a5f:0 - \"\u001b[1mGET /assets/stack-detail-query-XfZBiBP2.js HTTP/1.1\u001b[0m\" \u001b[32m200 OK\u001b[0m\n",
            "\u001b[32mINFO\u001b[0m:     2c0f:fc88:5:8feb:102d:5ea6:7e41:3a5f:0 - \"\u001b[1mGET /assets/CollapsibleCard-CDnC97pB.js HTTP/1.1\u001b[0m\" \u001b[32m200 OK\u001b[0m\n",
            "\u001b[32mINFO\u001b[0m:     2c0f:fc88:5:8feb:102d:5ea6:7e41:3a5f:0 - \"\u001b[1mGET /assets/Error-B8uUfTpL.js HTTP/1.1\u001b[0m\" \u001b[32m200 OK\u001b[0m\n",
            "\u001b[32mINFO\u001b[0m:     2c0f:fc88:5:8feb:102d:5ea6:7e41:3a5f:0 - \"\u001b[1mGET /assets/logs-WMSM52RF.js HTTP/1.1\u001b[0m\" \u001b[32m200 OK\u001b[0m\n",
            "\u001b[32mINFO\u001b[0m:     2c0f:fc88:5:8feb:102d:5ea6:7e41:3a5f:0 - \"\u001b[1mGET /assets/index-I3bKUGUj.js HTTP/1.1\u001b[0m\" \u001b[32m200 OK\u001b[0m\n",
            "\u001b[32mINFO\u001b[0m:     2c0f:fc88:5:8feb:102d:5ea6:7e41:3a5f:0 - \"\u001b[1mGET /assets/tick-circle-BEX_Tp4v.js HTTP/1.1\u001b[0m\" \u001b[32m200 OK\u001b[0m\n",
            "\u001b[32mINFO\u001b[0m:     2c0f:fc88:5:8feb:102d:5ea6:7e41:3a5f:0 - \"\u001b[1mGET /assets/dates-3pMLCNrD.js HTTP/1.1\u001b[0m\" \u001b[32m200 OK\u001b[0m\n",
            "\u001b[32mINFO\u001b[0m:     2c0f:fc88:5:8feb:102d:5ea6:7e41:3a5f:0 - \"\u001b[1mGET /assets/EmptyState-BzdlCwp3.js HTTP/1.1\u001b[0m\" \u001b[32m200 OK\u001b[0m\n",
            "\u001b[32mINFO\u001b[0m:     2c0f:fc88:5:8feb:102d:5ea6:7e41:3a5f:0 - \"\u001b[1mGET /assets/docker-BdA9vrnW.js HTTP/1.1\u001b[0m\" \u001b[32m200 OK\u001b[0m\n",
            "\u001b[32mINFO\u001b[0m:     2c0f:fc88:5:8feb:102d:5ea6:7e41:3a5f:0 - \"\u001b[1mGET /assets/rocket-DjT2cDvG.js HTTP/1.1\u001b[0m\" \u001b[32m200 OK\u001b[0m\n",
            "\u001b[32mINFO\u001b[0m:     2c0f:fc88:5:8feb:102d:5ea6:7e41:3a5f:0 - \"\u001b[1mGET /assets/ComponentBadge-CrRvovox.js HTTP/1.1\u001b[0m\" \u001b[32m200 OK\u001b[0m\n",
            "\u001b[32mINFO\u001b[0m:     2c0f:fc88:5:8feb:102d:5ea6:7e41:3a5f:0 - \"\u001b[1mGET /api/v1/info HTTP/1.1\u001b[0m\" \u001b[32m200 OK\u001b[0m\n",
            "\u001b[32mINFO\u001b[0m:     2c0f:fc88:5:8feb:102d:5ea6:7e41:3a5f:0 - \"\u001b[1mGET /api/v1/runs/85e2fe4d-66aa-494e-9324-d3c7651e33ff HTTP/1.1\u001b[0m\" \u001b[32m200 OK\u001b[0m\n",
            "\u001b[32mINFO\u001b[0m:     2c0f:fc88:5:8feb:102d:5ea6:7e41:3a5f:0 - \"\u001b[1mGET /api/v1/pipeline_deployments/74448205-f662-4092-9260-131dcd6d1b4f HTTP/1.1\u001b[0m\" \u001b[32m200 OK\u001b[0m\n"
          ]
        }
      ]
    }
  ]
}